{
 "cells": [
  {
   "cell_type": "code",
   "execution_count": 11,
   "id": "initial_id",
   "metadata": {},
   "outputs": [],
   "source": [
    "import os \n",
    "import pandas as pd \n",
    "import pandas as pd\n",
    "import plotly.express as px\n",
    "import plotly.graph_objects as go\n",
    "import seaborn as sns"
   ]
  },
  {
   "cell_type": "markdown",
   "id": "9fa8f0b4-1121-4394-ae3b-aabce8fb04de",
   "metadata": {},
   "source": [
    "## Load Data"
   ]
  },
  {
   "cell_type": "code",
   "execution_count": 28,
   "id": "6ba87433-4372-4e3c-9413-5a94ad435716",
   "metadata": {},
   "outputs": [],
   "source": [
    "current_weather_data = pd.read_csv(r'C:\\Users\\eleni\\PycharmProjects\\SmartEnergyAgent\\data\\raw\\current_weather_data.csv')\n",
    "hourly_forecast_data = pd.read_csv(r'C:\\Users\\eleni\\PycharmProjects\\SmartEnergyAgent\\data\\raw\\hourly_forecast_data.csv')"
   ]
  },
  {
   "cell_type": "code",
   "execution_count": 29,
   "id": "c9b3788a-c6be-4a3e-ad6f-52d49b380c6f",
   "metadata": {},
   "outputs": [
    {
     "data": {
      "text/html": [
       "<div>\n",
       "<style scoped>\n",
       "    .dataframe tbody tr th:only-of-type {\n",
       "        vertical-align: middle;\n",
       "    }\n",
       "\n",
       "    .dataframe tbody tr th {\n",
       "        vertical-align: top;\n",
       "    }\n",
       "\n",
       "    .dataframe thead th {\n",
       "        text-align: right;\n",
       "    }\n",
       "</style>\n",
       "<table border=\"1\" class=\"dataframe\">\n",
       "  <thead>\n",
       "    <tr style=\"text-align: right;\">\n",
       "      <th></th>\n",
       "      <th>Unnamed: 0</th>\n",
       "      <th>timestamp</th>\n",
       "      <th>temperature_2m</th>\n",
       "      <th>relative_humidity_2m</th>\n",
       "      <th>precipitation</th>\n",
       "      <th>rain</th>\n",
       "      <th>snowfall</th>\n",
       "      <th>weather_code</th>\n",
       "      <th>wind_speed_10m</th>\n",
       "      <th>wind_direction_10m</th>\n",
       "      <th>surface_pressure</th>\n",
       "      <th>cloud_cover</th>\n",
       "      <th>is_day</th>\n",
       "      <th>shortwave_radiation</th>\n",
       "      <th>weather_description</th>\n",
       "      <th>wind_direction_cardinal</th>\n",
       "    </tr>\n",
       "  </thead>\n",
       "  <tbody>\n",
       "    <tr>\n",
       "      <th>0</th>\n",
       "      <td>0</td>\n",
       "      <td>2025-07-04 00:00:00+00:00</td>\n",
       "      <td>17.3</td>\n",
       "      <td>57</td>\n",
       "      <td>0.0</td>\n",
       "      <td>0.0</td>\n",
       "      <td>0.0</td>\n",
       "      <td>3</td>\n",
       "      <td>0.3</td>\n",
       "      <td>52</td>\n",
       "      <td>1027.5</td>\n",
       "      <td>100</td>\n",
       "      <td>0</td>\n",
       "      <td>0.0</td>\n",
       "      <td>Overcast</td>\n",
       "      <td>NE</td>\n",
       "    </tr>\n",
       "  </tbody>\n",
       "</table>\n",
       "</div>"
      ],
      "text/plain": [
       "   Unnamed: 0                  timestamp  temperature_2m  \\\n",
       "0           0  2025-07-04 00:00:00+00:00            17.3   \n",
       "\n",
       "   relative_humidity_2m  precipitation  rain  snowfall  weather_code  \\\n",
       "0                    57            0.0   0.0       0.0             3   \n",
       "\n",
       "   wind_speed_10m  wind_direction_10m  surface_pressure  cloud_cover  is_day  \\\n",
       "0             0.3                  52            1027.5          100       0   \n",
       "\n",
       "   shortwave_radiation weather_description wind_direction_cardinal  \n",
       "0                  0.0            Overcast                      NE  "
      ]
     },
     "execution_count": 29,
     "metadata": {},
     "output_type": "execute_result"
    }
   ],
   "source": [
    "current_weather_data.head()"
   ]
  },
  {
   "cell_type": "code",
   "execution_count": 30,
   "id": "335ba4a5-0c62-4859-8048-d776c6513903",
   "metadata": {},
   "outputs": [
    {
     "data": {
      "text/html": [
       "<div>\n",
       "<style scoped>\n",
       "    .dataframe tbody tr th:only-of-type {\n",
       "        vertical-align: middle;\n",
       "    }\n",
       "\n",
       "    .dataframe tbody tr th {\n",
       "        vertical-align: top;\n",
       "    }\n",
       "\n",
       "    .dataframe thead th {\n",
       "        text-align: right;\n",
       "    }\n",
       "</style>\n",
       "<table border=\"1\" class=\"dataframe\">\n",
       "  <thead>\n",
       "    <tr style=\"text-align: right;\">\n",
       "      <th></th>\n",
       "      <th>Unnamed: 0</th>\n",
       "      <th>timestamp</th>\n",
       "      <th>temperature_2m</th>\n",
       "      <th>relative_humidity_2m</th>\n",
       "      <th>precipitation</th>\n",
       "      <th>rain</th>\n",
       "      <th>snowfall</th>\n",
       "      <th>weather_code</th>\n",
       "      <th>wind_speed_10m</th>\n",
       "      <th>wind_direction_10m</th>\n",
       "      <th>surface_pressure</th>\n",
       "      <th>cloud_cover</th>\n",
       "      <th>is_day</th>\n",
       "      <th>shortwave_radiation</th>\n",
       "      <th>weather_description</th>\n",
       "      <th>wind_direction_cardinal</th>\n",
       "    </tr>\n",
       "  </thead>\n",
       "  <tbody>\n",
       "    <tr>\n",
       "      <th>0</th>\n",
       "      <td>0</td>\n",
       "      <td>2025-07-03 00:00:00+00:00</td>\n",
       "      <td>17.7</td>\n",
       "      <td>78</td>\n",
       "      <td>0.0</td>\n",
       "      <td>0.0</td>\n",
       "      <td>0.0</td>\n",
       "      <td>0</td>\n",
       "      <td>5.4</td>\n",
       "      <td>322</td>\n",
       "      <td>1019.6</td>\n",
       "      <td>0</td>\n",
       "      <td>0</td>\n",
       "      <td>0.0</td>\n",
       "      <td>Clear sky</td>\n",
       "      <td>NW</td>\n",
       "    </tr>\n",
       "    <tr>\n",
       "      <th>1</th>\n",
       "      <td>1</td>\n",
       "      <td>2025-07-03 01:00:00+00:00</td>\n",
       "      <td>17.6</td>\n",
       "      <td>74</td>\n",
       "      <td>0.0</td>\n",
       "      <td>0.0</td>\n",
       "      <td>0.0</td>\n",
       "      <td>0</td>\n",
       "      <td>5.8</td>\n",
       "      <td>323</td>\n",
       "      <td>1020.4</td>\n",
       "      <td>0</td>\n",
       "      <td>0</td>\n",
       "      <td>0.0</td>\n",
       "      <td>Clear sky</td>\n",
       "      <td>NW</td>\n",
       "    </tr>\n",
       "    <tr>\n",
       "      <th>2</th>\n",
       "      <td>2</td>\n",
       "      <td>2025-07-03 02:00:00+00:00</td>\n",
       "      <td>17.2</td>\n",
       "      <td>77</td>\n",
       "      <td>0.0</td>\n",
       "      <td>0.0</td>\n",
       "      <td>0.0</td>\n",
       "      <td>0</td>\n",
       "      <td>6.6</td>\n",
       "      <td>313</td>\n",
       "      <td>1020.8</td>\n",
       "      <td>0</td>\n",
       "      <td>0</td>\n",
       "      <td>0.0</td>\n",
       "      <td>Clear sky</td>\n",
       "      <td>NW</td>\n",
       "    </tr>\n",
       "    <tr>\n",
       "      <th>3</th>\n",
       "      <td>3</td>\n",
       "      <td>2025-07-03 03:00:00+00:00</td>\n",
       "      <td>16.9</td>\n",
       "      <td>68</td>\n",
       "      <td>0.0</td>\n",
       "      <td>0.0</td>\n",
       "      <td>0.0</td>\n",
       "      <td>0</td>\n",
       "      <td>6.7</td>\n",
       "      <td>314</td>\n",
       "      <td>1021.2</td>\n",
       "      <td>0</td>\n",
       "      <td>0</td>\n",
       "      <td>0.0</td>\n",
       "      <td>Clear sky</td>\n",
       "      <td>NW</td>\n",
       "    </tr>\n",
       "    <tr>\n",
       "      <th>4</th>\n",
       "      <td>4</td>\n",
       "      <td>2025-07-03 04:00:00+00:00</td>\n",
       "      <td>15.9</td>\n",
       "      <td>68</td>\n",
       "      <td>0.0</td>\n",
       "      <td>0.0</td>\n",
       "      <td>0.0</td>\n",
       "      <td>0</td>\n",
       "      <td>6.3</td>\n",
       "      <td>306</td>\n",
       "      <td>1021.7</td>\n",
       "      <td>0</td>\n",
       "      <td>0</td>\n",
       "      <td>0.0</td>\n",
       "      <td>Clear sky</td>\n",
       "      <td>NW</td>\n",
       "    </tr>\n",
       "  </tbody>\n",
       "</table>\n",
       "</div>"
      ],
      "text/plain": [
       "   Unnamed: 0                  timestamp  temperature_2m  \\\n",
       "0           0  2025-07-03 00:00:00+00:00            17.7   \n",
       "1           1  2025-07-03 01:00:00+00:00            17.6   \n",
       "2           2  2025-07-03 02:00:00+00:00            17.2   \n",
       "3           3  2025-07-03 03:00:00+00:00            16.9   \n",
       "4           4  2025-07-03 04:00:00+00:00            15.9   \n",
       "\n",
       "   relative_humidity_2m  precipitation  rain  snowfall  weather_code  \\\n",
       "0                    78            0.0   0.0       0.0             0   \n",
       "1                    74            0.0   0.0       0.0             0   \n",
       "2                    77            0.0   0.0       0.0             0   \n",
       "3                    68            0.0   0.0       0.0             0   \n",
       "4                    68            0.0   0.0       0.0             0   \n",
       "\n",
       "   wind_speed_10m  wind_direction_10m  surface_pressure  cloud_cover  is_day  \\\n",
       "0             5.4                 322            1019.6            0       0   \n",
       "1             5.8                 323            1020.4            0       0   \n",
       "2             6.6                 313            1020.8            0       0   \n",
       "3             6.7                 314            1021.2            0       0   \n",
       "4             6.3                 306            1021.7            0       0   \n",
       "\n",
       "   shortwave_radiation weather_description wind_direction_cardinal  \n",
       "0                  0.0           Clear sky                      NW  \n",
       "1                  0.0           Clear sky                      NW  \n",
       "2                  0.0           Clear sky                      NW  \n",
       "3                  0.0           Clear sky                      NW  \n",
       "4                  0.0           Clear sky                      NW  "
      ]
     },
     "execution_count": 30,
     "metadata": {},
     "output_type": "execute_result"
    }
   ],
   "source": [
    "hourly_forecast_data.head()"
   ]
  },
  {
   "cell_type": "code",
   "execution_count": null,
   "id": "095dc9e6-8bb4-4652-9101-39972fb8d227",
   "metadata": {},
   "outputs": [],
   "source": [
    "hourly_forecast_data = hourly_forecast_data.drop(['snowfall', 'precipitation'], axis=1)\n",
    "hourly_forecast_data['timestamp'] = pd.to_datetime(hourly_forecast_data['timestamp'])\n",
    "hourly_forecast_data = hourly_forecast_data.set_index('timestamp')\n",
    "hourly_forecast_data = hourly_forecast_data.sort_index()"
   ]
  },
  {
   "cell_type": "code",
   "execution_count": 34,
   "id": "8214e9a9-2eb4-4014-9fb7-7a4c856d48a6",
   "metadata": {},
   "outputs": [
    {
     "name": "stdout",
     "output_type": "stream",
     "text": [
      "Unnamed: 0                 0\n",
      "temperature_2m             0\n",
      "relative_humidity_2m       0\n",
      "rain                       0\n",
      "weather_code               0\n",
      "wind_speed_10m             0\n",
      "wind_direction_10m         0\n",
      "surface_pressure           0\n",
      "cloud_cover                0\n",
      "is_day                     0\n",
      "shortwave_radiation        0\n",
      "weather_description        0\n",
      "wind_direction_cardinal    0\n",
      "dtype: int64\n"
     ]
    }
   ],
   "source": [
    "nan_counts_per_column = hourly_forecast_data.isna().sum()\n",
    "print(nan_counts_per_column)"
   ]
  },
  {
   "cell_type": "markdown",
   "id": "af9304ae-5bb2-4880-89fe-6741e9ceab41",
   "metadata": {},
   "source": [
    " # Plot"
   ]
  },
  {
   "cell_type": "code",
   "execution_count": 31,
   "id": "c011a483-c8b0-4512-b471-a4ba5a67b21b",
   "metadata": {},
   "outputs": [
    {
     "data": {
      "application/vnd.plotly.v1+json": {
       "config": {
        "plotlyServerURL": "https://plot.ly"
       },
       "data": [
        {
         "hovertemplate": "timestamp=%{x}<br>temperature_2m=%{y}<extra></extra>",
         "legendgroup": "",
         "line": {
          "color": "#636efa",
          "dash": "solid"
         },
         "marker": {
          "symbol": "circle"
         },
         "mode": "lines",
         "name": "",
         "orientation": "v",
         "showlegend": false,
         "type": "scatter",
         "x": [
          "2025-07-03T00:00:00+00:00",
          "2025-07-03T01:00:00+00:00",
          "2025-07-03T02:00:00+00:00",
          "2025-07-03T03:00:00+00:00",
          "2025-07-03T04:00:00+00:00",
          "2025-07-03T05:00:00+00:00",
          "2025-07-03T06:00:00+00:00",
          "2025-07-03T07:00:00+00:00",
          "2025-07-03T08:00:00+00:00",
          "2025-07-03T09:00:00+00:00",
          "2025-07-03T10:00:00+00:00",
          "2025-07-03T11:00:00+00:00",
          "2025-07-03T12:00:00+00:00",
          "2025-07-03T13:00:00+00:00",
          "2025-07-03T14:00:00+00:00",
          "2025-07-03T15:00:00+00:00",
          "2025-07-03T16:00:00+00:00",
          "2025-07-03T17:00:00+00:00",
          "2025-07-03T18:00:00+00:00",
          "2025-07-03T19:00:00+00:00",
          "2025-07-03T20:00:00+00:00",
          "2025-07-03T21:00:00+00:00",
          "2025-07-03T22:00:00+00:00",
          "2025-07-03T23:00:00+00:00",
          "2025-07-04T00:00:00+00:00",
          "2025-07-04T01:00:00+00:00",
          "2025-07-04T02:00:00+00:00",
          "2025-07-04T03:00:00+00:00",
          "2025-07-04T04:00:00+00:00",
          "2025-07-04T05:00:00+00:00",
          "2025-07-04T06:00:00+00:00",
          "2025-07-04T07:00:00+00:00",
          "2025-07-04T08:00:00+00:00",
          "2025-07-04T09:00:00+00:00",
          "2025-07-04T10:00:00+00:00",
          "2025-07-04T11:00:00+00:00",
          "2025-07-04T12:00:00+00:00",
          "2025-07-04T13:00:00+00:00",
          "2025-07-04T14:00:00+00:00",
          "2025-07-04T15:00:00+00:00",
          "2025-07-04T16:00:00+00:00",
          "2025-07-04T17:00:00+00:00",
          "2025-07-04T18:00:00+00:00",
          "2025-07-04T19:00:00+00:00",
          "2025-07-04T20:00:00+00:00",
          "2025-07-04T21:00:00+00:00",
          "2025-07-04T22:00:00+00:00",
          "2025-07-04T23:00:00+00:00",
          "2025-07-05T00:00:00+00:00",
          "2025-07-05T01:00:00+00:00",
          "2025-07-05T02:00:00+00:00",
          "2025-07-05T03:00:00+00:00",
          "2025-07-05T04:00:00+00:00",
          "2025-07-05T05:00:00+00:00",
          "2025-07-05T06:00:00+00:00",
          "2025-07-05T07:00:00+00:00",
          "2025-07-05T08:00:00+00:00",
          "2025-07-05T09:00:00+00:00",
          "2025-07-05T10:00:00+00:00",
          "2025-07-05T11:00:00+00:00",
          "2025-07-05T12:00:00+00:00",
          "2025-07-05T13:00:00+00:00",
          "2025-07-05T14:00:00+00:00",
          "2025-07-05T15:00:00+00:00",
          "2025-07-05T16:00:00+00:00",
          "2025-07-05T17:00:00+00:00",
          "2025-07-05T18:00:00+00:00",
          "2025-07-05T19:00:00+00:00",
          "2025-07-05T20:00:00+00:00",
          "2025-07-05T21:00:00+00:00",
          "2025-07-05T22:00:00+00:00",
          "2025-07-05T23:00:00+00:00",
          "2025-07-06T00:00:00+00:00",
          "2025-07-06T01:00:00+00:00",
          "2025-07-06T02:00:00+00:00",
          "2025-07-06T03:00:00+00:00",
          "2025-07-06T04:00:00+00:00",
          "2025-07-06T05:00:00+00:00",
          "2025-07-06T06:00:00+00:00",
          "2025-07-06T07:00:00+00:00",
          "2025-07-06T08:00:00+00:00",
          "2025-07-06T09:00:00+00:00",
          "2025-07-06T10:00:00+00:00",
          "2025-07-06T11:00:00+00:00",
          "2025-07-06T12:00:00+00:00",
          "2025-07-06T13:00:00+00:00",
          "2025-07-06T14:00:00+00:00",
          "2025-07-06T15:00:00+00:00",
          "2025-07-06T16:00:00+00:00",
          "2025-07-06T17:00:00+00:00",
          "2025-07-06T18:00:00+00:00",
          "2025-07-06T19:00:00+00:00",
          "2025-07-06T20:00:00+00:00",
          "2025-07-06T21:00:00+00:00",
          "2025-07-06T22:00:00+00:00",
          "2025-07-06T23:00:00+00:00"
         ],
         "xaxis": "x",
         "y": [
          17.7,
          17.6,
          17.2,
          16.9,
          15.9,
          15.9,
          16.1,
          16,
          16.5,
          17.3,
          17.2,
          18.7,
          19.5,
          19.8,
          20.4,
          20.7,
          20.3,
          20,
          19.5,
          19.2,
          18.8,
          18.4,
          17.8,
          17.4,
          17.3,
          17.2,
          17.1,
          16.7,
          17.1,
          16.9,
          16.1,
          17,
          18.7,
          20.5,
          21.6,
          22.2,
          22.9,
          23.2,
          23.3,
          22.7,
          23,
          23.2,
          23.4,
          23.5,
          22.9,
          22.4,
          21.5,
          21,
          21,
          20.8,
          20.5,
          20,
          19.8,
          19.6,
          19.5,
          19.6,
          19.5,
          19.2,
          18.9,
          18.6,
          18.5,
          18.5,
          18.6,
          18.6,
          19.4,
          20.2,
          19.5,
          18.9,
          18.4,
          18.4,
          18.3,
          18.3,
          18.3,
          18.4,
          18.3,
          18.2,
          18,
          17.9,
          17.8,
          17.5,
          17.7,
          18,
          16.4,
          16.4,
          17,
          18,
          18.5,
          18.5,
          18.1,
          17.8,
          17.6,
          17.6,
          17.4,
          17,
          16.5,
          16
         ],
         "yaxis": "y"
        }
       ],
       "layout": {
        "autosize": true,
        "hovermode": "x unified",
        "legend": {
         "tracegroupgap": 0
        },
        "template": {
         "data": {
          "bar": [
           {
            "error_x": {
             "color": "#2a3f5f"
            },
            "error_y": {
             "color": "#2a3f5f"
            },
            "marker": {
             "line": {
              "color": "#E5ECF6",
              "width": 0.5
             },
             "pattern": {
              "fillmode": "overlay",
              "size": 10,
              "solidity": 0.2
             }
            },
            "type": "bar"
           }
          ],
          "barpolar": [
           {
            "marker": {
             "line": {
              "color": "#E5ECF6",
              "width": 0.5
             },
             "pattern": {
              "fillmode": "overlay",
              "size": 10,
              "solidity": 0.2
             }
            },
            "type": "barpolar"
           }
          ],
          "carpet": [
           {
            "aaxis": {
             "endlinecolor": "#2a3f5f",
             "gridcolor": "white",
             "linecolor": "white",
             "minorgridcolor": "white",
             "startlinecolor": "#2a3f5f"
            },
            "baxis": {
             "endlinecolor": "#2a3f5f",
             "gridcolor": "white",
             "linecolor": "white",
             "minorgridcolor": "white",
             "startlinecolor": "#2a3f5f"
            },
            "type": "carpet"
           }
          ],
          "choropleth": [
           {
            "colorbar": {
             "outlinewidth": 0,
             "ticks": ""
            },
            "type": "choropleth"
           }
          ],
          "contour": [
           {
            "colorbar": {
             "outlinewidth": 0,
             "ticks": ""
            },
            "colorscale": [
             [
              0,
              "#0d0887"
             ],
             [
              0.1111111111111111,
              "#46039f"
             ],
             [
              0.2222222222222222,
              "#7201a8"
             ],
             [
              0.3333333333333333,
              "#9c179e"
             ],
             [
              0.4444444444444444,
              "#bd3786"
             ],
             [
              0.5555555555555556,
              "#d8576b"
             ],
             [
              0.6666666666666666,
              "#ed7953"
             ],
             [
              0.7777777777777778,
              "#fb9f3a"
             ],
             [
              0.8888888888888888,
              "#fdca26"
             ],
             [
              1,
              "#f0f921"
             ]
            ],
            "type": "contour"
           }
          ],
          "contourcarpet": [
           {
            "colorbar": {
             "outlinewidth": 0,
             "ticks": ""
            },
            "type": "contourcarpet"
           }
          ],
          "heatmap": [
           {
            "colorbar": {
             "outlinewidth": 0,
             "ticks": ""
            },
            "colorscale": [
             [
              0,
              "#0d0887"
             ],
             [
              0.1111111111111111,
              "#46039f"
             ],
             [
              0.2222222222222222,
              "#7201a8"
             ],
             [
              0.3333333333333333,
              "#9c179e"
             ],
             [
              0.4444444444444444,
              "#bd3786"
             ],
             [
              0.5555555555555556,
              "#d8576b"
             ],
             [
              0.6666666666666666,
              "#ed7953"
             ],
             [
              0.7777777777777778,
              "#fb9f3a"
             ],
             [
              0.8888888888888888,
              "#fdca26"
             ],
             [
              1,
              "#f0f921"
             ]
            ],
            "type": "heatmap"
           }
          ],
          "heatmapgl": [
           {
            "colorbar": {
             "outlinewidth": 0,
             "ticks": ""
            },
            "colorscale": [
             [
              0,
              "#0d0887"
             ],
             [
              0.1111111111111111,
              "#46039f"
             ],
             [
              0.2222222222222222,
              "#7201a8"
             ],
             [
              0.3333333333333333,
              "#9c179e"
             ],
             [
              0.4444444444444444,
              "#bd3786"
             ],
             [
              0.5555555555555556,
              "#d8576b"
             ],
             [
              0.6666666666666666,
              "#ed7953"
             ],
             [
              0.7777777777777778,
              "#fb9f3a"
             ],
             [
              0.8888888888888888,
              "#fdca26"
             ],
             [
              1,
              "#f0f921"
             ]
            ],
            "type": "heatmapgl"
           }
          ],
          "histogram": [
           {
            "marker": {
             "pattern": {
              "fillmode": "overlay",
              "size": 10,
              "solidity": 0.2
             }
            },
            "type": "histogram"
           }
          ],
          "histogram2d": [
           {
            "colorbar": {
             "outlinewidth": 0,
             "ticks": ""
            },
            "colorscale": [
             [
              0,
              "#0d0887"
             ],
             [
              0.1111111111111111,
              "#46039f"
             ],
             [
              0.2222222222222222,
              "#7201a8"
             ],
             [
              0.3333333333333333,
              "#9c179e"
             ],
             [
              0.4444444444444444,
              "#bd3786"
             ],
             [
              0.5555555555555556,
              "#d8576b"
             ],
             [
              0.6666666666666666,
              "#ed7953"
             ],
             [
              0.7777777777777778,
              "#fb9f3a"
             ],
             [
              0.8888888888888888,
              "#fdca26"
             ],
             [
              1,
              "#f0f921"
             ]
            ],
            "type": "histogram2d"
           }
          ],
          "histogram2dcontour": [
           {
            "colorbar": {
             "outlinewidth": 0,
             "ticks": ""
            },
            "colorscale": [
             [
              0,
              "#0d0887"
             ],
             [
              0.1111111111111111,
              "#46039f"
             ],
             [
              0.2222222222222222,
              "#7201a8"
             ],
             [
              0.3333333333333333,
              "#9c179e"
             ],
             [
              0.4444444444444444,
              "#bd3786"
             ],
             [
              0.5555555555555556,
              "#d8576b"
             ],
             [
              0.6666666666666666,
              "#ed7953"
             ],
             [
              0.7777777777777778,
              "#fb9f3a"
             ],
             [
              0.8888888888888888,
              "#fdca26"
             ],
             [
              1,
              "#f0f921"
             ]
            ],
            "type": "histogram2dcontour"
           }
          ],
          "mesh3d": [
           {
            "colorbar": {
             "outlinewidth": 0,
             "ticks": ""
            },
            "type": "mesh3d"
           }
          ],
          "parcoords": [
           {
            "line": {
             "colorbar": {
              "outlinewidth": 0,
              "ticks": ""
             }
            },
            "type": "parcoords"
           }
          ],
          "pie": [
           {
            "automargin": true,
            "type": "pie"
           }
          ],
          "scatter": [
           {
            "fillpattern": {
             "fillmode": "overlay",
             "size": 10,
             "solidity": 0.2
            },
            "type": "scatter"
           }
          ],
          "scatter3d": [
           {
            "line": {
             "colorbar": {
              "outlinewidth": 0,
              "ticks": ""
             }
            },
            "marker": {
             "colorbar": {
              "outlinewidth": 0,
              "ticks": ""
             }
            },
            "type": "scatter3d"
           }
          ],
          "scattercarpet": [
           {
            "marker": {
             "colorbar": {
              "outlinewidth": 0,
              "ticks": ""
             }
            },
            "type": "scattercarpet"
           }
          ],
          "scattergeo": [
           {
            "marker": {
             "colorbar": {
              "outlinewidth": 0,
              "ticks": ""
             }
            },
            "type": "scattergeo"
           }
          ],
          "scattergl": [
           {
            "marker": {
             "colorbar": {
              "outlinewidth": 0,
              "ticks": ""
             }
            },
            "type": "scattergl"
           }
          ],
          "scattermapbox": [
           {
            "marker": {
             "colorbar": {
              "outlinewidth": 0,
              "ticks": ""
             }
            },
            "type": "scattermapbox"
           }
          ],
          "scatterpolar": [
           {
            "marker": {
             "colorbar": {
              "outlinewidth": 0,
              "ticks": ""
             }
            },
            "type": "scatterpolar"
           }
          ],
          "scatterpolargl": [
           {
            "marker": {
             "colorbar": {
              "outlinewidth": 0,
              "ticks": ""
             }
            },
            "type": "scatterpolargl"
           }
          ],
          "scatterternary": [
           {
            "marker": {
             "colorbar": {
              "outlinewidth": 0,
              "ticks": ""
             }
            },
            "type": "scatterternary"
           }
          ],
          "surface": [
           {
            "colorbar": {
             "outlinewidth": 0,
             "ticks": ""
            },
            "colorscale": [
             [
              0,
              "#0d0887"
             ],
             [
              0.1111111111111111,
              "#46039f"
             ],
             [
              0.2222222222222222,
              "#7201a8"
             ],
             [
              0.3333333333333333,
              "#9c179e"
             ],
             [
              0.4444444444444444,
              "#bd3786"
             ],
             [
              0.5555555555555556,
              "#d8576b"
             ],
             [
              0.6666666666666666,
              "#ed7953"
             ],
             [
              0.7777777777777778,
              "#fb9f3a"
             ],
             [
              0.8888888888888888,
              "#fdca26"
             ],
             [
              1,
              "#f0f921"
             ]
            ],
            "type": "surface"
           }
          ],
          "table": [
           {
            "cells": {
             "fill": {
              "color": "#EBF0F8"
             },
             "line": {
              "color": "white"
             }
            },
            "header": {
             "fill": {
              "color": "#C8D4E3"
             },
             "line": {
              "color": "white"
             }
            },
            "type": "table"
           }
          ]
         },
         "layout": {
          "annotationdefaults": {
           "arrowcolor": "#2a3f5f",
           "arrowhead": 0,
           "arrowwidth": 1
          },
          "autotypenumbers": "strict",
          "coloraxis": {
           "colorbar": {
            "outlinewidth": 0,
            "ticks": ""
           }
          },
          "colorscale": {
           "diverging": [
            [
             0,
             "#8e0152"
            ],
            [
             0.1,
             "#c51b7d"
            ],
            [
             0.2,
             "#de77ae"
            ],
            [
             0.3,
             "#f1b6da"
            ],
            [
             0.4,
             "#fde0ef"
            ],
            [
             0.5,
             "#f7f7f7"
            ],
            [
             0.6,
             "#e6f5d0"
            ],
            [
             0.7,
             "#b8e186"
            ],
            [
             0.8,
             "#7fbc41"
            ],
            [
             0.9,
             "#4d9221"
            ],
            [
             1,
             "#276419"
            ]
           ],
           "sequential": [
            [
             0,
             "#0d0887"
            ],
            [
             0.1111111111111111,
             "#46039f"
            ],
            [
             0.2222222222222222,
             "#7201a8"
            ],
            [
             0.3333333333333333,
             "#9c179e"
            ],
            [
             0.4444444444444444,
             "#bd3786"
            ],
            [
             0.5555555555555556,
             "#d8576b"
            ],
            [
             0.6666666666666666,
             "#ed7953"
            ],
            [
             0.7777777777777778,
             "#fb9f3a"
            ],
            [
             0.8888888888888888,
             "#fdca26"
            ],
            [
             1,
             "#f0f921"
            ]
           ],
           "sequentialminus": [
            [
             0,
             "#0d0887"
            ],
            [
             0.1111111111111111,
             "#46039f"
            ],
            [
             0.2222222222222222,
             "#7201a8"
            ],
            [
             0.3333333333333333,
             "#9c179e"
            ],
            [
             0.4444444444444444,
             "#bd3786"
            ],
            [
             0.5555555555555556,
             "#d8576b"
            ],
            [
             0.6666666666666666,
             "#ed7953"
            ],
            [
             0.7777777777777778,
             "#fb9f3a"
            ],
            [
             0.8888888888888888,
             "#fdca26"
            ],
            [
             1,
             "#f0f921"
            ]
           ]
          },
          "colorway": [
           "#636efa",
           "#EF553B",
           "#00cc96",
           "#ab63fa",
           "#FFA15A",
           "#19d3f3",
           "#FF6692",
           "#B6E880",
           "#FF97FF",
           "#FECB52"
          ],
          "font": {
           "color": "#2a3f5f"
          },
          "geo": {
           "bgcolor": "white",
           "lakecolor": "white",
           "landcolor": "#E5ECF6",
           "showlakes": true,
           "showland": true,
           "subunitcolor": "white"
          },
          "hoverlabel": {
           "align": "left"
          },
          "hovermode": "closest",
          "mapbox": {
           "style": "light"
          },
          "paper_bgcolor": "white",
          "plot_bgcolor": "#E5ECF6",
          "polar": {
           "angularaxis": {
            "gridcolor": "white",
            "linecolor": "white",
            "ticks": ""
           },
           "bgcolor": "#E5ECF6",
           "radialaxis": {
            "gridcolor": "white",
            "linecolor": "white",
            "ticks": ""
           }
          },
          "scene": {
           "xaxis": {
            "backgroundcolor": "#E5ECF6",
            "gridcolor": "white",
            "gridwidth": 2,
            "linecolor": "white",
            "showbackground": true,
            "ticks": "",
            "zerolinecolor": "white"
           },
           "yaxis": {
            "backgroundcolor": "#E5ECF6",
            "gridcolor": "white",
            "gridwidth": 2,
            "linecolor": "white",
            "showbackground": true,
            "ticks": "",
            "zerolinecolor": "white"
           },
           "zaxis": {
            "backgroundcolor": "#E5ECF6",
            "gridcolor": "white",
            "gridwidth": 2,
            "linecolor": "white",
            "showbackground": true,
            "ticks": "",
            "zerolinecolor": "white"
           }
          },
          "shapedefaults": {
           "line": {
            "color": "#2a3f5f"
           }
          },
          "ternary": {
           "aaxis": {
            "gridcolor": "white",
            "linecolor": "white",
            "ticks": ""
           },
           "baxis": {
            "gridcolor": "white",
            "linecolor": "white",
            "ticks": ""
           },
           "bgcolor": "#E5ECF6",
           "caxis": {
            "gridcolor": "white",
            "linecolor": "white",
            "ticks": ""
           }
          },
          "title": {
           "x": 0.05
          },
          "xaxis": {
           "automargin": true,
           "gridcolor": "white",
           "linecolor": "white",
           "ticks": "",
           "title": {
            "standoff": 15
           },
           "zerolinecolor": "white",
           "zerolinewidth": 2
          },
          "yaxis": {
           "automargin": true,
           "gridcolor": "white",
           "linecolor": "white",
           "ticks": "",
           "title": {
            "standoff": 15
           },
           "zerolinecolor": "white",
           "zerolinewidth": 2
          }
         }
        },
        "title": {
         "text": "Temperature Over Time"
        },
        "xaxis": {
         "anchor": "y",
         "autorange": true,
         "domain": [
          0,
          1
         ],
         "range": [
          "2025-07-03",
          "2025-07-06 23:00"
         ],
         "rangeselector": {
          "buttons": [
           {
            "count": 1,
            "label": "1m",
            "step": "month",
            "stepmode": "backward"
           },
           {
            "count": 6,
            "label": "6m",
            "step": "month",
            "stepmode": "backward"
           },
           {
            "count": 1,
            "label": "1y",
            "step": "year",
            "stepmode": "backward"
           },
           {
            "step": "all"
           }
          ]
         },
         "rangeslider": {
          "autorange": true,
          "range": [
           "2025-07-03",
           "2025-07-06 23:00"
          ],
          "visible": true,
          "yaxis": {
           "_template": null,
           "rangemode": "match"
          }
         },
         "title": {
          "text": "timestamp"
         },
         "type": "date"
        },
        "yaxis": {
         "anchor": "x",
         "autorange": true,
         "domain": [
          0,
          1
         ],
         "range": [
          15.477777777777778,
          23.92222222222222
         ],
         "title": {
          "text": "temperature_2m"
         },
         "type": "linear"
        }
       }
      },
      "image/png": "[encoded data removed]",
      "text/html": [
       "<div>                            <div id=\"22b197fd-0468-4c0a-a18f-910c99063181\" class=\"plotly-graph-div\" style=\"height:525px; width:100%;\"></div>            <script type=\"text/javascript\">                require([\"plotly\"], function(Plotly) {                    window.PLOTLYENV=window.PLOTLYENV || {};                                    if (document.getElementById(\"22b197fd-0468-4c0a-a18f-910c99063181\")) {                    Plotly.newPlot(                        \"22b197fd-0468-4c0a-a18f-910c99063181\",                        [{\"hovertemplate\":\"timestamp=%{x}<br>temperature_2m=%{y}<extra></extra>\",\"legendgroup\":\"\",\"line\":{\"color\":\"#636efa\",\"dash\":\"solid\"},\"marker\":{\"symbol\":\"circle\"},\"mode\":\"lines\",\"name\":\"\",\"orientation\":\"v\",\"showlegend\":false,\"x\":[\"2025-07-03T00:00:00+00:00\",\"2025-07-03T01:00:00+00:00\",\"2025-07-03T02:00:00+00:00\",\"2025-07-03T03:00:00+00:00\",\"2025-07-03T04:00:00+00:00\",\"2025-07-03T05:00:00+00:00\",\"2025-07-03T06:00:00+00:00\",\"2025-07-03T07:00:00+00:00\",\"2025-07-03T08:00:00+00:00\",\"2025-07-03T09:00:00+00:00\",\"2025-07-03T10:00:00+00:00\",\"2025-07-03T11:00:00+00:00\",\"2025-07-03T12:00:00+00:00\",\"2025-07-03T13:00:00+00:00\",\"2025-07-03T14:00:00+00:00\",\"2025-07-03T15:00:00+00:00\",\"2025-07-03T16:00:00+00:00\",\"2025-07-03T17:00:00+00:00\",\"2025-07-03T18:00:00+00:00\",\"2025-07-03T19:00:00+00:00\",\"2025-07-03T20:00:00+00:00\",\"2025-07-03T21:00:00+00:00\",\"2025-07-03T22:00:00+00:00\",\"2025-07-03T23:00:00+00:00\",\"2025-07-04T00:00:00+00:00\",\"2025-07-04T01:00:00+00:00\",\"2025-07-04T02:00:00+00:00\",\"2025-07-04T03:00:00+00:00\",\"2025-07-04T04:00:00+00:00\",\"2025-07-04T05:00:00+00:00\",\"2025-07-04T06:00:00+00:00\",\"2025-07-04T07:00:00+00:00\",\"2025-07-04T08:00:00+00:00\",\"2025-07-04T09:00:00+00:00\",\"2025-07-04T10:00:00+00:00\",\"2025-07-04T11:00:00+00:00\",\"2025-07-04T12:00:00+00:00\",\"2025-07-04T13:00:00+00:00\",\"2025-07-04T14:00:00+00:00\",\"2025-07-04T15:00:00+00:00\",\"2025-07-04T16:00:00+00:00\",\"2025-07-04T17:00:00+00:00\",\"2025-07-04T18:00:00+00:00\",\"2025-07-04T19:00:00+00:00\",\"2025-07-04T20:00:00+00:00\",\"2025-07-04T21:00:00+00:00\",\"2025-07-04T22:00:00+00:00\",\"2025-07-04T23:00:00+00:00\",\"2025-07-05T00:00:00+00:00\",\"2025-07-05T01:00:00+00:00\",\"2025-07-05T02:00:00+00:00\",\"2025-07-05T03:00:00+00:00\",\"2025-07-05T04:00:00+00:00\",\"2025-07-05T05:00:00+00:00\",\"2025-07-05T06:00:00+00:00\",\"2025-07-05T07:00:00+00:00\",\"2025-07-05T08:00:00+00:00\",\"2025-07-05T09:00:00+00:00\",\"2025-07-05T10:00:00+00:00\",\"2025-07-05T11:00:00+00:00\",\"2025-07-05T12:00:00+00:00\",\"2025-07-05T13:00:00+00:00\",\"2025-07-05T14:00:00+00:00\",\"2025-07-05T15:00:00+00:00\",\"2025-07-05T16:00:00+00:00\",\"2025-07-05T17:00:00+00:00\",\"2025-07-05T18:00:00+00:00\",\"2025-07-05T19:00:00+00:00\",\"2025-07-05T20:00:00+00:00\",\"2025-07-05T21:00:00+00:00\",\"2025-07-05T22:00:00+00:00\",\"2025-07-05T23:00:00+00:00\",\"2025-07-06T00:00:00+00:00\",\"2025-07-06T01:00:00+00:00\",\"2025-07-06T02:00:00+00:00\",\"2025-07-06T03:00:00+00:00\",\"2025-07-06T04:00:00+00:00\",\"2025-07-06T05:00:00+00:00\",\"2025-07-06T06:00:00+00:00\",\"2025-07-06T07:00:00+00:00\",\"2025-07-06T08:00:00+00:00\",\"2025-07-06T09:00:00+00:00\",\"2025-07-06T10:00:00+00:00\",\"2025-07-06T11:00:00+00:00\",\"2025-07-06T12:00:00+00:00\",\"2025-07-06T13:00:00+00:00\",\"2025-07-06T14:00:00+00:00\",\"2025-07-06T15:00:00+00:00\",\"2025-07-06T16:00:00+00:00\",\"2025-07-06T17:00:00+00:00\",\"2025-07-06T18:00:00+00:00\",\"2025-07-06T19:00:00+00:00\",\"2025-07-06T20:00:00+00:00\",\"2025-07-06T21:00:00+00:00\",\"2025-07-06T22:00:00+00:00\",\"2025-07-06T23:00:00+00:00\"],\"xaxis\":\"x\",\"y\":[17.7,17.6,17.2,16.9,15.9,15.9,16.1,16.0,16.5,17.3,17.2,18.7,19.5,19.8,20.4,20.7,20.3,20.0,19.5,19.2,18.8,18.4,17.8,17.4,17.3,17.2,17.1,16.7,17.1,16.9,16.1,17.0,18.7,20.5,21.6,22.2,22.9,23.2,23.3,22.7,23.0,23.2,23.4,23.5,22.9,22.4,21.5,21.0,21.0,20.8,20.5,20.0,19.8,19.6,19.5,19.6,19.5,19.2,18.9,18.6,18.5,18.5,18.6,18.6,19.4,20.2,19.5,18.9,18.4,18.4,18.3,18.3,18.3,18.4,18.3,18.2,18.0,17.9,17.8,17.5,17.7,18.0,16.4,16.4,17.0,18.0,18.5,18.5,18.1,17.8,17.6,17.6,17.4,17.0,16.5,16.0],\"yaxis\":\"y\",\"type\":\"scatter\"}],                        {\"template\":{\"data\":{\"histogram2dcontour\":[{\"type\":\"histogram2dcontour\",\"colorbar\":{\"outlinewidth\":0,\"ticks\":\"\"},\"colorscale\":[[0.0,\"#0d0887\"],[0.1111111111111111,\"#46039f\"],[0.2222222222222222,\"#7201a8\"],[0.3333333333333333,\"#9c179e\"],[0.4444444444444444,\"#bd3786\"],[0.5555555555555556,\"#d8576b\"],[0.6666666666666666,\"#ed7953\"],[0.7777777777777778,\"#fb9f3a\"],[0.8888888888888888,\"#fdca26\"],[1.0,\"#f0f921\"]]}],\"choropleth\":[{\"type\":\"choropleth\",\"colorbar\":{\"outlinewidth\":0,\"ticks\":\"\"}}],\"histogram2d\":[{\"type\":\"histogram2d\",\"colorbar\":{\"outlinewidth\":0,\"ticks\":\"\"},\"colorscale\":[[0.0,\"#0d0887\"],[0.1111111111111111,\"#46039f\"],[0.2222222222222222,\"#7201a8\"],[0.3333333333333333,\"#9c179e\"],[0.4444444444444444,\"#bd3786\"],[0.5555555555555556,\"#d8576b\"],[0.6666666666666666,\"#ed7953\"],[0.7777777777777778,\"#fb9f3a\"],[0.8888888888888888,\"#fdca26\"],[1.0,\"#f0f921\"]]}],\"heatmap\":[{\"type\":\"heatmap\",\"colorbar\":{\"outlinewidth\":0,\"ticks\":\"\"},\"colorscale\":[[0.0,\"#0d0887\"],[0.1111111111111111,\"#46039f\"],[0.2222222222222222,\"#7201a8\"],[0.3333333333333333,\"#9c179e\"],[0.4444444444444444,\"#bd3786\"],[0.5555555555555556,\"#d8576b\"],[0.6666666666666666,\"#ed7953\"],[0.7777777777777778,\"#fb9f3a\"],[0.8888888888888888,\"#fdca26\"],[1.0,\"#f0f921\"]]}],\"heatmapgl\":[{\"type\":\"heatmapgl\",\"colorbar\":{\"outlinewidth\":0,\"ticks\":\"\"},\"colorscale\":[[0.0,\"#0d0887\"],[0.1111111111111111,\"#46039f\"],[0.2222222222222222,\"#7201a8\"],[0.3333333333333333,\"#9c179e\"],[0.4444444444444444,\"#bd3786\"],[0.5555555555555556,\"#d8576b\"],[0.6666666666666666,\"#ed7953\"],[0.7777777777777778,\"#fb9f3a\"],[0.8888888888888888,\"#fdca26\"],[1.0,\"#f0f921\"]]}],\"contourcarpet\":[{\"type\":\"contourcarpet\",\"colorbar\":{\"outlinewidth\":0,\"ticks\":\"\"}}],\"contour\":[{\"type\":\"contour\",\"colorbar\":{\"outlinewidth\":0,\"ticks\":\"\"},\"colorscale\":[[0.0,\"#0d0887\"],[0.1111111111111111,\"#46039f\"],[0.2222222222222222,\"#7201a8\"],[0.3333333333333333,\"#9c179e\"],[0.4444444444444444,\"#bd3786\"],[0.5555555555555556,\"#d8576b\"],[0.6666666666666666,\"#ed7953\"],[0.7777777777777778,\"#fb9f3a\"],[0.8888888888888888,\"#fdca26\"],[1.0,\"#f0f921\"]]}],\"surface\":[{\"type\":\"surface\",\"colorbar\":{\"outlinewidth\":0,\"ticks\":\"\"},\"colorscale\":[[0.0,\"#0d0887\"],[0.1111111111111111,\"#46039f\"],[0.2222222222222222,\"#7201a8\"],[0.3333333333333333,\"#9c179e\"],[0.4444444444444444,\"#bd3786\"],[0.5555555555555556,\"#d8576b\"],[0.6666666666666666,\"#ed7953\"],[0.7777777777777778,\"#fb9f3a\"],[0.8888888888888888,\"#fdca26\"],[1.0,\"#f0f921\"]]}],\"mesh3d\":[{\"type\":\"mesh3d\",\"colorbar\":{\"outlinewidth\":0,\"ticks\":\"\"}}],\"scatter\":[{\"fillpattern\":{\"fillmode\":\"overlay\",\"size\":10,\"solidity\":0.2},\"type\":\"scatter\"}],\"parcoords\":[{\"type\":\"parcoords\",\"line\":{\"colorbar\":{\"outlinewidth\":0,\"ticks\":\"\"}}}],\"scatterpolargl\":[{\"type\":\"scatterpolargl\",\"marker\":{\"colorbar\":{\"outlinewidth\":0,\"ticks\":\"\"}}}],\"bar\":[{\"error_x\":{\"color\":\"#2a3f5f\"},\"error_y\":{\"color\":\"#2a3f5f\"},\"marker\":{\"line\":{\"color\":\"#E5ECF6\",\"width\":0.5},\"pattern\":{\"fillmode\":\"overlay\",\"size\":10,\"solidity\":0.2}},\"type\":\"bar\"}],\"scattergeo\":[{\"type\":\"scattergeo\",\"marker\":{\"colorbar\":{\"outlinewidth\":0,\"ticks\":\"\"}}}],\"scatterpolar\":[{\"type\":\"scatterpolar\",\"marker\":{\"colorbar\":{\"outlinewidth\":0,\"ticks\":\"\"}}}],\"histogram\":[{\"marker\":{\"pattern\":{\"fillmode\":\"overlay\",\"size\":10,\"solidity\":0.2}},\"type\":\"histogram\"}],\"scattergl\":[{\"type\":\"scattergl\",\"marker\":{\"colorbar\":{\"outlinewidth\":0,\"ticks\":\"\"}}}],\"scatter3d\":[{\"type\":\"scatter3d\",\"line\":{\"colorbar\":{\"outlinewidth\":0,\"ticks\":\"\"}},\"marker\":{\"colorbar\":{\"outlinewidth\":0,\"ticks\":\"\"}}}],\"scattermapbox\":[{\"type\":\"scattermapbox\",\"marker\":{\"colorbar\":{\"outlinewidth\":0,\"ticks\":\"\"}}}],\"scatterternary\":[{\"type\":\"scatterternary\",\"marker\":{\"colorbar\":{\"outlinewidth\":0,\"ticks\":\"\"}}}],\"scattercarpet\":[{\"type\":\"scattercarpet\",\"marker\":{\"colorbar\":{\"outlinewidth\":0,\"ticks\":\"\"}}}],\"carpet\":[{\"aaxis\":{\"endlinecolor\":\"#2a3f5f\",\"gridcolor\":\"white\",\"linecolor\":\"white\",\"minorgridcolor\":\"white\",\"startlinecolor\":\"#2a3f5f\"},\"baxis\":{\"endlinecolor\":\"#2a3f5f\",\"gridcolor\":\"white\",\"linecolor\":\"white\",\"minorgridcolor\":\"white\",\"startlinecolor\":\"#2a3f5f\"},\"type\":\"carpet\"}],\"table\":[{\"cells\":{\"fill\":{\"color\":\"#EBF0F8\"},\"line\":{\"color\":\"white\"}},\"header\":{\"fill\":{\"color\":\"#C8D4E3\"},\"line\":{\"color\":\"white\"}},\"type\":\"table\"}],\"barpolar\":[{\"marker\":{\"line\":{\"color\":\"#E5ECF6\",\"width\":0.5},\"pattern\":{\"fillmode\":\"overlay\",\"size\":10,\"solidity\":0.2}},\"type\":\"barpolar\"}],\"pie\":[{\"automargin\":true,\"type\":\"pie\"}]},\"layout\":{\"autotypenumbers\":\"strict\",\"colorway\":[\"#636efa\",\"#EF553B\",\"#00cc96\",\"#ab63fa\",\"#FFA15A\",\"#19d3f3\",\"#FF6692\",\"#B6E880\",\"#FF97FF\",\"#FECB52\"],\"font\":{\"color\":\"#2a3f5f\"},\"hovermode\":\"closest\",\"hoverlabel\":{\"align\":\"left\"},\"paper_bgcolor\":\"white\",\"plot_bgcolor\":\"#E5ECF6\",\"polar\":{\"bgcolor\":\"#E5ECF6\",\"angularaxis\":{\"gridcolor\":\"white\",\"linecolor\":\"white\",\"ticks\":\"\"},\"radialaxis\":{\"gridcolor\":\"white\",\"linecolor\":\"white\",\"ticks\":\"\"}},\"ternary\":{\"bgcolor\":\"#E5ECF6\",\"aaxis\":{\"gridcolor\":\"white\",\"linecolor\":\"white\",\"ticks\":\"\"},\"baxis\":{\"gridcolor\":\"white\",\"linecolor\":\"white\",\"ticks\":\"\"},\"caxis\":{\"gridcolor\":\"white\",\"linecolor\":\"white\",\"ticks\":\"\"}},\"coloraxis\":{\"colorbar\":{\"outlinewidth\":0,\"ticks\":\"\"}},\"colorscale\":{\"sequential\":[[0.0,\"#0d0887\"],[0.1111111111111111,\"#46039f\"],[0.2222222222222222,\"#7201a8\"],[0.3333333333333333,\"#9c179e\"],[0.4444444444444444,\"#bd3786\"],[0.5555555555555556,\"#d8576b\"],[0.6666666666666666,\"#ed7953\"],[0.7777777777777778,\"#fb9f3a\"],[0.8888888888888888,\"#fdca26\"],[1.0,\"#f0f921\"]],\"sequentialminus\":[[0.0,\"#0d0887\"],[0.1111111111111111,\"#46039f\"],[0.2222222222222222,\"#7201a8\"],[0.3333333333333333,\"#9c179e\"],[0.4444444444444444,\"#bd3786\"],[0.5555555555555556,\"#d8576b\"],[0.6666666666666666,\"#ed7953\"],[0.7777777777777778,\"#fb9f3a\"],[0.8888888888888888,\"#fdca26\"],[1.0,\"#f0f921\"]],\"diverging\":[[0,\"#8e0152\"],[0.1,\"#c51b7d\"],[0.2,\"#de77ae\"],[0.3,\"#f1b6da\"],[0.4,\"#fde0ef\"],[0.5,\"#f7f7f7\"],[0.6,\"#e6f5d0\"],[0.7,\"#b8e186\"],[0.8,\"#7fbc41\"],[0.9,\"#4d9221\"],[1,\"#276419\"]]},\"xaxis\":{\"gridcolor\":\"white\",\"linecolor\":\"white\",\"ticks\":\"\",\"title\":{\"standoff\":15},\"zerolinecolor\":\"white\",\"automargin\":true,\"zerolinewidth\":2},\"yaxis\":{\"gridcolor\":\"white\",\"linecolor\":\"white\",\"ticks\":\"\",\"title\":{\"standoff\":15},\"zerolinecolor\":\"white\",\"automargin\":true,\"zerolinewidth\":2},\"scene\":{\"xaxis\":{\"backgroundcolor\":\"#E5ECF6\",\"gridcolor\":\"white\",\"linecolor\":\"white\",\"showbackground\":true,\"ticks\":\"\",\"zerolinecolor\":\"white\",\"gridwidth\":2},\"yaxis\":{\"backgroundcolor\":\"#E5ECF6\",\"gridcolor\":\"white\",\"linecolor\":\"white\",\"showbackground\":true,\"ticks\":\"\",\"zerolinecolor\":\"white\",\"gridwidth\":2},\"zaxis\":{\"backgroundcolor\":\"#E5ECF6\",\"gridcolor\":\"white\",\"linecolor\":\"white\",\"showbackground\":true,\"ticks\":\"\",\"zerolinecolor\":\"white\",\"gridwidth\":2}},\"shapedefaults\":{\"line\":{\"color\":\"#2a3f5f\"}},\"annotationdefaults\":{\"arrowcolor\":\"#2a3f5f\",\"arrowhead\":0,\"arrowwidth\":1},\"geo\":{\"bgcolor\":\"white\",\"landcolor\":\"#E5ECF6\",\"subunitcolor\":\"white\",\"showland\":true,\"showlakes\":true,\"lakecolor\":\"white\"},\"title\":{\"x\":0.05},\"mapbox\":{\"style\":\"light\"}}},\"xaxis\":{\"anchor\":\"y\",\"domain\":[0.0,1.0],\"title\":{\"text\":\"timestamp\"},\"rangeslider\":{\"visible\":true},\"rangeselector\":{\"buttons\":[{\"count\":1,\"label\":\"1m\",\"step\":\"month\",\"stepmode\":\"backward\"},{\"count\":6,\"label\":\"6m\",\"step\":\"month\",\"stepmode\":\"backward\"},{\"count\":1,\"label\":\"1y\",\"step\":\"year\",\"stepmode\":\"backward\"},{\"step\":\"all\"}]},\"type\":\"date\"},\"yaxis\":{\"anchor\":\"x\",\"domain\":[0.0,1.0],\"title\":{\"text\":\"temperature_2m\"}},\"legend\":{\"tracegroupgap\":0},\"title\":{\"text\":\"Temperature Over Time\"},\"hovermode\":\"x unified\"},                        {\"responsive\": true}                    ).then(function(){\n",
       "                            \n",
       "var gd = document.getElementById('22b197fd-0468-4c0a-a18f-910c99063181');\n",
       "var x = new MutationObserver(function (mutations, observer) {{\n",
       "        var display = window.getComputedStyle(gd).display;\n",
       "        if (!display || display === 'none') {{\n",
       "            console.log([gd, 'removed!']);\n",
       "            Plotly.purge(gd);\n",
       "            observer.disconnect();\n",
       "        }}\n",
       "}});\n",
       "\n",
       "// Listen for the removal of the full notebook cells\n",
       "var notebookContainer = gd.closest('#notebook-container');\n",
       "if (notebookContainer) {{\n",
       "    x.observe(notebookContainer, {childList: true});\n",
       "}}\n",
       "\n",
       "// Listen for the clearing of the current output cell\n",
       "var outputEl = gd.closest('.output');\n",
       "if (outputEl) {{\n",
       "    x.observe(outputEl, {childList: true});\n",
       "}}\n",
       "\n",
       "                        })                };                });            </script>        </div>"
      ]
     },
     "metadata": {},
     "output_type": "display_data"
    },
    {
     "data": {
      "application/vnd.plotly.v1+json": {
       "config": {
        "plotlyServerURL": "https://plot.ly"
       },
       "data": [
        {
         "hovertemplate": "variable=temperature_2m<br>timestamp=%{x}<br>value=%{y}<extra></extra>",
         "legendgroup": "temperature_2m",
         "line": {
          "color": "#636efa",
          "dash": "solid"
         },
         "marker": {
          "symbol": "circle"
         },
         "mode": "lines",
         "name": "temperature_2m",
         "orientation": "v",
         "showlegend": true,
         "type": "scatter",
         "x": [
          "2025-07-03T00:00:00+00:00",
          "2025-07-03T01:00:00+00:00",
          "2025-07-03T02:00:00+00:00",
          "2025-07-03T03:00:00+00:00",
          "2025-07-03T04:00:00+00:00",
          "2025-07-03T05:00:00+00:00",
          "2025-07-03T06:00:00+00:00",
          "2025-07-03T07:00:00+00:00",
          "2025-07-03T08:00:00+00:00",
          "2025-07-03T09:00:00+00:00",
          "2025-07-03T10:00:00+00:00",
          "2025-07-03T11:00:00+00:00",
          "2025-07-03T12:00:00+00:00",
          "2025-07-03T13:00:00+00:00",
          "2025-07-03T14:00:00+00:00",
          "2025-07-03T15:00:00+00:00",
          "2025-07-03T16:00:00+00:00",
          "2025-07-03T17:00:00+00:00",
          "2025-07-03T18:00:00+00:00",
          "2025-07-03T19:00:00+00:00",
          "2025-07-03T20:00:00+00:00",
          "2025-07-03T21:00:00+00:00",
          "2025-07-03T22:00:00+00:00",
          "2025-07-03T23:00:00+00:00",
          "2025-07-04T00:00:00+00:00",
          "2025-07-04T01:00:00+00:00",
          "2025-07-04T02:00:00+00:00",
          "2025-07-04T03:00:00+00:00",
          "2025-07-04T04:00:00+00:00",
          "2025-07-04T05:00:00+00:00",
          "2025-07-04T06:00:00+00:00",
          "2025-07-04T07:00:00+00:00",
          "2025-07-04T08:00:00+00:00",
          "2025-07-04T09:00:00+00:00",
          "2025-07-04T10:00:00+00:00",
          "2025-07-04T11:00:00+00:00",
          "2025-07-04T12:00:00+00:00",
          "2025-07-04T13:00:00+00:00",
          "2025-07-04T14:00:00+00:00",
          "2025-07-04T15:00:00+00:00",
          "2025-07-04T16:00:00+00:00",
          "2025-07-04T17:00:00+00:00",
          "2025-07-04T18:00:00+00:00",
          "2025-07-04T19:00:00+00:00",
          "2025-07-04T20:00:00+00:00",
          "2025-07-04T21:00:00+00:00",
          "2025-07-04T22:00:00+00:00",
          "2025-07-04T23:00:00+00:00",
          "2025-07-05T00:00:00+00:00",
          "2025-07-05T01:00:00+00:00",
          "2025-07-05T02:00:00+00:00",
          "2025-07-05T03:00:00+00:00",
          "2025-07-05T04:00:00+00:00",
          "2025-07-05T05:00:00+00:00",
          "2025-07-05T06:00:00+00:00",
          "2025-07-05T07:00:00+00:00",
          "2025-07-05T08:00:00+00:00",
          "2025-07-05T09:00:00+00:00",
          "2025-07-05T10:00:00+00:00",
          "2025-07-05T11:00:00+00:00",
          "2025-07-05T12:00:00+00:00",
          "2025-07-05T13:00:00+00:00",
          "2025-07-05T14:00:00+00:00",
          "2025-07-05T15:00:00+00:00",
          "2025-07-05T16:00:00+00:00",
          "2025-07-05T17:00:00+00:00",
          "2025-07-05T18:00:00+00:00",
          "2025-07-05T19:00:00+00:00",
          "2025-07-05T20:00:00+00:00",
          "2025-07-05T21:00:00+00:00",
          "2025-07-05T22:00:00+00:00",
          "2025-07-05T23:00:00+00:00",
          "2025-07-06T00:00:00+00:00",
          "2025-07-06T01:00:00+00:00",
          "2025-07-06T02:00:00+00:00",
          "2025-07-06T03:00:00+00:00",
          "2025-07-06T04:00:00+00:00",
          "2025-07-06T05:00:00+00:00",
          "2025-07-06T06:00:00+00:00",
          "2025-07-06T07:00:00+00:00",
          "2025-07-06T08:00:00+00:00",
          "2025-07-06T09:00:00+00:00",
          "2025-07-06T10:00:00+00:00",
          "2025-07-06T11:00:00+00:00",
          "2025-07-06T12:00:00+00:00",
          "2025-07-06T13:00:00+00:00",
          "2025-07-06T14:00:00+00:00",
          "2025-07-06T15:00:00+00:00",
          "2025-07-06T16:00:00+00:00",
          "2025-07-06T17:00:00+00:00",
          "2025-07-06T18:00:00+00:00",
          "2025-07-06T19:00:00+00:00",
          "2025-07-06T20:00:00+00:00",
          "2025-07-06T21:00:00+00:00",
          "2025-07-06T22:00:00+00:00",
          "2025-07-06T23:00:00+00:00"
         ],
         "xaxis": "x",
         "y": [
          17.7,
          17.6,
          17.2,
          16.9,
          15.9,
          15.9,
          16.1,
          16,
          16.5,
          17.3,
          17.2,
          18.7,
          19.5,
          19.8,
          20.4,
          20.7,
          20.3,
          20,
          19.5,
          19.2,
          18.8,
          18.4,
          17.8,
          17.4,
          17.3,
          17.2,
          17.1,
          16.7,
          17.1,
          16.9,
          16.1,
          17,
          18.7,
          20.5,
          21.6,
          22.2,
          22.9,
          23.2,
          23.3,
          22.7,
          23,
          23.2,
          23.4,
          23.5,
          22.9,
          22.4,
          21.5,
          21,
          21,
          20.8,
          20.5,
          20,
          19.8,
          19.6,
          19.5,
          19.6,
          19.5,
          19.2,
          18.9,
          18.6,
          18.5,
          18.5,
          18.6,
          18.6,
          19.4,
          20.2,
          19.5,
          18.9,
          18.4,
          18.4,
          18.3,
          18.3,
          18.3,
          18.4,
          18.3,
          18.2,
          18,
          17.9,
          17.8,
          17.5,
          17.7,
          18,
          16.4,
          16.4,
          17,
          18,
          18.5,
          18.5,
          18.1,
          17.8,
          17.6,
          17.6,
          17.4,
          17,
          16.5,
          16
         ],
         "yaxis": "y"
        },
        {
         "hovertemplate": "variable=relative_humidity_2m<br>timestamp=%{x}<br>value=%{y}<extra></extra>",
         "legendgroup": "relative_humidity_2m",
         "line": {
          "color": "#EF553B",
          "dash": "solid"
         },
         "marker": {
          "symbol": "circle"
         },
         "mode": "lines",
         "name": "relative_humidity_2m",
         "orientation": "v",
         "showlegend": true,
         "type": "scatter",
         "x": [
          "2025-07-03T00:00:00+00:00",
          "2025-07-03T01:00:00+00:00",
          "2025-07-03T02:00:00+00:00",
          "2025-07-03T03:00:00+00:00",
          "2025-07-03T04:00:00+00:00",
          "2025-07-03T05:00:00+00:00",
          "2025-07-03T06:00:00+00:00",
          "2025-07-03T07:00:00+00:00",
          "2025-07-03T08:00:00+00:00",
          "2025-07-03T09:00:00+00:00",
          "2025-07-03T10:00:00+00:00",
          "2025-07-03T11:00:00+00:00",
          "2025-07-03T12:00:00+00:00",
          "2025-07-03T13:00:00+00:00",
          "2025-07-03T14:00:00+00:00",
          "2025-07-03T15:00:00+00:00",
          "2025-07-03T16:00:00+00:00",
          "2025-07-03T17:00:00+00:00",
          "2025-07-03T18:00:00+00:00",
          "2025-07-03T19:00:00+00:00",
          "2025-07-03T20:00:00+00:00",
          "2025-07-03T21:00:00+00:00",
          "2025-07-03T22:00:00+00:00",
          "2025-07-03T23:00:00+00:00",
          "2025-07-04T00:00:00+00:00",
          "2025-07-04T01:00:00+00:00",
          "2025-07-04T02:00:00+00:00",
          "2025-07-04T03:00:00+00:00",
          "2025-07-04T04:00:00+00:00",
          "2025-07-04T05:00:00+00:00",
          "2025-07-04T06:00:00+00:00",
          "2025-07-04T07:00:00+00:00",
          "2025-07-04T08:00:00+00:00",
          "2025-07-04T09:00:00+00:00",
          "2025-07-04T10:00:00+00:00",
          "2025-07-04T11:00:00+00:00",
          "2025-07-04T12:00:00+00:00",
          "2025-07-04T13:00:00+00:00",
          "2025-07-04T14:00:00+00:00",
          "2025-07-04T15:00:00+00:00",
          "2025-07-04T16:00:00+00:00",
          "2025-07-04T17:00:00+00:00",
          "2025-07-04T18:00:00+00:00",
          "2025-07-04T19:00:00+00:00",
          "2025-07-04T20:00:00+00:00",
          "2025-07-04T21:00:00+00:00",
          "2025-07-04T22:00:00+00:00",
          "2025-07-04T23:00:00+00:00",
          "2025-07-05T00:00:00+00:00",
          "2025-07-05T01:00:00+00:00",
          "2025-07-05T02:00:00+00:00",
          "2025-07-05T03:00:00+00:00",
          "2025-07-05T04:00:00+00:00",
          "2025-07-05T05:00:00+00:00",
          "2025-07-05T06:00:00+00:00",
          "2025-07-05T07:00:00+00:00",
          "2025-07-05T08:00:00+00:00",
          "2025-07-05T09:00:00+00:00",
          "2025-07-05T10:00:00+00:00",
          "2025-07-05T11:00:00+00:00",
          "2025-07-05T12:00:00+00:00",
          "2025-07-05T13:00:00+00:00",
          "2025-07-05T14:00:00+00:00",
          "2025-07-05T15:00:00+00:00",
          "2025-07-05T16:00:00+00:00",
          "2025-07-05T17:00:00+00:00",
          "2025-07-05T18:00:00+00:00",
          "2025-07-05T19:00:00+00:00",
          "2025-07-05T20:00:00+00:00",
          "2025-07-05T21:00:00+00:00",
          "2025-07-05T22:00:00+00:00",
          "2025-07-05T23:00:00+00:00",
          "2025-07-06T00:00:00+00:00",
          "2025-07-06T01:00:00+00:00",
          "2025-07-06T02:00:00+00:00",
          "2025-07-06T03:00:00+00:00",
          "2025-07-06T04:00:00+00:00",
          "2025-07-06T05:00:00+00:00",
          "2025-07-06T06:00:00+00:00",
          "2025-07-06T07:00:00+00:00",
          "2025-07-06T08:00:00+00:00",
          "2025-07-06T09:00:00+00:00",
          "2025-07-06T10:00:00+00:00",
          "2025-07-06T11:00:00+00:00",
          "2025-07-06T12:00:00+00:00",
          "2025-07-06T13:00:00+00:00",
          "2025-07-06T14:00:00+00:00",
          "2025-07-06T15:00:00+00:00",
          "2025-07-06T16:00:00+00:00",
          "2025-07-06T17:00:00+00:00",
          "2025-07-06T18:00:00+00:00",
          "2025-07-06T19:00:00+00:00",
          "2025-07-06T20:00:00+00:00",
          "2025-07-06T21:00:00+00:00",
          "2025-07-06T22:00:00+00:00",
          "2025-07-06T23:00:00+00:00"
         ],
         "xaxis": "x",
         "y": [
          78,
          74,
          77,
          68,
          68,
          69,
          72,
          72,
          68,
          64,
          64,
          57,
          53,
          52,
          49,
          47,
          49,
          51,
          52,
          52,
          54,
          54,
          56,
          58,
          57,
          56,
          56,
          60,
          60,
          58,
          63,
          61,
          48,
          34,
          42,
          48,
          52,
          49,
          44,
          42,
          41,
          39,
          31,
          36,
          39,
          41,
          48,
          52,
          50,
          48,
          50,
          63,
          66,
          68,
          72,
          71,
          67,
          66,
          64,
          66,
          69,
          69,
          71,
          74,
          73,
          71,
          78,
          82,
          85,
          86,
          87,
          87,
          87,
          87,
          88,
          88,
          90,
          90,
          91,
          95,
          93,
          91,
          95,
          94,
          91,
          87,
          84,
          84,
          85,
          86,
          86,
          85,
          84,
          84,
          84,
          84
         ],
         "yaxis": "y"
        },
        {
         "hovertemplate": "variable=wind_speed_10m<br>timestamp=%{x}<br>value=%{y}<extra></extra>",
         "legendgroup": "wind_speed_10m",
         "line": {
          "color": "#00cc96",
          "dash": "solid"
         },
         "marker": {
          "symbol": "circle"
         },
         "mode": "lines",
         "name": "wind_speed_10m",
         "orientation": "v",
         "showlegend": true,
         "type": "scatter",
         "x": [
          "2025-07-03T00:00:00+00:00",
          "2025-07-03T01:00:00+00:00",
          "2025-07-03T02:00:00+00:00",
          "2025-07-03T03:00:00+00:00",
          "2025-07-03T04:00:00+00:00",
          "2025-07-03T05:00:00+00:00",
          "2025-07-03T06:00:00+00:00",
          "2025-07-03T07:00:00+00:00",
          "2025-07-03T08:00:00+00:00",
          "2025-07-03T09:00:00+00:00",
          "2025-07-03T10:00:00+00:00",
          "2025-07-03T11:00:00+00:00",
          "2025-07-03T12:00:00+00:00",
          "2025-07-03T13:00:00+00:00",
          "2025-07-03T14:00:00+00:00",
          "2025-07-03T15:00:00+00:00",
          "2025-07-03T16:00:00+00:00",
          "2025-07-03T17:00:00+00:00",
          "2025-07-03T18:00:00+00:00",
          "2025-07-03T19:00:00+00:00",
          "2025-07-03T20:00:00+00:00",
          "2025-07-03T21:00:00+00:00",
          "2025-07-03T22:00:00+00:00",
          "2025-07-03T23:00:00+00:00",
          "2025-07-04T00:00:00+00:00",
          "2025-07-04T01:00:00+00:00",
          "2025-07-04T02:00:00+00:00",
          "2025-07-04T03:00:00+00:00",
          "2025-07-04T04:00:00+00:00",
          "2025-07-04T05:00:00+00:00",
          "2025-07-04T06:00:00+00:00",
          "2025-07-04T07:00:00+00:00",
          "2025-07-04T08:00:00+00:00",
          "2025-07-04T09:00:00+00:00",
          "2025-07-04T10:00:00+00:00",
          "2025-07-04T11:00:00+00:00",
          "2025-07-04T12:00:00+00:00",
          "2025-07-04T13:00:00+00:00",
          "2025-07-04T14:00:00+00:00",
          "2025-07-04T15:00:00+00:00",
          "2025-07-04T16:00:00+00:00",
          "2025-07-04T17:00:00+00:00",
          "2025-07-04T18:00:00+00:00",
          "2025-07-04T19:00:00+00:00",
          "2025-07-04T20:00:00+00:00",
          "2025-07-04T21:00:00+00:00",
          "2025-07-04T22:00:00+00:00",
          "2025-07-04T23:00:00+00:00",
          "2025-07-05T00:00:00+00:00",
          "2025-07-05T01:00:00+00:00",
          "2025-07-05T02:00:00+00:00",
          "2025-07-05T03:00:00+00:00",
          "2025-07-05T04:00:00+00:00",
          "2025-07-05T05:00:00+00:00",
          "2025-07-05T06:00:00+00:00",
          "2025-07-05T07:00:00+00:00",
          "2025-07-05T08:00:00+00:00",
          "2025-07-05T09:00:00+00:00",
          "2025-07-05T10:00:00+00:00",
          "2025-07-05T11:00:00+00:00",
          "2025-07-05T12:00:00+00:00",
          "2025-07-05T13:00:00+00:00",
          "2025-07-05T14:00:00+00:00",
          "2025-07-05T15:00:00+00:00",
          "2025-07-05T16:00:00+00:00",
          "2025-07-05T17:00:00+00:00",
          "2025-07-05T18:00:00+00:00",
          "2025-07-05T19:00:00+00:00",
          "2025-07-05T20:00:00+00:00",
          "2025-07-05T21:00:00+00:00",
          "2025-07-05T22:00:00+00:00",
          "2025-07-05T23:00:00+00:00",
          "2025-07-06T00:00:00+00:00",
          "2025-07-06T01:00:00+00:00",
          "2025-07-06T02:00:00+00:00",
          "2025-07-06T03:00:00+00:00",
          "2025-07-06T04:00:00+00:00",
          "2025-07-06T05:00:00+00:00",
          "2025-07-06T06:00:00+00:00",
          "2025-07-06T07:00:00+00:00",
          "2025-07-06T08:00:00+00:00",
          "2025-07-06T09:00:00+00:00",
          "2025-07-06T10:00:00+00:00",
          "2025-07-06T11:00:00+00:00",
          "2025-07-06T12:00:00+00:00",
          "2025-07-06T13:00:00+00:00",
          "2025-07-06T14:00:00+00:00",
          "2025-07-06T15:00:00+00:00",
          "2025-07-06T16:00:00+00:00",
          "2025-07-06T17:00:00+00:00",
          "2025-07-06T18:00:00+00:00",
          "2025-07-06T19:00:00+00:00",
          "2025-07-06T20:00:00+00:00",
          "2025-07-06T21:00:00+00:00",
          "2025-07-06T22:00:00+00:00",
          "2025-07-06T23:00:00+00:00"
         ],
         "xaxis": "x",
         "y": [
          5.4,
          5.8,
          6.6,
          6.7,
          6.3,
          6.4,
          5.6,
          5.4,
          5,
          4.6,
          4.3,
          4.3,
          4,
          4.1,
          4.2,
          4,
          3.8,
          3.6,
          3.5,
          3.6,
          3.8,
          2.3,
          1.9,
          1.1,
          0.3,
          0.8,
          1.3,
          1.3,
          1.7,
          2.1,
          1.8,
          2.6,
          3.1,
          3.6,
          4.2,
          4.6,
          4.7,
          4.6,
          4.4,
          4.1,
          4.1,
          4.3,
          4.7,
          4.4,
          4.7,
          4.6,
          4.8,
          4.9,
          5.6,
          6,
          5.6,
          5.3,
          5,
          5.2,
          5,
          5.6,
          6,
          6,
          5.5,
          5.1,
          5.2,
          5.5,
          5.7,
          5.6,
          5.4,
          6.1,
          6.3,
          6.1,
          5.6,
          5.9,
          6.2,
          6.4,
          6.2,
          5.8,
          5.7,
          5.6,
          4.7,
          4.6,
          3.6,
          3.3,
          3.3,
          2.1,
          5.01,
          4.85,
          4.75,
          4.8,
          5.06,
          5.29,
          5.46,
          5.4,
          4.85,
          4.12,
          3.52,
          2.94,
          2.28,
          1.73
         ],
         "yaxis": "y"
        }
       ],
       "layout": {
        "autosize": true,
        "hovermode": "x unified",
        "legend": {
         "title": {
          "text": "variable"
         },
         "tracegroupgap": 0
        },
        "template": {
         "data": {
          "bar": [
           {
            "error_x": {
             "color": "#2a3f5f"
            },
            "error_y": {
             "color": "#2a3f5f"
            },
            "marker": {
             "line": {
              "color": "#E5ECF6",
              "width": 0.5
             },
             "pattern": {
              "fillmode": "overlay",
              "size": 10,
              "solidity": 0.2
             }
            },
            "type": "bar"
           }
          ],
          "barpolar": [
           {
            "marker": {
             "line": {
              "color": "#E5ECF6",
              "width": 0.5
             },
             "pattern": {
              "fillmode": "overlay",
              "size": 10,
              "solidity": 0.2
             }
            },
            "type": "barpolar"
           }
          ],
          "carpet": [
           {
            "aaxis": {
             "endlinecolor": "#2a3f5f",
             "gridcolor": "white",
             "linecolor": "white",
             "minorgridcolor": "white",
             "startlinecolor": "#2a3f5f"
            },
            "baxis": {
             "endlinecolor": "#2a3f5f",
             "gridcolor": "white",
             "linecolor": "white",
             "minorgridcolor": "white",
             "startlinecolor": "#2a3f5f"
            },
            "type": "carpet"
           }
          ],
          "choropleth": [
           {
            "colorbar": {
             "outlinewidth": 0,
             "ticks": ""
            },
            "type": "choropleth"
           }
          ],
          "contour": [
           {
            "colorbar": {
             "outlinewidth": 0,
             "ticks": ""
            },
            "colorscale": [
             [
              0,
              "#0d0887"
             ],
             [
              0.1111111111111111,
              "#46039f"
             ],
             [
              0.2222222222222222,
              "#7201a8"
             ],
             [
              0.3333333333333333,
              "#9c179e"
             ],
             [
              0.4444444444444444,
              "#bd3786"
             ],
             [
              0.5555555555555556,
              "#d8576b"
             ],
             [
              0.6666666666666666,
              "#ed7953"
             ],
             [
              0.7777777777777778,
              "#fb9f3a"
             ],
             [
              0.8888888888888888,
              "#fdca26"
             ],
             [
              1,
              "#f0f921"
             ]
            ],
            "type": "contour"
           }
          ],
          "contourcarpet": [
           {
            "colorbar": {
             "outlinewidth": 0,
             "ticks": ""
            },
            "type": "contourcarpet"
           }
          ],
          "heatmap": [
           {
            "colorbar": {
             "outlinewidth": 0,
             "ticks": ""
            },
            "colorscale": [
             [
              0,
              "#0d0887"
             ],
             [
              0.1111111111111111,
              "#46039f"
             ],
             [
              0.2222222222222222,
              "#7201a8"
             ],
             [
              0.3333333333333333,
              "#9c179e"
             ],
             [
              0.4444444444444444,
              "#bd3786"
             ],
             [
              0.5555555555555556,
              "#d8576b"
             ],
             [
              0.6666666666666666,
              "#ed7953"
             ],
             [
              0.7777777777777778,
              "#fb9f3a"
             ],
             [
              0.8888888888888888,
              "#fdca26"
             ],
             [
              1,
              "#f0f921"
             ]
            ],
            "type": "heatmap"
           }
          ],
          "heatmapgl": [
           {
            "colorbar": {
             "outlinewidth": 0,
             "ticks": ""
            },
            "colorscale": [
             [
              0,
              "#0d0887"
             ],
             [
              0.1111111111111111,
              "#46039f"
             ],
             [
              0.2222222222222222,
              "#7201a8"
             ],
             [
              0.3333333333333333,
              "#9c179e"
             ],
             [
              0.4444444444444444,
              "#bd3786"
             ],
             [
              0.5555555555555556,
              "#d8576b"
             ],
             [
              0.6666666666666666,
              "#ed7953"
             ],
             [
              0.7777777777777778,
              "#fb9f3a"
             ],
             [
              0.8888888888888888,
              "#fdca26"
             ],
             [
              1,
              "#f0f921"
             ]
            ],
            "type": "heatmapgl"
           }
          ],
          "histogram": [
           {
            "marker": {
             "pattern": {
              "fillmode": "overlay",
              "size": 10,
              "solidity": 0.2
             }
            },
            "type": "histogram"
           }
          ],
          "histogram2d": [
           {
            "colorbar": {
             "outlinewidth": 0,
             "ticks": ""
            },
            "colorscale": [
             [
              0,
              "#0d0887"
             ],
             [
              0.1111111111111111,
              "#46039f"
             ],
             [
              0.2222222222222222,
              "#7201a8"
             ],
             [
              0.3333333333333333,
              "#9c179e"
             ],
             [
              0.4444444444444444,
              "#bd3786"
             ],
             [
              0.5555555555555556,
              "#d8576b"
             ],
             [
              0.6666666666666666,
              "#ed7953"
             ],
             [
              0.7777777777777778,
              "#fb9f3a"
             ],
             [
              0.8888888888888888,
              "#fdca26"
             ],
             [
              1,
              "#f0f921"
             ]
            ],
            "type": "histogram2d"
           }
          ],
          "histogram2dcontour": [
           {
            "colorbar": {
             "outlinewidth": 0,
             "ticks": ""
            },
            "colorscale": [
             [
              0,
              "#0d0887"
             ],
             [
              0.1111111111111111,
              "#46039f"
             ],
             [
              0.2222222222222222,
              "#7201a8"
             ],
             [
              0.3333333333333333,
              "#9c179e"
             ],
             [
              0.4444444444444444,
              "#bd3786"
             ],
             [
              0.5555555555555556,
              "#d8576b"
             ],
             [
              0.6666666666666666,
              "#ed7953"
             ],
             [
              0.7777777777777778,
              "#fb9f3a"
             ],
             [
              0.8888888888888888,
              "#fdca26"
             ],
             [
              1,
              "#f0f921"
             ]
            ],
            "type": "histogram2dcontour"
           }
          ],
          "mesh3d": [
           {
            "colorbar": {
             "outlinewidth": 0,
             "ticks": ""
            },
            "type": "mesh3d"
           }
          ],
          "parcoords": [
           {
            "line": {
             "colorbar": {
              "outlinewidth": 0,
              "ticks": ""
             }
            },
            "type": "parcoords"
           }
          ],
          "pie": [
           {
            "automargin": true,
            "type": "pie"
           }
          ],
          "scatter": [
           {
            "fillpattern": {
             "fillmode": "overlay",
             "size": 10,
             "solidity": 0.2
            },
            "type": "scatter"
           }
          ],
          "scatter3d": [
           {
            "line": {
             "colorbar": {
              "outlinewidth": 0,
              "ticks": ""
             }
            },
            "marker": {
             "colorbar": {
              "outlinewidth": 0,
              "ticks": ""
             }
            },
            "type": "scatter3d"
           }
          ],
          "scattercarpet": [
           {
            "marker": {
             "colorbar": {
              "outlinewidth": 0,
              "ticks": ""
             }
            },
            "type": "scattercarpet"
           }
          ],
          "scattergeo": [
           {
            "marker": {
             "colorbar": {
              "outlinewidth": 0,
              "ticks": ""
             }
            },
            "type": "scattergeo"
           }
          ],
          "scattergl": [
           {
            "marker": {
             "colorbar": {
              "outlinewidth": 0,
              "ticks": ""
             }
            },
            "type": "scattergl"
           }
          ],
          "scattermapbox": [
           {
            "marker": {
             "colorbar": {
              "outlinewidth": 0,
              "ticks": ""
             }
            },
            "type": "scattermapbox"
           }
          ],
          "scatterpolar": [
           {
            "marker": {
             "colorbar": {
              "outlinewidth": 0,
              "ticks": ""
             }
            },
            "type": "scatterpolar"
           }
          ],
          "scatterpolargl": [
           {
            "marker": {
             "colorbar": {
              "outlinewidth": 0,
              "ticks": ""
             }
            },
            "type": "scatterpolargl"
           }
          ],
          "scatterternary": [
           {
            "marker": {
             "colorbar": {
              "outlinewidth": 0,
              "ticks": ""
             }
            },
            "type": "scatterternary"
           }
          ],
          "surface": [
           {
            "colorbar": {
             "outlinewidth": 0,
             "ticks": ""
            },
            "colorscale": [
             [
              0,
              "#0d0887"
             ],
             [
              0.1111111111111111,
              "#46039f"
             ],
             [
              0.2222222222222222,
              "#7201a8"
             ],
             [
              0.3333333333333333,
              "#9c179e"
             ],
             [
              0.4444444444444444,
              "#bd3786"
             ],
             [
              0.5555555555555556,
              "#d8576b"
             ],
             [
              0.6666666666666666,
              "#ed7953"
             ],
             [
              0.7777777777777778,
              "#fb9f3a"
             ],
             [
              0.8888888888888888,
              "#fdca26"
             ],
             [
              1,
              "#f0f921"
             ]
            ],
            "type": "surface"
           }
          ],
          "table": [
           {
            "cells": {
             "fill": {
              "color": "#EBF0F8"
             },
             "line": {
              "color": "white"
             }
            },
            "header": {
             "fill": {
              "color": "#C8D4E3"
             },
             "line": {
              "color": "white"
             }
            },
            "type": "table"
           }
          ]
         },
         "layout": {
          "annotationdefaults": {
           "arrowcolor": "#2a3f5f",
           "arrowhead": 0,
           "arrowwidth": 1
          },
          "autotypenumbers": "strict",
          "coloraxis": {
           "colorbar": {
            "outlinewidth": 0,
            "ticks": ""
           }
          },
          "colorscale": {
           "diverging": [
            [
             0,
             "#8e0152"
            ],
            [
             0.1,
             "#c51b7d"
            ],
            [
             0.2,
             "#de77ae"
            ],
            [
             0.3,
             "#f1b6da"
            ],
            [
             0.4,
             "#fde0ef"
            ],
            [
             0.5,
             "#f7f7f7"
            ],
            [
             0.6,
             "#e6f5d0"
            ],
            [
             0.7,
             "#b8e186"
            ],
            [
             0.8,
             "#7fbc41"
            ],
            [
             0.9,
             "#4d9221"
            ],
            [
             1,
             "#276419"
            ]
           ],
           "sequential": [
            [
             0,
             "#0d0887"
            ],
            [
             0.1111111111111111,
             "#46039f"
            ],
            [
             0.2222222222222222,
             "#7201a8"
            ],
            [
             0.3333333333333333,
             "#9c179e"
            ],
            [
             0.4444444444444444,
             "#bd3786"
            ],
            [
             0.5555555555555556,
             "#d8576b"
            ],
            [
             0.6666666666666666,
             "#ed7953"
            ],
            [
             0.7777777777777778,
             "#fb9f3a"
            ],
            [
             0.8888888888888888,
             "#fdca26"
            ],
            [
             1,
             "#f0f921"
            ]
           ],
           "sequentialminus": [
            [
             0,
             "#0d0887"
            ],
            [
             0.1111111111111111,
             "#46039f"
            ],
            [
             0.2222222222222222,
             "#7201a8"
            ],
            [
             0.3333333333333333,
             "#9c179e"
            ],
            [
             0.4444444444444444,
             "#bd3786"
            ],
            [
             0.5555555555555556,
             "#d8576b"
            ],
            [
             0.6666666666666666,
             "#ed7953"
            ],
            [
             0.7777777777777778,
             "#fb9f3a"
            ],
            [
             0.8888888888888888,
             "#fdca26"
            ],
            [
             1,
             "#f0f921"
            ]
           ]
          },
          "colorway": [
           "#636efa",
           "#EF553B",
           "#00cc96",
           "#ab63fa",
           "#FFA15A",
           "#19d3f3",
           "#FF6692",
           "#B6E880",
           "#FF97FF",
           "#FECB52"
          ],
          "font": {
           "color": "#2a3f5f"
          },
          "geo": {
           "bgcolor": "white",
           "lakecolor": "white",
           "landcolor": "#E5ECF6",
           "showlakes": true,
           "showland": true,
           "subunitcolor": "white"
          },
          "hoverlabel": {
           "align": "left"
          },
          "hovermode": "closest",
          "mapbox": {
           "style": "light"
          },
          "paper_bgcolor": "white",
          "plot_bgcolor": "#E5ECF6",
          "polar": {
           "angularaxis": {
            "gridcolor": "white",
            "linecolor": "white",
            "ticks": ""
           },
           "bgcolor": "#E5ECF6",
           "radialaxis": {
            "gridcolor": "white",
            "linecolor": "white",
            "ticks": ""
           }
          },
          "scene": {
           "xaxis": {
            "backgroundcolor": "#E5ECF6",
            "gridcolor": "white",
            "gridwidth": 2,
            "linecolor": "white",
            "showbackground": true,
            "ticks": "",
            "zerolinecolor": "white"
           },
           "yaxis": {
            "backgroundcolor": "#E5ECF6",
            "gridcolor": "white",
            "gridwidth": 2,
            "linecolor": "white",
            "showbackground": true,
            "ticks": "",
            "zerolinecolor": "white"
           },
           "zaxis": {
            "backgroundcolor": "#E5ECF6",
            "gridcolor": "white",
            "gridwidth": 2,
            "linecolor": "white",
            "showbackground": true,
            "ticks": "",
            "zerolinecolor": "white"
           }
          },
          "shapedefaults": {
           "line": {
            "color": "#2a3f5f"
           }
          },
          "ternary": {
           "aaxis": {
            "gridcolor": "white",
            "linecolor": "white",
            "ticks": ""
           },
           "baxis": {
            "gridcolor": "white",
            "linecolor": "white",
            "ticks": ""
           },
           "bgcolor": "#E5ECF6",
           "caxis": {
            "gridcolor": "white",
            "linecolor": "white",
            "ticks": ""
           }
          },
          "title": {
           "x": 0.05
          },
          "xaxis": {
           "automargin": true,
           "gridcolor": "white",
           "linecolor": "white",
           "ticks": "",
           "title": {
            "standoff": 15
           },
           "zerolinecolor": "white",
           "zerolinewidth": 2
          },
          "yaxis": {
           "automargin": true,
           "gridcolor": "white",
           "linecolor": "white",
           "ticks": "",
           "title": {
            "standoff": 15
           },
           "zerolinecolor": "white",
           "zerolinewidth": 2
          }
         }
        },
        "title": {
         "text": "Weather Metrics Over Time"
        },
        "xaxis": {
         "anchor": "y",
         "autorange": true,
         "domain": [
          0,
          1
         ],
         "range": [
          "2025-07-03",
          "2025-07-06 23:00"
         ],
         "rangeselector": {
          "buttons": [
           {
            "count": 1,
            "label": "1m",
            "step": "month",
            "stepmode": "backward"
           },
           {
            "count": 6,
            "label": "6m",
            "step": "month",
            "stepmode": "backward"
           },
           {
            "count": 1,
            "label": "1y",
            "step": "year",
            "stepmode": "backward"
           },
           {
            "step": "all"
           }
          ]
         },
         "rangeslider": {
          "autorange": true,
          "range": [
           "2025-07-03",
           "2025-07-06 23:00"
          ],
          "visible": true,
          "yaxis": {
           "_template": null,
           "rangemode": "match"
          }
         },
         "title": {
          "text": "timestamp"
         },
         "type": "date"
        },
        "yaxis": {
         "anchor": "x",
         "autorange": true,
         "domain": [
          0,
          1
         ],
         "range": [
          -4.961111111111111,
          100.2611111111111
         ],
         "title": {
          "text": "value"
         },
         "type": "linear"
        }
       }
      },
      "image/png": "[encoded data removed]",
      "text/html": [
       "<div>                            <div id=\"dbaadf1f-e04f-4d30-b320-320fede65746\" class=\"plotly-graph-div\" style=\"height:525px; width:100%;\"></div>            <script type=\"text/javascript\">                require([\"plotly\"], function(Plotly) {                    window.PLOTLYENV=window.PLOTLYENV || {};                                    if (document.getElementById(\"dbaadf1f-e04f-4d30-b320-320fede65746\")) {                    Plotly.newPlot(                        \"dbaadf1f-e04f-4d30-b320-320fede65746\",                        [{\"hovertemplate\":\"variable=temperature_2m<br>timestamp=%{x}<br>value=%{y}<extra></extra>\",\"legendgroup\":\"temperature_2m\",\"line\":{\"color\":\"#636efa\",\"dash\":\"solid\"},\"marker\":{\"symbol\":\"circle\"},\"mode\":\"lines\",\"name\":\"temperature_2m\",\"orientation\":\"v\",\"showlegend\":true,\"x\":[\"2025-07-03T00:00:00+00:00\",\"2025-07-03T01:00:00+00:00\",\"2025-07-03T02:00:00+00:00\",\"2025-07-03T03:00:00+00:00\",\"2025-07-03T04:00:00+00:00\",\"2025-07-03T05:00:00+00:00\",\"2025-07-03T06:00:00+00:00\",\"2025-07-03T07:00:00+00:00\",\"2025-07-03T08:00:00+00:00\",\"2025-07-03T09:00:00+00:00\",\"2025-07-03T10:00:00+00:00\",\"2025-07-03T11:00:00+00:00\",\"2025-07-03T12:00:00+00:00\",\"2025-07-03T13:00:00+00:00\",\"2025-07-03T14:00:00+00:00\",\"2025-07-03T15:00:00+00:00\",\"2025-07-03T16:00:00+00:00\",\"2025-07-03T17:00:00+00:00\",\"2025-07-03T18:00:00+00:00\",\"2025-07-03T19:00:00+00:00\",\"2025-07-03T20:00:00+00:00\",\"2025-07-03T21:00:00+00:00\",\"2025-07-03T22:00:00+00:00\",\"2025-07-03T23:00:00+00:00\",\"2025-07-04T00:00:00+00:00\",\"2025-07-04T01:00:00+00:00\",\"2025-07-04T02:00:00+00:00\",\"2025-07-04T03:00:00+00:00\",\"2025-07-04T04:00:00+00:00\",\"2025-07-04T05:00:00+00:00\",\"2025-07-04T06:00:00+00:00\",\"2025-07-04T07:00:00+00:00\",\"2025-07-04T08:00:00+00:00\",\"2025-07-04T09:00:00+00:00\",\"2025-07-04T10:00:00+00:00\",\"2025-07-04T11:00:00+00:00\",\"2025-07-04T12:00:00+00:00\",\"2025-07-04T13:00:00+00:00\",\"2025-07-04T14:00:00+00:00\",\"2025-07-04T15:00:00+00:00\",\"2025-07-04T16:00:00+00:00\",\"2025-07-04T17:00:00+00:00\",\"2025-07-04T18:00:00+00:00\",\"2025-07-04T19:00:00+00:00\",\"2025-07-04T20:00:00+00:00\",\"2025-07-04T21:00:00+00:00\",\"2025-07-04T22:00:00+00:00\",\"2025-07-04T23:00:00+00:00\",\"2025-07-05T00:00:00+00:00\",\"2025-07-05T01:00:00+00:00\",\"2025-07-05T02:00:00+00:00\",\"2025-07-05T03:00:00+00:00\",\"2025-07-05T04:00:00+00:00\",\"2025-07-05T05:00:00+00:00\",\"2025-07-05T06:00:00+00:00\",\"2025-07-05T07:00:00+00:00\",\"2025-07-05T08:00:00+00:00\",\"2025-07-05T09:00:00+00:00\",\"2025-07-05T10:00:00+00:00\",\"2025-07-05T11:00:00+00:00\",\"2025-07-05T12:00:00+00:00\",\"2025-07-05T13:00:00+00:00\",\"2025-07-05T14:00:00+00:00\",\"2025-07-05T15:00:00+00:00\",\"2025-07-05T16:00:00+00:00\",\"2025-07-05T17:00:00+00:00\",\"2025-07-05T18:00:00+00:00\",\"2025-07-05T19:00:00+00:00\",\"2025-07-05T20:00:00+00:00\",\"2025-07-05T21:00:00+00:00\",\"2025-07-05T22:00:00+00:00\",\"2025-07-05T23:00:00+00:00\",\"2025-07-06T00:00:00+00:00\",\"2025-07-06T01:00:00+00:00\",\"2025-07-06T02:00:00+00:00\",\"2025-07-06T03:00:00+00:00\",\"2025-07-06T04:00:00+00:00\",\"2025-07-06T05:00:00+00:00\",\"2025-07-06T06:00:00+00:00\",\"2025-07-06T07:00:00+00:00\",\"2025-07-06T08:00:00+00:00\",\"2025-07-06T09:00:00+00:00\",\"2025-07-06T10:00:00+00:00\",\"2025-07-06T11:00:00+00:00\",\"2025-07-06T12:00:00+00:00\",\"2025-07-06T13:00:00+00:00\",\"2025-07-06T14:00:00+00:00\",\"2025-07-06T15:00:00+00:00\",\"2025-07-06T16:00:00+00:00\",\"2025-07-06T17:00:00+00:00\",\"2025-07-06T18:00:00+00:00\",\"2025-07-06T19:00:00+00:00\",\"2025-07-06T20:00:00+00:00\",\"2025-07-06T21:00:00+00:00\",\"2025-07-06T22:00:00+00:00\",\"2025-07-06T23:00:00+00:00\"],\"xaxis\":\"x\",\"y\":[17.7,17.6,17.2,16.9,15.9,15.9,16.1,16.0,16.5,17.3,17.2,18.7,19.5,19.8,20.4,20.7,20.3,20.0,19.5,19.2,18.8,18.4,17.8,17.4,17.3,17.2,17.1,16.7,17.1,16.9,16.1,17.0,18.7,20.5,21.6,22.2,22.9,23.2,23.3,22.7,23.0,23.2,23.4,23.5,22.9,22.4,21.5,21.0,21.0,20.8,20.5,20.0,19.8,19.6,19.5,19.6,19.5,19.2,18.9,18.6,18.5,18.5,18.6,18.6,19.4,20.2,19.5,18.9,18.4,18.4,18.3,18.3,18.3,18.4,18.3,18.2,18.0,17.9,17.8,17.5,17.7,18.0,16.4,16.4,17.0,18.0,18.5,18.5,18.1,17.8,17.6,17.6,17.4,17.0,16.5,16.0],\"yaxis\":\"y\",\"type\":\"scatter\"},{\"hovertemplate\":\"variable=relative_humidity_2m<br>timestamp=%{x}<br>value=%{y}<extra></extra>\",\"legendgroup\":\"relative_humidity_2m\",\"line\":{\"color\":\"#EF553B\",\"dash\":\"solid\"},\"marker\":{\"symbol\":\"circle\"},\"mode\":\"lines\",\"name\":\"relative_humidity_2m\",\"orientation\":\"v\",\"showlegend\":true,\"x\":[\"2025-07-03T00:00:00+00:00\",\"2025-07-03T01:00:00+00:00\",\"2025-07-03T02:00:00+00:00\",\"2025-07-03T03:00:00+00:00\",\"2025-07-03T04:00:00+00:00\",\"2025-07-03T05:00:00+00:00\",\"2025-07-03T06:00:00+00:00\",\"2025-07-03T07:00:00+00:00\",\"2025-07-03T08:00:00+00:00\",\"2025-07-03T09:00:00+00:00\",\"2025-07-03T10:00:00+00:00\",\"2025-07-03T11:00:00+00:00\",\"2025-07-03T12:00:00+00:00\",\"2025-07-03T13:00:00+00:00\",\"2025-07-03T14:00:00+00:00\",\"2025-07-03T15:00:00+00:00\",\"2025-07-03T16:00:00+00:00\",\"2025-07-03T17:00:00+00:00\",\"2025-07-03T18:00:00+00:00\",\"2025-07-03T19:00:00+00:00\",\"2025-07-03T20:00:00+00:00\",\"2025-07-03T21:00:00+00:00\",\"2025-07-03T22:00:00+00:00\",\"2025-07-03T23:00:00+00:00\",\"2025-07-04T00:00:00+00:00\",\"2025-07-04T01:00:00+00:00\",\"2025-07-04T02:00:00+00:00\",\"2025-07-04T03:00:00+00:00\",\"2025-07-04T04:00:00+00:00\",\"2025-07-04T05:00:00+00:00\",\"2025-07-04T06:00:00+00:00\",\"2025-07-04T07:00:00+00:00\",\"2025-07-04T08:00:00+00:00\",\"2025-07-04T09:00:00+00:00\",\"2025-07-04T10:00:00+00:00\",\"2025-07-04T11:00:00+00:00\",\"2025-07-04T12:00:00+00:00\",\"2025-07-04T13:00:00+00:00\",\"2025-07-04T14:00:00+00:00\",\"2025-07-04T15:00:00+00:00\",\"2025-07-04T16:00:00+00:00\",\"2025-07-04T17:00:00+00:00\",\"2025-07-04T18:00:00+00:00\",\"2025-07-04T19:00:00+00:00\",\"2025-07-04T20:00:00+00:00\",\"2025-07-04T21:00:00+00:00\",\"2025-07-04T22:00:00+00:00\",\"2025-07-04T23:00:00+00:00\",\"2025-07-05T00:00:00+00:00\",\"2025-07-05T01:00:00+00:00\",\"2025-07-05T02:00:00+00:00\",\"2025-07-05T03:00:00+00:00\",\"2025-07-05T04:00:00+00:00\",\"2025-07-05T05:00:00+00:00\",\"2025-07-05T06:00:00+00:00\",\"2025-07-05T07:00:00+00:00\",\"2025-07-05T08:00:00+00:00\",\"2025-07-05T09:00:00+00:00\",\"2025-07-05T10:00:00+00:00\",\"2025-07-05T11:00:00+00:00\",\"2025-07-05T12:00:00+00:00\",\"2025-07-05T13:00:00+00:00\",\"2025-07-05T14:00:00+00:00\",\"2025-07-05T15:00:00+00:00\",\"2025-07-05T16:00:00+00:00\",\"2025-07-05T17:00:00+00:00\",\"2025-07-05T18:00:00+00:00\",\"2025-07-05T19:00:00+00:00\",\"2025-07-05T20:00:00+00:00\",\"2025-07-05T21:00:00+00:00\",\"2025-07-05T22:00:00+00:00\",\"2025-07-05T23:00:00+00:00\",\"2025-07-06T00:00:00+00:00\",\"2025-07-06T01:00:00+00:00\",\"2025-07-06T02:00:00+00:00\",\"2025-07-06T03:00:00+00:00\",\"2025-07-06T04:00:00+00:00\",\"2025-07-06T05:00:00+00:00\",\"2025-07-06T06:00:00+00:00\",\"2025-07-06T07:00:00+00:00\",\"2025-07-06T08:00:00+00:00\",\"2025-07-06T09:00:00+00:00\",\"2025-07-06T10:00:00+00:00\",\"2025-07-06T11:00:00+00:00\",\"2025-07-06T12:00:00+00:00\",\"2025-07-06T13:00:00+00:00\",\"2025-07-06T14:00:00+00:00\",\"2025-07-06T15:00:00+00:00\",\"2025-07-06T16:00:00+00:00\",\"2025-07-06T17:00:00+00:00\",\"2025-07-06T18:00:00+00:00\",\"2025-07-06T19:00:00+00:00\",\"2025-07-06T20:00:00+00:00\",\"2025-07-06T21:00:00+00:00\",\"2025-07-06T22:00:00+00:00\",\"2025-07-06T23:00:00+00:00\"],\"xaxis\":\"x\",\"y\":[78.0,74.0,77.0,68.0,68.0,69.0,72.0,72.0,68.0,64.0,64.0,57.0,53.0,52.0,49.0,47.0,49.0,51.0,52.0,52.0,54.0,54.0,56.0,58.0,57.0,56.0,56.0,60.0,60.0,58.0,63.0,61.0,48.0,34.0,42.0,48.0,52.0,49.0,44.0,42.0,41.0,39.0,31.0,36.0,39.0,41.0,48.0,52.0,50.0,48.0,50.0,63.0,66.0,68.0,72.0,71.0,67.0,66.0,64.0,66.0,69.0,69.0,71.0,74.0,73.0,71.0,78.0,82.0,85.0,86.0,87.0,87.0,87.0,87.0,88.0,88.0,90.0,90.0,91.0,95.0,93.0,91.0,95.0,94.0,91.0,87.0,84.0,84.0,85.0,86.0,86.0,85.0,84.0,84.0,84.0,84.0],\"yaxis\":\"y\",\"type\":\"scatter\"},{\"hovertemplate\":\"variable=wind_speed_10m<br>timestamp=%{x}<br>value=%{y}<extra></extra>\",\"legendgroup\":\"wind_speed_10m\",\"line\":{\"color\":\"#00cc96\",\"dash\":\"solid\"},\"marker\":{\"symbol\":\"circle\"},\"mode\":\"lines\",\"name\":\"wind_speed_10m\",\"orientation\":\"v\",\"showlegend\":true,\"x\":[\"2025-07-03T00:00:00+00:00\",\"2025-07-03T01:00:00+00:00\",\"2025-07-03T02:00:00+00:00\",\"2025-07-03T03:00:00+00:00\",\"2025-07-03T04:00:00+00:00\",\"2025-07-03T05:00:00+00:00\",\"2025-07-03T06:00:00+00:00\",\"2025-07-03T07:00:00+00:00\",\"2025-07-03T08:00:00+00:00\",\"2025-07-03T09:00:00+00:00\",\"2025-07-03T10:00:00+00:00\",\"2025-07-03T11:00:00+00:00\",\"2025-07-03T12:00:00+00:00\",\"2025-07-03T13:00:00+00:00\",\"2025-07-03T14:00:00+00:00\",\"2025-07-03T15:00:00+00:00\",\"2025-07-03T16:00:00+00:00\",\"2025-07-03T17:00:00+00:00\",\"2025-07-03T18:00:00+00:00\",\"2025-07-03T19:00:00+00:00\",\"2025-07-03T20:00:00+00:00\",\"2025-07-03T21:00:00+00:00\",\"2025-07-03T22:00:00+00:00\",\"2025-07-03T23:00:00+00:00\",\"2025-07-04T00:00:00+00:00\",\"2025-07-04T01:00:00+00:00\",\"2025-07-04T02:00:00+00:00\",\"2025-07-04T03:00:00+00:00\",\"2025-07-04T04:00:00+00:00\",\"2025-07-04T05:00:00+00:00\",\"2025-07-04T06:00:00+00:00\",\"2025-07-04T07:00:00+00:00\",\"2025-07-04T08:00:00+00:00\",\"2025-07-04T09:00:00+00:00\",\"2025-07-04T10:00:00+00:00\",\"2025-07-04T11:00:00+00:00\",\"2025-07-04T12:00:00+00:00\",\"2025-07-04T13:00:00+00:00\",\"2025-07-04T14:00:00+00:00\",\"2025-07-04T15:00:00+00:00\",\"2025-07-04T16:00:00+00:00\",\"2025-07-04T17:00:00+00:00\",\"2025-07-04T18:00:00+00:00\",\"2025-07-04T19:00:00+00:00\",\"2025-07-04T20:00:00+00:00\",\"2025-07-04T21:00:00+00:00\",\"2025-07-04T22:00:00+00:00\",\"2025-07-04T23:00:00+00:00\",\"2025-07-05T00:00:00+00:00\",\"2025-07-05T01:00:00+00:00\",\"2025-07-05T02:00:00+00:00\",\"2025-07-05T03:00:00+00:00\",\"2025-07-05T04:00:00+00:00\",\"2025-07-05T05:00:00+00:00\",\"2025-07-05T06:00:00+00:00\",\"2025-07-05T07:00:00+00:00\",\"2025-07-05T08:00:00+00:00\",\"2025-07-05T09:00:00+00:00\",\"2025-07-05T10:00:00+00:00\",\"2025-07-05T11:00:00+00:00\",\"2025-07-05T12:00:00+00:00\",\"2025-07-05T13:00:00+00:00\",\"2025-07-05T14:00:00+00:00\",\"2025-07-05T15:00:00+00:00\",\"2025-07-05T16:00:00+00:00\",\"2025-07-05T17:00:00+00:00\",\"2025-07-05T18:00:00+00:00\",\"2025-07-05T19:00:00+00:00\",\"2025-07-05T20:00:00+00:00\",\"2025-07-05T21:00:00+00:00\",\"2025-07-05T22:00:00+00:00\",\"2025-07-05T23:00:00+00:00\",\"2025-07-06T00:00:00+00:00\",\"2025-07-06T01:00:00+00:00\",\"2025-07-06T02:00:00+00:00\",\"2025-07-06T03:00:00+00:00\",\"2025-07-06T04:00:00+00:00\",\"2025-07-06T05:00:00+00:00\",\"2025-07-06T06:00:00+00:00\",\"2025-07-06T07:00:00+00:00\",\"2025-07-06T08:00:00+00:00\",\"2025-07-06T09:00:00+00:00\",\"2025-07-06T10:00:00+00:00\",\"2025-07-06T11:00:00+00:00\",\"2025-07-06T12:00:00+00:00\",\"2025-07-06T13:00:00+00:00\",\"2025-07-06T14:00:00+00:00\",\"2025-07-06T15:00:00+00:00\",\"2025-07-06T16:00:00+00:00\",\"2025-07-06T17:00:00+00:00\",\"2025-07-06T18:00:00+00:00\",\"2025-07-06T19:00:00+00:00\",\"2025-07-06T20:00:00+00:00\",\"2025-07-06T21:00:00+00:00\",\"2025-07-06T22:00:00+00:00\",\"2025-07-06T23:00:00+00:00\"],\"xaxis\":\"x\",\"y\":[5.4,5.8,6.6,6.7,6.3,6.4,5.6,5.4,5.0,4.6,4.3,4.3,4.0,4.1,4.2,4.0,3.8,3.6,3.5,3.6,3.8,2.3,1.9,1.1,0.3,0.8,1.3,1.3,1.7,2.1,1.8,2.6,3.1,3.6,4.2,4.6,4.7,4.6,4.4,4.1,4.1,4.3,4.7,4.4,4.7,4.6,4.8,4.9,5.6,6.0,5.6,5.3,5.0,5.2,5.0,5.6,6.0,6.0,5.5,5.1,5.2,5.5,5.7,5.6,5.4,6.1,6.3,6.1,5.6,5.9,6.2,6.4,6.2,5.8,5.7,5.6,4.7,4.6,3.6,3.3,3.3,2.1,5.01,4.85,4.75,4.8,5.06,5.29,5.46,5.4,4.85,4.12,3.52,2.94,2.28,1.73],\"yaxis\":\"y\",\"type\":\"scatter\"}],                        {\"template\":{\"data\":{\"histogram2dcontour\":[{\"type\":\"histogram2dcontour\",\"colorbar\":{\"outlinewidth\":0,\"ticks\":\"\"},\"colorscale\":[[0.0,\"#0d0887\"],[0.1111111111111111,\"#46039f\"],[0.2222222222222222,\"#7201a8\"],[0.3333333333333333,\"#9c179e\"],[0.4444444444444444,\"#bd3786\"],[0.5555555555555556,\"#d8576b\"],[0.6666666666666666,\"#ed7953\"],[0.7777777777777778,\"#fb9f3a\"],[0.8888888888888888,\"#fdca26\"],[1.0,\"#f0f921\"]]}],\"choropleth\":[{\"type\":\"choropleth\",\"colorbar\":{\"outlinewidth\":0,\"ticks\":\"\"}}],\"histogram2d\":[{\"type\":\"histogram2d\",\"colorbar\":{\"outlinewidth\":0,\"ticks\":\"\"},\"colorscale\":[[0.0,\"#0d0887\"],[0.1111111111111111,\"#46039f\"],[0.2222222222222222,\"#7201a8\"],[0.3333333333333333,\"#9c179e\"],[0.4444444444444444,\"#bd3786\"],[0.5555555555555556,\"#d8576b\"],[0.6666666666666666,\"#ed7953\"],[0.7777777777777778,\"#fb9f3a\"],[0.8888888888888888,\"#fdca26\"],[1.0,\"#f0f921\"]]}],\"heatmap\":[{\"type\":\"heatmap\",\"colorbar\":{\"outlinewidth\":0,\"ticks\":\"\"},\"colorscale\":[[0.0,\"#0d0887\"],[0.1111111111111111,\"#46039f\"],[0.2222222222222222,\"#7201a8\"],[0.3333333333333333,\"#9c179e\"],[0.4444444444444444,\"#bd3786\"],[0.5555555555555556,\"#d8576b\"],[0.6666666666666666,\"#ed7953\"],[0.7777777777777778,\"#fb9f3a\"],[0.8888888888888888,\"#fdca26\"],[1.0,\"#f0f921\"]]}],\"heatmapgl\":[{\"type\":\"heatmapgl\",\"colorbar\":{\"outlinewidth\":0,\"ticks\":\"\"},\"colorscale\":[[0.0,\"#0d0887\"],[0.1111111111111111,\"#46039f\"],[0.2222222222222222,\"#7201a8\"],[0.3333333333333333,\"#9c179e\"],[0.4444444444444444,\"#bd3786\"],[0.5555555555555556,\"#d8576b\"],[0.6666666666666666,\"#ed7953\"],[0.7777777777777778,\"#fb9f3a\"],[0.8888888888888888,\"#fdca26\"],[1.0,\"#f0f921\"]]}],\"contourcarpet\":[{\"type\":\"contourcarpet\",\"colorbar\":{\"outlinewidth\":0,\"ticks\":\"\"}}],\"contour\":[{\"type\":\"contour\",\"colorbar\":{\"outlinewidth\":0,\"ticks\":\"\"},\"colorscale\":[[0.0,\"#0d0887\"],[0.1111111111111111,\"#46039f\"],[0.2222222222222222,\"#7201a8\"],[0.3333333333333333,\"#9c179e\"],[0.4444444444444444,\"#bd3786\"],[0.5555555555555556,\"#d8576b\"],[0.6666666666666666,\"#ed7953\"],[0.7777777777777778,\"#fb9f3a\"],[0.8888888888888888,\"#fdca26\"],[1.0,\"#f0f921\"]]}],\"surface\":[{\"type\":\"surface\",\"colorbar\":{\"outlinewidth\":0,\"ticks\":\"\"},\"colorscale\":[[0.0,\"#0d0887\"],[0.1111111111111111,\"#46039f\"],[0.2222222222222222,\"#7201a8\"],[0.3333333333333333,\"#9c179e\"],[0.4444444444444444,\"#bd3786\"],[0.5555555555555556,\"#d8576b\"],[0.6666666666666666,\"#ed7953\"],[0.7777777777777778,\"#fb9f3a\"],[0.8888888888888888,\"#fdca26\"],[1.0,\"#f0f921\"]]}],\"mesh3d\":[{\"type\":\"mesh3d\",\"colorbar\":{\"outlinewidth\":0,\"ticks\":\"\"}}],\"scatter\":[{\"fillpattern\":{\"fillmode\":\"overlay\",\"size\":10,\"solidity\":0.2},\"type\":\"scatter\"}],\"parcoords\":[{\"type\":\"parcoords\",\"line\":{\"colorbar\":{\"outlinewidth\":0,\"ticks\":\"\"}}}],\"scatterpolargl\":[{\"type\":\"scatterpolargl\",\"marker\":{\"colorbar\":{\"outlinewidth\":0,\"ticks\":\"\"}}}],\"bar\":[{\"error_x\":{\"color\":\"#2a3f5f\"},\"error_y\":{\"color\":\"#2a3f5f\"},\"marker\":{\"line\":{\"color\":\"#E5ECF6\",\"width\":0.5},\"pattern\":{\"fillmode\":\"overlay\",\"size\":10,\"solidity\":0.2}},\"type\":\"bar\"}],\"scattergeo\":[{\"type\":\"scattergeo\",\"marker\":{\"colorbar\":{\"outlinewidth\":0,\"ticks\":\"\"}}}],\"scatterpolar\":[{\"type\":\"scatterpolar\",\"marker\":{\"colorbar\":{\"outlinewidth\":0,\"ticks\":\"\"}}}],\"histogram\":[{\"marker\":{\"pattern\":{\"fillmode\":\"overlay\",\"size\":10,\"solidity\":0.2}},\"type\":\"histogram\"}],\"scattergl\":[{\"type\":\"scattergl\",\"marker\":{\"colorbar\":{\"outlinewidth\":0,\"ticks\":\"\"}}}],\"scatter3d\":[{\"type\":\"scatter3d\",\"line\":{\"colorbar\":{\"outlinewidth\":0,\"ticks\":\"\"}},\"marker\":{\"colorbar\":{\"outlinewidth\":0,\"ticks\":\"\"}}}],\"scattermapbox\":[{\"type\":\"scattermapbox\",\"marker\":{\"colorbar\":{\"outlinewidth\":0,\"ticks\":\"\"}}}],\"scatterternary\":[{\"type\":\"scatterternary\",\"marker\":{\"colorbar\":{\"outlinewidth\":0,\"ticks\":\"\"}}}],\"scattercarpet\":[{\"type\":\"scattercarpet\",\"marker\":{\"colorbar\":{\"outlinewidth\":0,\"ticks\":\"\"}}}],\"carpet\":[{\"aaxis\":{\"endlinecolor\":\"#2a3f5f\",\"gridcolor\":\"white\",\"linecolor\":\"white\",\"minorgridcolor\":\"white\",\"startlinecolor\":\"#2a3f5f\"},\"baxis\":{\"endlinecolor\":\"#2a3f5f\",\"gridcolor\":\"white\",\"linecolor\":\"white\",\"minorgridcolor\":\"white\",\"startlinecolor\":\"#2a3f5f\"},\"type\":\"carpet\"}],\"table\":[{\"cells\":{\"fill\":{\"color\":\"#EBF0F8\"},\"line\":{\"color\":\"white\"}},\"header\":{\"fill\":{\"color\":\"#C8D4E3\"},\"line\":{\"color\":\"white\"}},\"type\":\"table\"}],\"barpolar\":[{\"marker\":{\"line\":{\"color\":\"#E5ECF6\",\"width\":0.5},\"pattern\":{\"fillmode\":\"overlay\",\"size\":10,\"solidity\":0.2}},\"type\":\"barpolar\"}],\"pie\":[{\"automargin\":true,\"type\":\"pie\"}]},\"layout\":{\"autotypenumbers\":\"strict\",\"colorway\":[\"#636efa\",\"#EF553B\",\"#00cc96\",\"#ab63fa\",\"#FFA15A\",\"#19d3f3\",\"#FF6692\",\"#B6E880\",\"#FF97FF\",\"#FECB52\"],\"font\":{\"color\":\"#2a3f5f\"},\"hovermode\":\"closest\",\"hoverlabel\":{\"align\":\"left\"},\"paper_bgcolor\":\"white\",\"plot_bgcolor\":\"#E5ECF6\",\"polar\":{\"bgcolor\":\"#E5ECF6\",\"angularaxis\":{\"gridcolor\":\"white\",\"linecolor\":\"white\",\"ticks\":\"\"},\"radialaxis\":{\"gridcolor\":\"white\",\"linecolor\":\"white\",\"ticks\":\"\"}},\"ternary\":{\"bgcolor\":\"#E5ECF6\",\"aaxis\":{\"gridcolor\":\"white\",\"linecolor\":\"white\",\"ticks\":\"\"},\"baxis\":{\"gridcolor\":\"white\",\"linecolor\":\"white\",\"ticks\":\"\"},\"caxis\":{\"gridcolor\":\"white\",\"linecolor\":\"white\",\"ticks\":\"\"}},\"coloraxis\":{\"colorbar\":{\"outlinewidth\":0,\"ticks\":\"\"}},\"colorscale\":{\"sequential\":[[0.0,\"#0d0887\"],[0.1111111111111111,\"#46039f\"],[0.2222222222222222,\"#7201a8\"],[0.3333333333333333,\"#9c179e\"],[0.4444444444444444,\"#bd3786\"],[0.5555555555555556,\"#d8576b\"],[0.6666666666666666,\"#ed7953\"],[0.7777777777777778,\"#fb9f3a\"],[0.8888888888888888,\"#fdca26\"],[1.0,\"#f0f921\"]],\"sequentialminus\":[[0.0,\"#0d0887\"],[0.1111111111111111,\"#46039f\"],[0.2222222222222222,\"#7201a8\"],[0.3333333333333333,\"#9c179e\"],[0.4444444444444444,\"#bd3786\"],[0.5555555555555556,\"#d8576b\"],[0.6666666666666666,\"#ed7953\"],[0.7777777777777778,\"#fb9f3a\"],[0.8888888888888888,\"#fdca26\"],[1.0,\"#f0f921\"]],\"diverging\":[[0,\"#8e0152\"],[0.1,\"#c51b7d\"],[0.2,\"#de77ae\"],[0.3,\"#f1b6da\"],[0.4,\"#fde0ef\"],[0.5,\"#f7f7f7\"],[0.6,\"#e6f5d0\"],[0.7,\"#b8e186\"],[0.8,\"#7fbc41\"],[0.9,\"#4d9221\"],[1,\"#276419\"]]},\"xaxis\":{\"gridcolor\":\"white\",\"linecolor\":\"white\",\"ticks\":\"\",\"title\":{\"standoff\":15},\"zerolinecolor\":\"white\",\"automargin\":true,\"zerolinewidth\":2},\"yaxis\":{\"gridcolor\":\"white\",\"linecolor\":\"white\",\"ticks\":\"\",\"title\":{\"standoff\":15},\"zerolinecolor\":\"white\",\"automargin\":true,\"zerolinewidth\":2},\"scene\":{\"xaxis\":{\"backgroundcolor\":\"#E5ECF6\",\"gridcolor\":\"white\",\"linecolor\":\"white\",\"showbackground\":true,\"ticks\":\"\",\"zerolinecolor\":\"white\",\"gridwidth\":2},\"yaxis\":{\"backgroundcolor\":\"#E5ECF6\",\"gridcolor\":\"white\",\"linecolor\":\"white\",\"showbackground\":true,\"ticks\":\"\",\"zerolinecolor\":\"white\",\"gridwidth\":2},\"zaxis\":{\"backgroundcolor\":\"#E5ECF6\",\"gridcolor\":\"white\",\"linecolor\":\"white\",\"showbackground\":true,\"ticks\":\"\",\"zerolinecolor\":\"white\",\"gridwidth\":2}},\"shapedefaults\":{\"line\":{\"color\":\"#2a3f5f\"}},\"annotationdefaults\":{\"arrowcolor\":\"#2a3f5f\",\"arrowhead\":0,\"arrowwidth\":1},\"geo\":{\"bgcolor\":\"white\",\"landcolor\":\"#E5ECF6\",\"subunitcolor\":\"white\",\"showland\":true,\"showlakes\":true,\"lakecolor\":\"white\"},\"title\":{\"x\":0.05},\"mapbox\":{\"style\":\"light\"}}},\"xaxis\":{\"anchor\":\"y\",\"domain\":[0.0,1.0],\"title\":{\"text\":\"timestamp\"},\"rangeslider\":{\"visible\":true},\"rangeselector\":{\"buttons\":[{\"count\":1,\"label\":\"1m\",\"step\":\"month\",\"stepmode\":\"backward\"},{\"count\":6,\"label\":\"6m\",\"step\":\"month\",\"stepmode\":\"backward\"},{\"count\":1,\"label\":\"1y\",\"step\":\"year\",\"stepmode\":\"backward\"},{\"step\":\"all\"}]},\"type\":\"date\"},\"yaxis\":{\"anchor\":\"x\",\"domain\":[0.0,1.0],\"title\":{\"text\":\"value\"}},\"legend\":{\"title\":{\"text\":\"variable\"},\"tracegroupgap\":0},\"title\":{\"text\":\"Weather Metrics Over Time\"},\"hovermode\":\"x unified\"},                        {\"responsive\": true}                    ).then(function(){\n",
       "                            \n",
       "var gd = document.getElementById('dbaadf1f-e04f-4d30-b320-320fede65746');\n",
       "var x = new MutationObserver(function (mutations, observer) {{\n",
       "        var display = window.getComputedStyle(gd).display;\n",
       "        if (!display || display === 'none') {{\n",
       "            console.log([gd, 'removed!']);\n",
       "            Plotly.purge(gd);\n",
       "            observer.disconnect();\n",
       "        }}\n",
       "}});\n",
       "\n",
       "// Listen for the removal of the full notebook cells\n",
       "var notebookContainer = gd.closest('#notebook-container');\n",
       "if (notebookContainer) {{\n",
       "    x.observe(notebookContainer, {childList: true});\n",
       "}}\n",
       "\n",
       "// Listen for the clearing of the current output cell\n",
       "var outputEl = gd.closest('.output');\n",
       "if (outputEl) {{\n",
       "    x.observe(outputEl, {childList: true});\n",
       "}}\n",
       "\n",
       "                        })                };                });            </script>        </div>"
      ]
     },
     "metadata": {},
     "output_type": "display_data"
    },
    {
     "data": {
      "application/vnd.plotly.v1+json": {
       "config": {
        "plotlyServerURL": "https://plot.ly"
       },
       "data": [
        {
         "alignmentgroup": "True",
         "hovertemplate": "Weather Description=%{x}<br>Number of Occurrences=%{marker.color}<extra></extra>",
         "legendgroup": "",
         "marker": {
          "color": [
           34,
           30,
           8,
           6,
           5,
           5,
           4,
           4
          ],
          "coloraxis": "coloraxis",
          "pattern": {
           "shape": ""
          }
         },
         "name": "",
         "offsetgroup": "",
         "orientation": "v",
         "showlegend": false,
         "textposition": "auto",
         "type": "bar",
         "x": [
          "Overcast",
          "Clear sky",
          "Partly cloudy",
          "Mostly clear",
          "Drizzle: Light",
          "Rain: Moderate",
          "Rain: Slight",
          "Drizzle: Moderate"
         ],
         "xaxis": "x",
         "y": [
          34,
          30,
          8,
          6,
          5,
          5,
          4,
          4
         ],
         "yaxis": "y"
        }
       ],
       "layout": {
        "autosize": true,
        "barmode": "relative",
        "coloraxis": {
         "colorbar": {
          "title": {
           "text": "Number of Occurrences"
          }
         },
         "colorscale": [
          [
           0,
           "#0d0887"
          ],
          [
           0.1111111111111111,
           "#46039f"
          ],
          [
           0.2222222222222222,
           "#7201a8"
          ],
          [
           0.3333333333333333,
           "#9c179e"
          ],
          [
           0.4444444444444444,
           "#bd3786"
          ],
          [
           0.5555555555555556,
           "#d8576b"
          ],
          [
           0.6666666666666666,
           "#ed7953"
          ],
          [
           0.7777777777777778,
           "#fb9f3a"
          ],
          [
           0.8888888888888888,
           "#fdca26"
          ],
          [
           1,
           "#f0f921"
          ]
         ]
        },
        "legend": {
         "tracegroupgap": 0
        },
        "template": {
         "data": {
          "bar": [
           {
            "error_x": {
             "color": "#2a3f5f"
            },
            "error_y": {
             "color": "#2a3f5f"
            },
            "marker": {
             "line": {
              "color": "#E5ECF6",
              "width": 0.5
             },
             "pattern": {
              "fillmode": "overlay",
              "size": 10,
              "solidity": 0.2
             }
            },
            "type": "bar"
           }
          ],
          "barpolar": [
           {
            "marker": {
             "line": {
              "color": "#E5ECF6",
              "width": 0.5
             },
             "pattern": {
              "fillmode": "overlay",
              "size": 10,
              "solidity": 0.2
             }
            },
            "type": "barpolar"
           }
          ],
          "carpet": [
           {
            "aaxis": {
             "endlinecolor": "#2a3f5f",
             "gridcolor": "white",
             "linecolor": "white",
             "minorgridcolor": "white",
             "startlinecolor": "#2a3f5f"
            },
            "baxis": {
             "endlinecolor": "#2a3f5f",
             "gridcolor": "white",
             "linecolor": "white",
             "minorgridcolor": "white",
             "startlinecolor": "#2a3f5f"
            },
            "type": "carpet"
           }
          ],
          "choropleth": [
           {
            "colorbar": {
             "outlinewidth": 0,
             "ticks": ""
            },
            "type": "choropleth"
           }
          ],
          "contour": [
           {
            "colorbar": {
             "outlinewidth": 0,
             "ticks": ""
            },
            "colorscale": [
             [
              0,
              "#0d0887"
             ],
             [
              0.1111111111111111,
              "#46039f"
             ],
             [
              0.2222222222222222,
              "#7201a8"
             ],
             [
              0.3333333333333333,
              "#9c179e"
             ],
             [
              0.4444444444444444,
              "#bd3786"
             ],
             [
              0.5555555555555556,
              "#d8576b"
             ],
             [
              0.6666666666666666,
              "#ed7953"
             ],
             [
              0.7777777777777778,
              "#fb9f3a"
             ],
             [
              0.8888888888888888,
              "#fdca26"
             ],
             [
              1,
              "#f0f921"
             ]
            ],
            "type": "contour"
           }
          ],
          "contourcarpet": [
           {
            "colorbar": {
             "outlinewidth": 0,
             "ticks": ""
            },
            "type": "contourcarpet"
           }
          ],
          "heatmap": [
           {
            "colorbar": {
             "outlinewidth": 0,
             "ticks": ""
            },
            "colorscale": [
             [
              0,
              "#0d0887"
             ],
             [
              0.1111111111111111,
              "#46039f"
             ],
             [
              0.2222222222222222,
              "#7201a8"
             ],
             [
              0.3333333333333333,
              "#9c179e"
             ],
             [
              0.4444444444444444,
              "#bd3786"
             ],
             [
              0.5555555555555556,
              "#d8576b"
             ],
             [
              0.6666666666666666,
              "#ed7953"
             ],
             [
              0.7777777777777778,
              "#fb9f3a"
             ],
             [
              0.8888888888888888,
              "#fdca26"
             ],
             [
              1,
              "#f0f921"
             ]
            ],
            "type": "heatmap"
           }
          ],
          "heatmapgl": [
           {
            "colorbar": {
             "outlinewidth": 0,
             "ticks": ""
            },
            "colorscale": [
             [
              0,
              "#0d0887"
             ],
             [
              0.1111111111111111,
              "#46039f"
             ],
             [
              0.2222222222222222,
              "#7201a8"
             ],
             [
              0.3333333333333333,
              "#9c179e"
             ],
             [
              0.4444444444444444,
              "#bd3786"
             ],
             [
              0.5555555555555556,
              "#d8576b"
             ],
             [
              0.6666666666666666,
              "#ed7953"
             ],
             [
              0.7777777777777778,
              "#fb9f3a"
             ],
             [
              0.8888888888888888,
              "#fdca26"
             ],
             [
              1,
              "#f0f921"
             ]
            ],
            "type": "heatmapgl"
           }
          ],
          "histogram": [
           {
            "marker": {
             "pattern": {
              "fillmode": "overlay",
              "size": 10,
              "solidity": 0.2
             }
            },
            "type": "histogram"
           }
          ],
          "histogram2d": [
           {
            "colorbar": {
             "outlinewidth": 0,
             "ticks": ""
            },
            "colorscale": [
             [
              0,
              "#0d0887"
             ],
             [
              0.1111111111111111,
              "#46039f"
             ],
             [
              0.2222222222222222,
              "#7201a8"
             ],
             [
              0.3333333333333333,
              "#9c179e"
             ],
             [
              0.4444444444444444,
              "#bd3786"
             ],
             [
              0.5555555555555556,
              "#d8576b"
             ],
             [
              0.6666666666666666,
              "#ed7953"
             ],
             [
              0.7777777777777778,
              "#fb9f3a"
             ],
             [
              0.8888888888888888,
              "#fdca26"
             ],
             [
              1,
              "#f0f921"
             ]
            ],
            "type": "histogram2d"
           }
          ],
          "histogram2dcontour": [
           {
            "colorbar": {
             "outlinewidth": 0,
             "ticks": ""
            },
            "colorscale": [
             [
              0,
              "#0d0887"
             ],
             [
              0.1111111111111111,
              "#46039f"
             ],
             [
              0.2222222222222222,
              "#7201a8"
             ],
             [
              0.3333333333333333,
              "#9c179e"
             ],
             [
              0.4444444444444444,
              "#bd3786"
             ],
             [
              0.5555555555555556,
              "#d8576b"
             ],
             [
              0.6666666666666666,
              "#ed7953"
             ],
             [
              0.7777777777777778,
              "#fb9f3a"
             ],
             [
              0.8888888888888888,
              "#fdca26"
             ],
             [
              1,
              "#f0f921"
             ]
            ],
            "type": "histogram2dcontour"
           }
          ],
          "mesh3d": [
           {
            "colorbar": {
             "outlinewidth": 0,
             "ticks": ""
            },
            "type": "mesh3d"
           }
          ],
          "parcoords": [
           {
            "line": {
             "colorbar": {
              "outlinewidth": 0,
              "ticks": ""
             }
            },
            "type": "parcoords"
           }
          ],
          "pie": [
           {
            "automargin": true,
            "type": "pie"
           }
          ],
          "scatter": [
           {
            "fillpattern": {
             "fillmode": "overlay",
             "size": 10,
             "solidity": 0.2
            },
            "type": "scatter"
           }
          ],
          "scatter3d": [
           {
            "line": {
             "colorbar": {
              "outlinewidth": 0,
              "ticks": ""
             }
            },
            "marker": {
             "colorbar": {
              "outlinewidth": 0,
              "ticks": ""
             }
            },
            "type": "scatter3d"
           }
          ],
          "scattercarpet": [
           {
            "marker": {
             "colorbar": {
              "outlinewidth": 0,
              "ticks": ""
             }
            },
            "type": "scattercarpet"
           }
          ],
          "scattergeo": [
           {
            "marker": {
             "colorbar": {
              "outlinewidth": 0,
              "ticks": ""
             }
            },
            "type": "scattergeo"
           }
          ],
          "scattergl": [
           {
            "marker": {
             "colorbar": {
              "outlinewidth": 0,
              "ticks": ""
             }
            },
            "type": "scattergl"
           }
          ],
          "scattermapbox": [
           {
            "marker": {
             "colorbar": {
              "outlinewidth": 0,
              "ticks": ""
             }
            },
            "type": "scattermapbox"
           }
          ],
          "scatterpolar": [
           {
            "marker": {
             "colorbar": {
              "outlinewidth": 0,
              "ticks": ""
             }
            },
            "type": "scatterpolar"
           }
          ],
          "scatterpolargl": [
           {
            "marker": {
             "colorbar": {
              "outlinewidth": 0,
              "ticks": ""
             }
            },
            "type": "scatterpolargl"
           }
          ],
          "scatterternary": [
           {
            "marker": {
             "colorbar": {
              "outlinewidth": 0,
              "ticks": ""
             }
            },
            "type": "scatterternary"
           }
          ],
          "surface": [
           {
            "colorbar": {
             "outlinewidth": 0,
             "ticks": ""
            },
            "colorscale": [
             [
              0,
              "#0d0887"
             ],
             [
              0.1111111111111111,
              "#46039f"
             ],
             [
              0.2222222222222222,
              "#7201a8"
             ],
             [
              0.3333333333333333,
              "#9c179e"
             ],
             [
              0.4444444444444444,
              "#bd3786"
             ],
             [
              0.5555555555555556,
              "#d8576b"
             ],
             [
              0.6666666666666666,
              "#ed7953"
             ],
             [
              0.7777777777777778,
              "#fb9f3a"
             ],
             [
              0.8888888888888888,
              "#fdca26"
             ],
             [
              1,
              "#f0f921"
             ]
            ],
            "type": "surface"
           }
          ],
          "table": [
           {
            "cells": {
             "fill": {
              "color": "#EBF0F8"
             },
             "line": {
              "color": "white"
             }
            },
            "header": {
             "fill": {
              "color": "#C8D4E3"
             },
             "line": {
              "color": "white"
             }
            },
            "type": "table"
           }
          ]
         },
         "layout": {
          "annotationdefaults": {
           "arrowcolor": "#2a3f5f",
           "arrowhead": 0,
           "arrowwidth": 1
          },
          "autotypenumbers": "strict",
          "coloraxis": {
           "colorbar": {
            "outlinewidth": 0,
            "ticks": ""
           }
          },
          "colorscale": {
           "diverging": [
            [
             0,
             "#8e0152"
            ],
            [
             0.1,
             "#c51b7d"
            ],
            [
             0.2,
             "#de77ae"
            ],
            [
             0.3,
             "#f1b6da"
            ],
            [
             0.4,
             "#fde0ef"
            ],
            [
             0.5,
             "#f7f7f7"
            ],
            [
             0.6,
             "#e6f5d0"
            ],
            [
             0.7,
             "#b8e186"
            ],
            [
             0.8,
             "#7fbc41"
            ],
            [
             0.9,
             "#4d9221"
            ],
            [
             1,
             "#276419"
            ]
           ],
           "sequential": [
            [
             0,
             "#0d0887"
            ],
            [
             0.1111111111111111,
             "#46039f"
            ],
            [
             0.2222222222222222,
             "#7201a8"
            ],
            [
             0.3333333333333333,
             "#9c179e"
            ],
            [
             0.4444444444444444,
             "#bd3786"
            ],
            [
             0.5555555555555556,
             "#d8576b"
            ],
            [
             0.6666666666666666,
             "#ed7953"
            ],
            [
             0.7777777777777778,
             "#fb9f3a"
            ],
            [
             0.8888888888888888,
             "#fdca26"
            ],
            [
             1,
             "#f0f921"
            ]
           ],
           "sequentialminus": [
            [
             0,
             "#0d0887"
            ],
            [
             0.1111111111111111,
             "#46039f"
            ],
            [
             0.2222222222222222,
             "#7201a8"
            ],
            [
             0.3333333333333333,
             "#9c179e"
            ],
            [
             0.4444444444444444,
             "#bd3786"
            ],
            [
             0.5555555555555556,
             "#d8576b"
            ],
            [
             0.6666666666666666,
             "#ed7953"
            ],
            [
             0.7777777777777778,
             "#fb9f3a"
            ],
            [
             0.8888888888888888,
             "#fdca26"
            ],
            [
             1,
             "#f0f921"
            ]
           ]
          },
          "colorway": [
           "#636efa",
           "#EF553B",
           "#00cc96",
           "#ab63fa",
           "#FFA15A",
           "#19d3f3",
           "#FF6692",
           "#B6E880",
           "#FF97FF",
           "#FECB52"
          ],
          "font": {
           "color": "#2a3f5f"
          },
          "geo": {
           "bgcolor": "white",
           "lakecolor": "white",
           "landcolor": "#E5ECF6",
           "showlakes": true,
           "showland": true,
           "subunitcolor": "white"
          },
          "hoverlabel": {
           "align": "left"
          },
          "hovermode": "closest",
          "mapbox": {
           "style": "light"
          },
          "paper_bgcolor": "white",
          "plot_bgcolor": "#E5ECF6",
          "polar": {
           "angularaxis": {
            "gridcolor": "white",
            "linecolor": "white",
            "ticks": ""
           },
           "bgcolor": "#E5ECF6",
           "radialaxis": {
            "gridcolor": "white",
            "linecolor": "white",
            "ticks": ""
           }
          },
          "scene": {
           "xaxis": {
            "backgroundcolor": "#E5ECF6",
            "gridcolor": "white",
            "gridwidth": 2,
            "linecolor": "white",
            "showbackground": true,
            "ticks": "",
            "zerolinecolor": "white"
           },
           "yaxis": {
            "backgroundcolor": "#E5ECF6",
            "gridcolor": "white",
            "gridwidth": 2,
            "linecolor": "white",
            "showbackground": true,
            "ticks": "",
            "zerolinecolor": "white"
           },
           "zaxis": {
            "backgroundcolor": "#E5ECF6",
            "gridcolor": "white",
            "gridwidth": 2,
            "linecolor": "white",
            "showbackground": true,
            "ticks": "",
            "zerolinecolor": "white"
           }
          },
          "shapedefaults": {
           "line": {
            "color": "#2a3f5f"
           }
          },
          "ternary": {
           "aaxis": {
            "gridcolor": "white",
            "linecolor": "white",
            "ticks": ""
           },
           "baxis": {
            "gridcolor": "white",
            "linecolor": "white",
            "ticks": ""
           },
           "bgcolor": "#E5ECF6",
           "caxis": {
            "gridcolor": "white",
            "linecolor": "white",
            "ticks": ""
           }
          },
          "title": {
           "x": 0.05
          },
          "xaxis": {
           "automargin": true,
           "gridcolor": "white",
           "linecolor": "white",
           "ticks": "",
           "title": {
            "standoff": 15
           },
           "zerolinecolor": "white",
           "zerolinewidth": 2
          },
          "yaxis": {
           "automargin": true,
           "gridcolor": "white",
           "linecolor": "white",
           "ticks": "",
           "title": {
            "standoff": 15
           },
           "zerolinecolor": "white",
           "zerolinewidth": 2
          }
         }
        },
        "title": {
         "text": "Frequency of Weather Descriptions"
        },
        "xaxis": {
         "anchor": "y",
         "autorange": true,
         "categoryarray": [
          "Overcast",
          "Clear sky",
          "Partly cloudy",
          "Mostly clear",
          "Drizzle: Light",
          "Rain: Moderate",
          "Rain: Slight",
          "Drizzle: Moderate"
         ],
         "domain": [
          0,
          1
         ],
         "range": [
          -0.5,
          7.5
         ],
         "title": {
          "text": "Weather Description"
         },
         "type": "category"
        },
        "yaxis": {
         "anchor": "x",
         "autorange": true,
         "domain": [
          0,
          1
         ],
         "range": [
          0,
          35.78947368421053
         ],
         "title": {
          "text": "Number of Occurrences"
         },
         "type": "linear"
        }
       }
      },
      "image/png": "[encoded data removed]",
      "text/html": [
       "<div>                            <div id=\"ad25d92f-d7f7-435e-a0fc-77ed7ea50c3a\" class=\"plotly-graph-div\" style=\"height:525px; width:100%;\"></div>            <script type=\"text/javascript\">                require([\"plotly\"], function(Plotly) {                    window.PLOTLYENV=window.PLOTLYENV || {};                                    if (document.getElementById(\"ad25d92f-d7f7-435e-a0fc-77ed7ea50c3a\")) {                    Plotly.newPlot(                        \"ad25d92f-d7f7-435e-a0fc-77ed7ea50c3a\",                        [{\"alignmentgroup\":\"True\",\"hovertemplate\":\"Weather Description=%{x}<br>Number of Occurrences=%{marker.color}<extra></extra>\",\"legendgroup\":\"\",\"marker\":{\"color\":[34,30,8,6,5,5,4,4],\"coloraxis\":\"coloraxis\",\"pattern\":{\"shape\":\"\"}},\"name\":\"\",\"offsetgroup\":\"\",\"orientation\":\"v\",\"showlegend\":false,\"textposition\":\"auto\",\"x\":[\"Overcast\",\"Clear sky\",\"Partly cloudy\",\"Mostly clear\",\"Drizzle: Light\",\"Rain: Moderate\",\"Rain: Slight\",\"Drizzle: Moderate\"],\"xaxis\":\"x\",\"y\":[34,30,8,6,5,5,4,4],\"yaxis\":\"y\",\"type\":\"bar\"}],                        {\"template\":{\"data\":{\"histogram2dcontour\":[{\"type\":\"histogram2dcontour\",\"colorbar\":{\"outlinewidth\":0,\"ticks\":\"\"},\"colorscale\":[[0.0,\"#0d0887\"],[0.1111111111111111,\"#46039f\"],[0.2222222222222222,\"#7201a8\"],[0.3333333333333333,\"#9c179e\"],[0.4444444444444444,\"#bd3786\"],[0.5555555555555556,\"#d8576b\"],[0.6666666666666666,\"#ed7953\"],[0.7777777777777778,\"#fb9f3a\"],[0.8888888888888888,\"#fdca26\"],[1.0,\"#f0f921\"]]}],\"choropleth\":[{\"type\":\"choropleth\",\"colorbar\":{\"outlinewidth\":0,\"ticks\":\"\"}}],\"histogram2d\":[{\"type\":\"histogram2d\",\"colorbar\":{\"outlinewidth\":0,\"ticks\":\"\"},\"colorscale\":[[0.0,\"#0d0887\"],[0.1111111111111111,\"#46039f\"],[0.2222222222222222,\"#7201a8\"],[0.3333333333333333,\"#9c179e\"],[0.4444444444444444,\"#bd3786\"],[0.5555555555555556,\"#d8576b\"],[0.6666666666666666,\"#ed7953\"],[0.7777777777777778,\"#fb9f3a\"],[0.8888888888888888,\"#fdca26\"],[1.0,\"#f0f921\"]]}],\"heatmap\":[{\"type\":\"heatmap\",\"colorbar\":{\"outlinewidth\":0,\"ticks\":\"\"},\"colorscale\":[[0.0,\"#0d0887\"],[0.1111111111111111,\"#46039f\"],[0.2222222222222222,\"#7201a8\"],[0.3333333333333333,\"#9c179e\"],[0.4444444444444444,\"#bd3786\"],[0.5555555555555556,\"#d8576b\"],[0.6666666666666666,\"#ed7953\"],[0.7777777777777778,\"#fb9f3a\"],[0.8888888888888888,\"#fdca26\"],[1.0,\"#f0f921\"]]}],\"heatmapgl\":[{\"type\":\"heatmapgl\",\"colorbar\":{\"outlinewidth\":0,\"ticks\":\"\"},\"colorscale\":[[0.0,\"#0d0887\"],[0.1111111111111111,\"#46039f\"],[0.2222222222222222,\"#7201a8\"],[0.3333333333333333,\"#9c179e\"],[0.4444444444444444,\"#bd3786\"],[0.5555555555555556,\"#d8576b\"],[0.6666666666666666,\"#ed7953\"],[0.7777777777777778,\"#fb9f3a\"],[0.8888888888888888,\"#fdca26\"],[1.0,\"#f0f921\"]]}],\"contourcarpet\":[{\"type\":\"contourcarpet\",\"colorbar\":{\"outlinewidth\":0,\"ticks\":\"\"}}],\"contour\":[{\"type\":\"contour\",\"colorbar\":{\"outlinewidth\":0,\"ticks\":\"\"},\"colorscale\":[[0.0,\"#0d0887\"],[0.1111111111111111,\"#46039f\"],[0.2222222222222222,\"#7201a8\"],[0.3333333333333333,\"#9c179e\"],[0.4444444444444444,\"#bd3786\"],[0.5555555555555556,\"#d8576b\"],[0.6666666666666666,\"#ed7953\"],[0.7777777777777778,\"#fb9f3a\"],[0.8888888888888888,\"#fdca26\"],[1.0,\"#f0f921\"]]}],\"surface\":[{\"type\":\"surface\",\"colorbar\":{\"outlinewidth\":0,\"ticks\":\"\"},\"colorscale\":[[0.0,\"#0d0887\"],[0.1111111111111111,\"#46039f\"],[0.2222222222222222,\"#7201a8\"],[0.3333333333333333,\"#9c179e\"],[0.4444444444444444,\"#bd3786\"],[0.5555555555555556,\"#d8576b\"],[0.6666666666666666,\"#ed7953\"],[0.7777777777777778,\"#fb9f3a\"],[0.8888888888888888,\"#fdca26\"],[1.0,\"#f0f921\"]]}],\"mesh3d\":[{\"type\":\"mesh3d\",\"colorbar\":{\"outlinewidth\":0,\"ticks\":\"\"}}],\"scatter\":[{\"fillpattern\":{\"fillmode\":\"overlay\",\"size\":10,\"solidity\":0.2},\"type\":\"scatter\"}],\"parcoords\":[{\"type\":\"parcoords\",\"line\":{\"colorbar\":{\"outlinewidth\":0,\"ticks\":\"\"}}}],\"scatterpolargl\":[{\"type\":\"scatterpolargl\",\"marker\":{\"colorbar\":{\"outlinewidth\":0,\"ticks\":\"\"}}}],\"bar\":[{\"error_x\":{\"color\":\"#2a3f5f\"},\"error_y\":{\"color\":\"#2a3f5f\"},\"marker\":{\"line\":{\"color\":\"#E5ECF6\",\"width\":0.5},\"pattern\":{\"fillmode\":\"overlay\",\"size\":10,\"solidity\":0.2}},\"type\":\"bar\"}],\"scattergeo\":[{\"type\":\"scattergeo\",\"marker\":{\"colorbar\":{\"outlinewidth\":0,\"ticks\":\"\"}}}],\"scatterpolar\":[{\"type\":\"scatterpolar\",\"marker\":{\"colorbar\":{\"outlinewidth\":0,\"ticks\":\"\"}}}],\"histogram\":[{\"marker\":{\"pattern\":{\"fillmode\":\"overlay\",\"size\":10,\"solidity\":0.2}},\"type\":\"histogram\"}],\"scattergl\":[{\"type\":\"scattergl\",\"marker\":{\"colorbar\":{\"outlinewidth\":0,\"ticks\":\"\"}}}],\"scatter3d\":[{\"type\":\"scatter3d\",\"line\":{\"colorbar\":{\"outlinewidth\":0,\"ticks\":\"\"}},\"marker\":{\"colorbar\":{\"outlinewidth\":0,\"ticks\":\"\"}}}],\"scattermapbox\":[{\"type\":\"scattermapbox\",\"marker\":{\"colorbar\":{\"outlinewidth\":0,\"ticks\":\"\"}}}],\"scatterternary\":[{\"type\":\"scatterternary\",\"marker\":{\"colorbar\":{\"outlinewidth\":0,\"ticks\":\"\"}}}],\"scattercarpet\":[{\"type\":\"scattercarpet\",\"marker\":{\"colorbar\":{\"outlinewidth\":0,\"ticks\":\"\"}}}],\"carpet\":[{\"aaxis\":{\"endlinecolor\":\"#2a3f5f\",\"gridcolor\":\"white\",\"linecolor\":\"white\",\"minorgridcolor\":\"white\",\"startlinecolor\":\"#2a3f5f\"},\"baxis\":{\"endlinecolor\":\"#2a3f5f\",\"gridcolor\":\"white\",\"linecolor\":\"white\",\"minorgridcolor\":\"white\",\"startlinecolor\":\"#2a3f5f\"},\"type\":\"carpet\"}],\"table\":[{\"cells\":{\"fill\":{\"color\":\"#EBF0F8\"},\"line\":{\"color\":\"white\"}},\"header\":{\"fill\":{\"color\":\"#C8D4E3\"},\"line\":{\"color\":\"white\"}},\"type\":\"table\"}],\"barpolar\":[{\"marker\":{\"line\":{\"color\":\"#E5ECF6\",\"width\":0.5},\"pattern\":{\"fillmode\":\"overlay\",\"size\":10,\"solidity\":0.2}},\"type\":\"barpolar\"}],\"pie\":[{\"automargin\":true,\"type\":\"pie\"}]},\"layout\":{\"autotypenumbers\":\"strict\",\"colorway\":[\"#636efa\",\"#EF553B\",\"#00cc96\",\"#ab63fa\",\"#FFA15A\",\"#19d3f3\",\"#FF6692\",\"#B6E880\",\"#FF97FF\",\"#FECB52\"],\"font\":{\"color\":\"#2a3f5f\"},\"hovermode\":\"closest\",\"hoverlabel\":{\"align\":\"left\"},\"paper_bgcolor\":\"white\",\"plot_bgcolor\":\"#E5ECF6\",\"polar\":{\"bgcolor\":\"#E5ECF6\",\"angularaxis\":{\"gridcolor\":\"white\",\"linecolor\":\"white\",\"ticks\":\"\"},\"radialaxis\":{\"gridcolor\":\"white\",\"linecolor\":\"white\",\"ticks\":\"\"}},\"ternary\":{\"bgcolor\":\"#E5ECF6\",\"aaxis\":{\"gridcolor\":\"white\",\"linecolor\":\"white\",\"ticks\":\"\"},\"baxis\":{\"gridcolor\":\"white\",\"linecolor\":\"white\",\"ticks\":\"\"},\"caxis\":{\"gridcolor\":\"white\",\"linecolor\":\"white\",\"ticks\":\"\"}},\"coloraxis\":{\"colorbar\":{\"outlinewidth\":0,\"ticks\":\"\"}},\"colorscale\":{\"sequential\":[[0.0,\"#0d0887\"],[0.1111111111111111,\"#46039f\"],[0.2222222222222222,\"#7201a8\"],[0.3333333333333333,\"#9c179e\"],[0.4444444444444444,\"#bd3786\"],[0.5555555555555556,\"#d8576b\"],[0.6666666666666666,\"#ed7953\"],[0.7777777777777778,\"#fb9f3a\"],[0.8888888888888888,\"#fdca26\"],[1.0,\"#f0f921\"]],\"sequentialminus\":[[0.0,\"#0d0887\"],[0.1111111111111111,\"#46039f\"],[0.2222222222222222,\"#7201a8\"],[0.3333333333333333,\"#9c179e\"],[0.4444444444444444,\"#bd3786\"],[0.5555555555555556,\"#d8576b\"],[0.6666666666666666,\"#ed7953\"],[0.7777777777777778,\"#fb9f3a\"],[0.8888888888888888,\"#fdca26\"],[1.0,\"#f0f921\"]],\"diverging\":[[0,\"#8e0152\"],[0.1,\"#c51b7d\"],[0.2,\"#de77ae\"],[0.3,\"#f1b6da\"],[0.4,\"#fde0ef\"],[0.5,\"#f7f7f7\"],[0.6,\"#e6f5d0\"],[0.7,\"#b8e186\"],[0.8,\"#7fbc41\"],[0.9,\"#4d9221\"],[1,\"#276419\"]]},\"xaxis\":{\"gridcolor\":\"white\",\"linecolor\":\"white\",\"ticks\":\"\",\"title\":{\"standoff\":15},\"zerolinecolor\":\"white\",\"automargin\":true,\"zerolinewidth\":2},\"yaxis\":{\"gridcolor\":\"white\",\"linecolor\":\"white\",\"ticks\":\"\",\"title\":{\"standoff\":15},\"zerolinecolor\":\"white\",\"automargin\":true,\"zerolinewidth\":2},\"scene\":{\"xaxis\":{\"backgroundcolor\":\"#E5ECF6\",\"gridcolor\":\"white\",\"linecolor\":\"white\",\"showbackground\":true,\"ticks\":\"\",\"zerolinecolor\":\"white\",\"gridwidth\":2},\"yaxis\":{\"backgroundcolor\":\"#E5ECF6\",\"gridcolor\":\"white\",\"linecolor\":\"white\",\"showbackground\":true,\"ticks\":\"\",\"zerolinecolor\":\"white\",\"gridwidth\":2},\"zaxis\":{\"backgroundcolor\":\"#E5ECF6\",\"gridcolor\":\"white\",\"linecolor\":\"white\",\"showbackground\":true,\"ticks\":\"\",\"zerolinecolor\":\"white\",\"gridwidth\":2}},\"shapedefaults\":{\"line\":{\"color\":\"#2a3f5f\"}},\"annotationdefaults\":{\"arrowcolor\":\"#2a3f5f\",\"arrowhead\":0,\"arrowwidth\":1},\"geo\":{\"bgcolor\":\"white\",\"landcolor\":\"#E5ECF6\",\"subunitcolor\":\"white\",\"showland\":true,\"showlakes\":true,\"lakecolor\":\"white\"},\"title\":{\"x\":0.05},\"mapbox\":{\"style\":\"light\"}}},\"xaxis\":{\"anchor\":\"y\",\"domain\":[0.0,1.0],\"title\":{\"text\":\"Weather Description\"},\"categoryarray\":[\"Overcast\",\"Clear sky\",\"Partly cloudy\",\"Mostly clear\",\"Drizzle: Light\",\"Rain: Moderate\",\"Rain: Slight\",\"Drizzle: Moderate\"]},\"yaxis\":{\"anchor\":\"x\",\"domain\":[0.0,1.0],\"title\":{\"text\":\"Number of Occurrences\"}},\"coloraxis\":{\"colorbar\":{\"title\":{\"text\":\"Number of Occurrences\"}},\"colorscale\":[[0.0,\"#0d0887\"],[0.1111111111111111,\"#46039f\"],[0.2222222222222222,\"#7201a8\"],[0.3333333333333333,\"#9c179e\"],[0.4444444444444444,\"#bd3786\"],[0.5555555555555556,\"#d8576b\"],[0.6666666666666666,\"#ed7953\"],[0.7777777777777778,\"#fb9f3a\"],[0.8888888888888888,\"#fdca26\"],[1.0,\"#f0f921\"]]},\"legend\":{\"tracegroupgap\":0},\"title\":{\"text\":\"Frequency of Weather Descriptions\"},\"barmode\":\"relative\"},                        {\"responsive\": true}                    ).then(function(){\n",
       "                            \n",
       "var gd = document.getElementById('ad25d92f-d7f7-435e-a0fc-77ed7ea50c3a');\n",
       "var x = new MutationObserver(function (mutations, observer) {{\n",
       "        var display = window.getComputedStyle(gd).display;\n",
       "        if (!display || display === 'none') {{\n",
       "            console.log([gd, 'removed!']);\n",
       "            Plotly.purge(gd);\n",
       "            observer.disconnect();\n",
       "        }}\n",
       "}});\n",
       "\n",
       "// Listen for the removal of the full notebook cells\n",
       "var notebookContainer = gd.closest('#notebook-container');\n",
       "if (notebookContainer) {{\n",
       "    x.observe(notebookContainer, {childList: true});\n",
       "}}\n",
       "\n",
       "// Listen for the clearing of the current output cell\n",
       "var outputEl = gd.closest('.output');\n",
       "if (outputEl) {{\n",
       "    x.observe(outputEl, {childList: true});\n",
       "}}\n",
       "\n",
       "                        })                };                });            </script>        </div>"
      ]
     },
     "metadata": {},
     "output_type": "display_data"
    },
    {
     "data": {
      "application/vnd.plotly.v1+json": {
       "config": {
        "plotlyServerURL": "https://plot.ly"
       },
       "data": [
        {
         "alignmentgroup": "True",
         "hovertemplate": "Weather Code=%{x}<br>Number of Occurrences=%{marker.color}<extra></extra>",
         "legendgroup": "",
         "marker": {
          "color": [
           34,
           30,
           8,
           6,
           5,
           5,
           4,
           4
          ],
          "coloraxis": "coloraxis",
          "pattern": {
           "shape": ""
          }
         },
         "name": "",
         "offsetgroup": "",
         "orientation": "v",
         "showlegend": false,
         "textposition": "auto",
         "type": "bar",
         "x": [
          3,
          0,
          2,
          1,
          51,
          63,
          61,
          53
         ],
         "xaxis": "x",
         "y": [
          34,
          30,
          8,
          6,
          5,
          5,
          4,
          4
         ],
         "yaxis": "y"
        }
       ],
       "layout": {
        "autosize": true,
        "barmode": "relative",
        "coloraxis": {
         "colorbar": {
          "title": {
           "text": "Number of Occurrences"
          }
         },
         "colorscale": [
          [
           0,
           "#440154"
          ],
          [
           0.1111111111111111,
           "#482878"
          ],
          [
           0.2222222222222222,
           "#3e4989"
          ],
          [
           0.3333333333333333,
           "#31688e"
          ],
          [
           0.4444444444444444,
           "#26828e"
          ],
          [
           0.5555555555555556,
           "#1f9e89"
          ],
          [
           0.6666666666666666,
           "#35b779"
          ],
          [
           0.7777777777777778,
           "#6ece58"
          ],
          [
           0.8888888888888888,
           "#b5de2b"
          ],
          [
           1,
           "#fde725"
          ]
         ]
        },
        "legend": {
         "tracegroupgap": 0
        },
        "template": {
         "data": {
          "bar": [
           {
            "error_x": {
             "color": "#2a3f5f"
            },
            "error_y": {
             "color": "#2a3f5f"
            },
            "marker": {
             "line": {
              "color": "#E5ECF6",
              "width": 0.5
             },
             "pattern": {
              "fillmode": "overlay",
              "size": 10,
              "solidity": 0.2
             }
            },
            "type": "bar"
           }
          ],
          "barpolar": [
           {
            "marker": {
             "line": {
              "color": "#E5ECF6",
              "width": 0.5
             },
             "pattern": {
              "fillmode": "overlay",
              "size": 10,
              "solidity": 0.2
             }
            },
            "type": "barpolar"
           }
          ],
          "carpet": [
           {
            "aaxis": {
             "endlinecolor": "#2a3f5f",
             "gridcolor": "white",
             "linecolor": "white",
             "minorgridcolor": "white",
             "startlinecolor": "#2a3f5f"
            },
            "baxis": {
             "endlinecolor": "#2a3f5f",
             "gridcolor": "white",
             "linecolor": "white",
             "minorgridcolor": "white",
             "startlinecolor": "#2a3f5f"
            },
            "type": "carpet"
           }
          ],
          "choropleth": [
           {
            "colorbar": {
             "outlinewidth": 0,
             "ticks": ""
            },
            "type": "choropleth"
           }
          ],
          "contour": [
           {
            "colorbar": {
             "outlinewidth": 0,
             "ticks": ""
            },
            "colorscale": [
             [
              0,
              "#0d0887"
             ],
             [
              0.1111111111111111,
              "#46039f"
             ],
             [
              0.2222222222222222,
              "#7201a8"
             ],
             [
              0.3333333333333333,
              "#9c179e"
             ],
             [
              0.4444444444444444,
              "#bd3786"
             ],
             [
              0.5555555555555556,
              "#d8576b"
             ],
             [
              0.6666666666666666,
              "#ed7953"
             ],
             [
              0.7777777777777778,
              "#fb9f3a"
             ],
             [
              0.8888888888888888,
              "#fdca26"
             ],
             [
              1,
              "#f0f921"
             ]
            ],
            "type": "contour"
           }
          ],
          "contourcarpet": [
           {
            "colorbar": {
             "outlinewidth": 0,
             "ticks": ""
            },
            "type": "contourcarpet"
           }
          ],
          "heatmap": [
           {
            "colorbar": {
             "outlinewidth": 0,
             "ticks": ""
            },
            "colorscale": [
             [
              0,
              "#0d0887"
             ],
             [
              0.1111111111111111,
              "#46039f"
             ],
             [
              0.2222222222222222,
              "#7201a8"
             ],
             [
              0.3333333333333333,
              "#9c179e"
             ],
             [
              0.4444444444444444,
              "#bd3786"
             ],
             [
              0.5555555555555556,
              "#d8576b"
             ],
             [
              0.6666666666666666,
              "#ed7953"
             ],
             [
              0.7777777777777778,
              "#fb9f3a"
             ],
             [
              0.8888888888888888,
              "#fdca26"
             ],
             [
              1,
              "#f0f921"
             ]
            ],
            "type": "heatmap"
           }
          ],
          "heatmapgl": [
           {
            "colorbar": {
             "outlinewidth": 0,
             "ticks": ""
            },
            "colorscale": [
             [
              0,
              "#0d0887"
             ],
             [
              0.1111111111111111,
              "#46039f"
             ],
             [
              0.2222222222222222,
              "#7201a8"
             ],
             [
              0.3333333333333333,
              "#9c179e"
             ],
             [
              0.4444444444444444,
              "#bd3786"
             ],
             [
              0.5555555555555556,
              "#d8576b"
             ],
             [
              0.6666666666666666,
              "#ed7953"
             ],
             [
              0.7777777777777778,
              "#fb9f3a"
             ],
             [
              0.8888888888888888,
              "#fdca26"
             ],
             [
              1,
              "#f0f921"
             ]
            ],
            "type": "heatmapgl"
           }
          ],
          "histogram": [
           {
            "marker": {
             "pattern": {
              "fillmode": "overlay",
              "size": 10,
              "solidity": 0.2
             }
            },
            "type": "histogram"
           }
          ],
          "histogram2d": [
           {
            "colorbar": {
             "outlinewidth": 0,
             "ticks": ""
            },
            "colorscale": [
             [
              0,
              "#0d0887"
             ],
             [
              0.1111111111111111,
              "#46039f"
             ],
             [
              0.2222222222222222,
              "#7201a8"
             ],
             [
              0.3333333333333333,
              "#9c179e"
             ],
             [
              0.4444444444444444,
              "#bd3786"
             ],
             [
              0.5555555555555556,
              "#d8576b"
             ],
             [
              0.6666666666666666,
              "#ed7953"
             ],
             [
              0.7777777777777778,
              "#fb9f3a"
             ],
             [
              0.8888888888888888,
              "#fdca26"
             ],
             [
              1,
              "#f0f921"
             ]
            ],
            "type": "histogram2d"
           }
          ],
          "histogram2dcontour": [
           {
            "colorbar": {
             "outlinewidth": 0,
             "ticks": ""
            },
            "colorscale": [
             [
              0,
              "#0d0887"
             ],
             [
              0.1111111111111111,
              "#46039f"
             ],
             [
              0.2222222222222222,
              "#7201a8"
             ],
             [
              0.3333333333333333,
              "#9c179e"
             ],
             [
              0.4444444444444444,
              "#bd3786"
             ],
             [
              0.5555555555555556,
              "#d8576b"
             ],
             [
              0.6666666666666666,
              "#ed7953"
             ],
             [
              0.7777777777777778,
              "#fb9f3a"
             ],
             [
              0.8888888888888888,
              "#fdca26"
             ],
             [
              1,
              "#f0f921"
             ]
            ],
            "type": "histogram2dcontour"
           }
          ],
          "mesh3d": [
           {
            "colorbar": {
             "outlinewidth": 0,
             "ticks": ""
            },
            "type": "mesh3d"
           }
          ],
          "parcoords": [
           {
            "line": {
             "colorbar": {
              "outlinewidth": 0,
              "ticks": ""
             }
            },
            "type": "parcoords"
           }
          ],
          "pie": [
           {
            "automargin": true,
            "type": "pie"
           }
          ],
          "scatter": [
           {
            "fillpattern": {
             "fillmode": "overlay",
             "size": 10,
             "solidity": 0.2
            },
            "type": "scatter"
           }
          ],
          "scatter3d": [
           {
            "line": {
             "colorbar": {
              "outlinewidth": 0,
              "ticks": ""
             }
            },
            "marker": {
             "colorbar": {
              "outlinewidth": 0,
              "ticks": ""
             }
            },
            "type": "scatter3d"
           }
          ],
          "scattercarpet": [
           {
            "marker": {
             "colorbar": {
              "outlinewidth": 0,
              "ticks": ""
             }
            },
            "type": "scattercarpet"
           }
          ],
          "scattergeo": [
           {
            "marker": {
             "colorbar": {
              "outlinewidth": 0,
              "ticks": ""
             }
            },
            "type": "scattergeo"
           }
          ],
          "scattergl": [
           {
            "marker": {
             "colorbar": {
              "outlinewidth": 0,
              "ticks": ""
             }
            },
            "type": "scattergl"
           }
          ],
          "scattermapbox": [
           {
            "marker": {
             "colorbar": {
              "outlinewidth": 0,
              "ticks": ""
             }
            },
            "type": "scattermapbox"
           }
          ],
          "scatterpolar": [
           {
            "marker": {
             "colorbar": {
              "outlinewidth": 0,
              "ticks": ""
             }
            },
            "type": "scatterpolar"
           }
          ],
          "scatterpolargl": [
           {
            "marker": {
             "colorbar": {
              "outlinewidth": 0,
              "ticks": ""
             }
            },
            "type": "scatterpolargl"
           }
          ],
          "scatterternary": [
           {
            "marker": {
             "colorbar": {
              "outlinewidth": 0,
              "ticks": ""
             }
            },
            "type": "scatterternary"
           }
          ],
          "surface": [
           {
            "colorbar": {
             "outlinewidth": 0,
             "ticks": ""
            },
            "colorscale": [
             [
              0,
              "#0d0887"
             ],
             [
              0.1111111111111111,
              "#46039f"
             ],
             [
              0.2222222222222222,
              "#7201a8"
             ],
             [
              0.3333333333333333,
              "#9c179e"
             ],
             [
              0.4444444444444444,
              "#bd3786"
             ],
             [
              0.5555555555555556,
              "#d8576b"
             ],
             [
              0.6666666666666666,
              "#ed7953"
             ],
             [
              0.7777777777777778,
              "#fb9f3a"
             ],
             [
              0.8888888888888888,
              "#fdca26"
             ],
             [
              1,
              "#f0f921"
             ]
            ],
            "type": "surface"
           }
          ],
          "table": [
           {
            "cells": {
             "fill": {
              "color": "#EBF0F8"
             },
             "line": {
              "color": "white"
             }
            },
            "header": {
             "fill": {
              "color": "#C8D4E3"
             },
             "line": {
              "color": "white"
             }
            },
            "type": "table"
           }
          ]
         },
         "layout": {
          "annotationdefaults": {
           "arrowcolor": "#2a3f5f",
           "arrowhead": 0,
           "arrowwidth": 1
          },
          "autotypenumbers": "strict",
          "coloraxis": {
           "colorbar": {
            "outlinewidth": 0,
            "ticks": ""
           }
          },
          "colorscale": {
           "diverging": [
            [
             0,
             "#8e0152"
            ],
            [
             0.1,
             "#c51b7d"
            ],
            [
             0.2,
             "#de77ae"
            ],
            [
             0.3,
             "#f1b6da"
            ],
            [
             0.4,
             "#fde0ef"
            ],
            [
             0.5,
             "#f7f7f7"
            ],
            [
             0.6,
             "#e6f5d0"
            ],
            [
             0.7,
             "#b8e186"
            ],
            [
             0.8,
             "#7fbc41"
            ],
            [
             0.9,
             "#4d9221"
            ],
            [
             1,
             "#276419"
            ]
           ],
           "sequential": [
            [
             0,
             "#0d0887"
            ],
            [
             0.1111111111111111,
             "#46039f"
            ],
            [
             0.2222222222222222,
             "#7201a8"
            ],
            [
             0.3333333333333333,
             "#9c179e"
            ],
            [
             0.4444444444444444,
             "#bd3786"
            ],
            [
             0.5555555555555556,
             "#d8576b"
            ],
            [
             0.6666666666666666,
             "#ed7953"
            ],
            [
             0.7777777777777778,
             "#fb9f3a"
            ],
            [
             0.8888888888888888,
             "#fdca26"
            ],
            [
             1,
             "#f0f921"
            ]
           ],
           "sequentialminus": [
            [
             0,
             "#0d0887"
            ],
            [
             0.1111111111111111,
             "#46039f"
            ],
            [
             0.2222222222222222,
             "#7201a8"
            ],
            [
             0.3333333333333333,
             "#9c179e"
            ],
            [
             0.4444444444444444,
             "#bd3786"
            ],
            [
             0.5555555555555556,
             "#d8576b"
            ],
            [
             0.6666666666666666,
             "#ed7953"
            ],
            [
             0.7777777777777778,
             "#fb9f3a"
            ],
            [
             0.8888888888888888,
             "#fdca26"
            ],
            [
             1,
             "#f0f921"
            ]
           ]
          },
          "colorway": [
           "#636efa",
           "#EF553B",
           "#00cc96",
           "#ab63fa",
           "#FFA15A",
           "#19d3f3",
           "#FF6692",
           "#B6E880",
           "#FF97FF",
           "#FECB52"
          ],
          "font": {
           "color": "#2a3f5f"
          },
          "geo": {
           "bgcolor": "white",
           "lakecolor": "white",
           "landcolor": "#E5ECF6",
           "showlakes": true,
           "showland": true,
           "subunitcolor": "white"
          },
          "hoverlabel": {
           "align": "left"
          },
          "hovermode": "closest",
          "mapbox": {
           "style": "light"
          },
          "paper_bgcolor": "white",
          "plot_bgcolor": "#E5ECF6",
          "polar": {
           "angularaxis": {
            "gridcolor": "white",
            "linecolor": "white",
            "ticks": ""
           },
           "bgcolor": "#E5ECF6",
           "radialaxis": {
            "gridcolor": "white",
            "linecolor": "white",
            "ticks": ""
           }
          },
          "scene": {
           "xaxis": {
            "backgroundcolor": "#E5ECF6",
            "gridcolor": "white",
            "gridwidth": 2,
            "linecolor": "white",
            "showbackground": true,
            "ticks": "",
            "zerolinecolor": "white"
           },
           "yaxis": {
            "backgroundcolor": "#E5ECF6",
            "gridcolor": "white",
            "gridwidth": 2,
            "linecolor": "white",
            "showbackground": true,
            "ticks": "",
            "zerolinecolor": "white"
           },
           "zaxis": {
            "backgroundcolor": "#E5ECF6",
            "gridcolor": "white",
            "gridwidth": 2,
            "linecolor": "white",
            "showbackground": true,
            "ticks": "",
            "zerolinecolor": "white"
           }
          },
          "shapedefaults": {
           "line": {
            "color": "#2a3f5f"
           }
          },
          "ternary": {
           "aaxis": {
            "gridcolor": "white",
            "linecolor": "white",
            "ticks": ""
           },
           "baxis": {
            "gridcolor": "white",
            "linecolor": "white",
            "ticks": ""
           },
           "bgcolor": "#E5ECF6",
           "caxis": {
            "gridcolor": "white",
            "linecolor": "white",
            "ticks": ""
           }
          },
          "title": {
           "x": 0.05
          },
          "xaxis": {
           "automargin": true,
           "gridcolor": "white",
           "linecolor": "white",
           "ticks": "",
           "title": {
            "standoff": 15
           },
           "zerolinecolor": "white",
           "zerolinewidth": 2
          },
          "yaxis": {
           "automargin": true,
           "gridcolor": "white",
           "linecolor": "white",
           "ticks": "",
           "title": {
            "standoff": 15
           },
           "zerolinecolor": "white",
           "zerolinewidth": 2
          }
         }
        },
        "title": {
         "text": "Frequency of Weather Codes"
        },
        "xaxis": {
         "anchor": "y",
         "autorange": true,
         "categoryarray": [
          3,
          0,
          2,
          1,
          51,
          63,
          61,
          53
         ],
         "domain": [
          0,
          1
         ],
         "range": [
          -0.5,
          63.5
         ],
         "title": {
          "text": "Weather Code"
         },
         "type": "linear"
        },
        "yaxis": {
         "anchor": "x",
         "autorange": true,
         "domain": [
          0,
          1
         ],
         "range": [
          0,
          35.78947368421053
         ],
         "title": {
          "text": "Number of Occurrences"
         },
         "type": "linear"
        }
       }
      },
      "image/png": "[encoded data removed]",
      "text/html": [
       "<div>                            <div id=\"c7e5a601-afb0-4ce2-a95a-28e5781f8495\" class=\"plotly-graph-div\" style=\"height:525px; width:100%;\"></div>            <script type=\"text/javascript\">                require([\"plotly\"], function(Plotly) {                    window.PLOTLYENV=window.PLOTLYENV || {};                                    if (document.getElementById(\"c7e5a601-afb0-4ce2-a95a-28e5781f8495\")) {                    Plotly.newPlot(                        \"c7e5a601-afb0-4ce2-a95a-28e5781f8495\",                        [{\"alignmentgroup\":\"True\",\"hovertemplate\":\"Weather Code=%{x}<br>Number of Occurrences=%{marker.color}<extra></extra>\",\"legendgroup\":\"\",\"marker\":{\"color\":[34,30,8,6,5,5,4,4],\"coloraxis\":\"coloraxis\",\"pattern\":{\"shape\":\"\"}},\"name\":\"\",\"offsetgroup\":\"\",\"orientation\":\"v\",\"showlegend\":false,\"textposition\":\"auto\",\"x\":[3,0,2,1,51,63,61,53],\"xaxis\":\"x\",\"y\":[34,30,8,6,5,5,4,4],\"yaxis\":\"y\",\"type\":\"bar\"}],                        {\"template\":{\"data\":{\"histogram2dcontour\":[{\"type\":\"histogram2dcontour\",\"colorbar\":{\"outlinewidth\":0,\"ticks\":\"\"},\"colorscale\":[[0.0,\"#0d0887\"],[0.1111111111111111,\"#46039f\"],[0.2222222222222222,\"#7201a8\"],[0.3333333333333333,\"#9c179e\"],[0.4444444444444444,\"#bd3786\"],[0.5555555555555556,\"#d8576b\"],[0.6666666666666666,\"#ed7953\"],[0.7777777777777778,\"#fb9f3a\"],[0.8888888888888888,\"#fdca26\"],[1.0,\"#f0f921\"]]}],\"choropleth\":[{\"type\":\"choropleth\",\"colorbar\":{\"outlinewidth\":0,\"ticks\":\"\"}}],\"histogram2d\":[{\"type\":\"histogram2d\",\"colorbar\":{\"outlinewidth\":0,\"ticks\":\"\"},\"colorscale\":[[0.0,\"#0d0887\"],[0.1111111111111111,\"#46039f\"],[0.2222222222222222,\"#7201a8\"],[0.3333333333333333,\"#9c179e\"],[0.4444444444444444,\"#bd3786\"],[0.5555555555555556,\"#d8576b\"],[0.6666666666666666,\"#ed7953\"],[0.7777777777777778,\"#fb9f3a\"],[0.8888888888888888,\"#fdca26\"],[1.0,\"#f0f921\"]]}],\"heatmap\":[{\"type\":\"heatmap\",\"colorbar\":{\"outlinewidth\":0,\"ticks\":\"\"},\"colorscale\":[[0.0,\"#0d0887\"],[0.1111111111111111,\"#46039f\"],[0.2222222222222222,\"#7201a8\"],[0.3333333333333333,\"#9c179e\"],[0.4444444444444444,\"#bd3786\"],[0.5555555555555556,\"#d8576b\"],[0.6666666666666666,\"#ed7953\"],[0.7777777777777778,\"#fb9f3a\"],[0.8888888888888888,\"#fdca26\"],[1.0,\"#f0f921\"]]}],\"heatmapgl\":[{\"type\":\"heatmapgl\",\"colorbar\":{\"outlinewidth\":0,\"ticks\":\"\"},\"colorscale\":[[0.0,\"#0d0887\"],[0.1111111111111111,\"#46039f\"],[0.2222222222222222,\"#7201a8\"],[0.3333333333333333,\"#9c179e\"],[0.4444444444444444,\"#bd3786\"],[0.5555555555555556,\"#d8576b\"],[0.6666666666666666,\"#ed7953\"],[0.7777777777777778,\"#fb9f3a\"],[0.8888888888888888,\"#fdca26\"],[1.0,\"#f0f921\"]]}],\"contourcarpet\":[{\"type\":\"contourcarpet\",\"colorbar\":{\"outlinewidth\":0,\"ticks\":\"\"}}],\"contour\":[{\"type\":\"contour\",\"colorbar\":{\"outlinewidth\":0,\"ticks\":\"\"},\"colorscale\":[[0.0,\"#0d0887\"],[0.1111111111111111,\"#46039f\"],[0.2222222222222222,\"#7201a8\"],[0.3333333333333333,\"#9c179e\"],[0.4444444444444444,\"#bd3786\"],[0.5555555555555556,\"#d8576b\"],[0.6666666666666666,\"#ed7953\"],[0.7777777777777778,\"#fb9f3a\"],[0.8888888888888888,\"#fdca26\"],[1.0,\"#f0f921\"]]}],\"surface\":[{\"type\":\"surface\",\"colorbar\":{\"outlinewidth\":0,\"ticks\":\"\"},\"colorscale\":[[0.0,\"#0d0887\"],[0.1111111111111111,\"#46039f\"],[0.2222222222222222,\"#7201a8\"],[0.3333333333333333,\"#9c179e\"],[0.4444444444444444,\"#bd3786\"],[0.5555555555555556,\"#d8576b\"],[0.6666666666666666,\"#ed7953\"],[0.7777777777777778,\"#fb9f3a\"],[0.8888888888888888,\"#fdca26\"],[1.0,\"#f0f921\"]]}],\"mesh3d\":[{\"type\":\"mesh3d\",\"colorbar\":{\"outlinewidth\":0,\"ticks\":\"\"}}],\"scatter\":[{\"fillpattern\":{\"fillmode\":\"overlay\",\"size\":10,\"solidity\":0.2},\"type\":\"scatter\"}],\"parcoords\":[{\"type\":\"parcoords\",\"line\":{\"colorbar\":{\"outlinewidth\":0,\"ticks\":\"\"}}}],\"scatterpolargl\":[{\"type\":\"scatterpolargl\",\"marker\":{\"colorbar\":{\"outlinewidth\":0,\"ticks\":\"\"}}}],\"bar\":[{\"error_x\":{\"color\":\"#2a3f5f\"},\"error_y\":{\"color\":\"#2a3f5f\"},\"marker\":{\"line\":{\"color\":\"#E5ECF6\",\"width\":0.5},\"pattern\":{\"fillmode\":\"overlay\",\"size\":10,\"solidity\":0.2}},\"type\":\"bar\"}],\"scattergeo\":[{\"type\":\"scattergeo\",\"marker\":{\"colorbar\":{\"outlinewidth\":0,\"ticks\":\"\"}}}],\"scatterpolar\":[{\"type\":\"scatterpolar\",\"marker\":{\"colorbar\":{\"outlinewidth\":0,\"ticks\":\"\"}}}],\"histogram\":[{\"marker\":{\"pattern\":{\"fillmode\":\"overlay\",\"size\":10,\"solidity\":0.2}},\"type\":\"histogram\"}],\"scattergl\":[{\"type\":\"scattergl\",\"marker\":{\"colorbar\":{\"outlinewidth\":0,\"ticks\":\"\"}}}],\"scatter3d\":[{\"type\":\"scatter3d\",\"line\":{\"colorbar\":{\"outlinewidth\":0,\"ticks\":\"\"}},\"marker\":{\"colorbar\":{\"outlinewidth\":0,\"ticks\":\"\"}}}],\"scattermapbox\":[{\"type\":\"scattermapbox\",\"marker\":{\"colorbar\":{\"outlinewidth\":0,\"ticks\":\"\"}}}],\"scatterternary\":[{\"type\":\"scatterternary\",\"marker\":{\"colorbar\":{\"outlinewidth\":0,\"ticks\":\"\"}}}],\"scattercarpet\":[{\"type\":\"scattercarpet\",\"marker\":{\"colorbar\":{\"outlinewidth\":0,\"ticks\":\"\"}}}],\"carpet\":[{\"aaxis\":{\"endlinecolor\":\"#2a3f5f\",\"gridcolor\":\"white\",\"linecolor\":\"white\",\"minorgridcolor\":\"white\",\"startlinecolor\":\"#2a3f5f\"},\"baxis\":{\"endlinecolor\":\"#2a3f5f\",\"gridcolor\":\"white\",\"linecolor\":\"white\",\"minorgridcolor\":\"white\",\"startlinecolor\":\"#2a3f5f\"},\"type\":\"carpet\"}],\"table\":[{\"cells\":{\"fill\":{\"color\":\"#EBF0F8\"},\"line\":{\"color\":\"white\"}},\"header\":{\"fill\":{\"color\":\"#C8D4E3\"},\"line\":{\"color\":\"white\"}},\"type\":\"table\"}],\"barpolar\":[{\"marker\":{\"line\":{\"color\":\"#E5ECF6\",\"width\":0.5},\"pattern\":{\"fillmode\":\"overlay\",\"size\":10,\"solidity\":0.2}},\"type\":\"barpolar\"}],\"pie\":[{\"automargin\":true,\"type\":\"pie\"}]},\"layout\":{\"autotypenumbers\":\"strict\",\"colorway\":[\"#636efa\",\"#EF553B\",\"#00cc96\",\"#ab63fa\",\"#FFA15A\",\"#19d3f3\",\"#FF6692\",\"#B6E880\",\"#FF97FF\",\"#FECB52\"],\"font\":{\"color\":\"#2a3f5f\"},\"hovermode\":\"closest\",\"hoverlabel\":{\"align\":\"left\"},\"paper_bgcolor\":\"white\",\"plot_bgcolor\":\"#E5ECF6\",\"polar\":{\"bgcolor\":\"#E5ECF6\",\"angularaxis\":{\"gridcolor\":\"white\",\"linecolor\":\"white\",\"ticks\":\"\"},\"radialaxis\":{\"gridcolor\":\"white\",\"linecolor\":\"white\",\"ticks\":\"\"}},\"ternary\":{\"bgcolor\":\"#E5ECF6\",\"aaxis\":{\"gridcolor\":\"white\",\"linecolor\":\"white\",\"ticks\":\"\"},\"baxis\":{\"gridcolor\":\"white\",\"linecolor\":\"white\",\"ticks\":\"\"},\"caxis\":{\"gridcolor\":\"white\",\"linecolor\":\"white\",\"ticks\":\"\"}},\"coloraxis\":{\"colorbar\":{\"outlinewidth\":0,\"ticks\":\"\"}},\"colorscale\":{\"sequential\":[[0.0,\"#0d0887\"],[0.1111111111111111,\"#46039f\"],[0.2222222222222222,\"#7201a8\"],[0.3333333333333333,\"#9c179e\"],[0.4444444444444444,\"#bd3786\"],[0.5555555555555556,\"#d8576b\"],[0.6666666666666666,\"#ed7953\"],[0.7777777777777778,\"#fb9f3a\"],[0.8888888888888888,\"#fdca26\"],[1.0,\"#f0f921\"]],\"sequentialminus\":[[0.0,\"#0d0887\"],[0.1111111111111111,\"#46039f\"],[0.2222222222222222,\"#7201a8\"],[0.3333333333333333,\"#9c179e\"],[0.4444444444444444,\"#bd3786\"],[0.5555555555555556,\"#d8576b\"],[0.6666666666666666,\"#ed7953\"],[0.7777777777777778,\"#fb9f3a\"],[0.8888888888888888,\"#fdca26\"],[1.0,\"#f0f921\"]],\"diverging\":[[0,\"#8e0152\"],[0.1,\"#c51b7d\"],[0.2,\"#de77ae\"],[0.3,\"#f1b6da\"],[0.4,\"#fde0ef\"],[0.5,\"#f7f7f7\"],[0.6,\"#e6f5d0\"],[0.7,\"#b8e186\"],[0.8,\"#7fbc41\"],[0.9,\"#4d9221\"],[1,\"#276419\"]]},\"xaxis\":{\"gridcolor\":\"white\",\"linecolor\":\"white\",\"ticks\":\"\",\"title\":{\"standoff\":15},\"zerolinecolor\":\"white\",\"automargin\":true,\"zerolinewidth\":2},\"yaxis\":{\"gridcolor\":\"white\",\"linecolor\":\"white\",\"ticks\":\"\",\"title\":{\"standoff\":15},\"zerolinecolor\":\"white\",\"automargin\":true,\"zerolinewidth\":2},\"scene\":{\"xaxis\":{\"backgroundcolor\":\"#E5ECF6\",\"gridcolor\":\"white\",\"linecolor\":\"white\",\"showbackground\":true,\"ticks\":\"\",\"zerolinecolor\":\"white\",\"gridwidth\":2},\"yaxis\":{\"backgroundcolor\":\"#E5ECF6\",\"gridcolor\":\"white\",\"linecolor\":\"white\",\"showbackground\":true,\"ticks\":\"\",\"zerolinecolor\":\"white\",\"gridwidth\":2},\"zaxis\":{\"backgroundcolor\":\"#E5ECF6\",\"gridcolor\":\"white\",\"linecolor\":\"white\",\"showbackground\":true,\"ticks\":\"\",\"zerolinecolor\":\"white\",\"gridwidth\":2}},\"shapedefaults\":{\"line\":{\"color\":\"#2a3f5f\"}},\"annotationdefaults\":{\"arrowcolor\":\"#2a3f5f\",\"arrowhead\":0,\"arrowwidth\":1},\"geo\":{\"bgcolor\":\"white\",\"landcolor\":\"#E5ECF6\",\"subunitcolor\":\"white\",\"showland\":true,\"showlakes\":true,\"lakecolor\":\"white\"},\"title\":{\"x\":0.05},\"mapbox\":{\"style\":\"light\"}}},\"xaxis\":{\"anchor\":\"y\",\"domain\":[0.0,1.0],\"title\":{\"text\":\"Weather Code\"},\"categoryarray\":[3,0,2,1,51,63,61,53]},\"yaxis\":{\"anchor\":\"x\",\"domain\":[0.0,1.0],\"title\":{\"text\":\"Number of Occurrences\"}},\"coloraxis\":{\"colorbar\":{\"title\":{\"text\":\"Number of Occurrences\"}},\"colorscale\":[[0.0,\"#440154\"],[0.1111111111111111,\"#482878\"],[0.2222222222222222,\"#3e4989\"],[0.3333333333333333,\"#31688e\"],[0.4444444444444444,\"#26828e\"],[0.5555555555555556,\"#1f9e89\"],[0.6666666666666666,\"#35b779\"],[0.7777777777777778,\"#6ece58\"],[0.8888888888888888,\"#b5de2b\"],[1.0,\"#fde725\"]]},\"legend\":{\"tracegroupgap\":0},\"title\":{\"text\":\"Frequency of Weather Codes\"},\"barmode\":\"relative\"},                        {\"responsive\": true}                    ).then(function(){\n",
       "                            \n",
       "var gd = document.getElementById('c7e5a601-afb0-4ce2-a95a-28e5781f8495');\n",
       "var x = new MutationObserver(function (mutations, observer) {{\n",
       "        var display = window.getComputedStyle(gd).display;\n",
       "        if (!display || display === 'none') {{\n",
       "            console.log([gd, 'removed!']);\n",
       "            Plotly.purge(gd);\n",
       "            observer.disconnect();\n",
       "        }}\n",
       "}});\n",
       "\n",
       "// Listen for the removal of the full notebook cells\n",
       "var notebookContainer = gd.closest('#notebook-container');\n",
       "if (notebookContainer) {{\n",
       "    x.observe(notebookContainer, {childList: true});\n",
       "}}\n",
       "\n",
       "// Listen for the clearing of the current output cell\n",
       "var outputEl = gd.closest('.output');\n",
       "if (outputEl) {{\n",
       "    x.observe(outputEl, {childList: true});\n",
       "}}\n",
       "\n",
       "                        })                };                });            </script>        </div>"
      ]
     },
     "metadata": {},
     "output_type": "display_data"
    },
    {
     "data": {
      "application/vnd.plotly.v1+json": {
       "config": {
        "plotlyServerURL": "https://plot.ly"
       },
       "data": [
        {
         "coloraxis": "coloraxis",
         "hovertemplate": "x: %{x}<br>y: %{y}<br>color: %{z}<extra></extra>",
         "name": "0",
         "texttemplate": "%{z}",
         "type": "heatmap",
         "x": [
          "Unnamed: 0",
          "temperature_2m",
          "relative_humidity_2m",
          "rain",
          "wind_speed_10m",
          "wind_direction_10m",
          "surface_pressure",
          "cloud_cover",
          "shortwave_radiation"
         ],
         "xaxis": "x",
         "y": [
          "Unnamed: 0",
          "temperature_2m",
          "relative_humidity_2m",
          "rain",
          "wind_speed_10m",
          "wind_direction_10m",
          "surface_pressure",
          "cloud_cover",
          "shortwave_radiation"
         ],
         "yaxis": "y",
         "z": [
          [
           1,
           -0.08027544049021823,
           0.6390231981640464,
           0.4451855920004826,
           0.13948270390873793,
           -0.22142106395365901,
           -0.8967931409856906,
           0.63729070870188,
           -0.2569977456668961
          ],
          [
           -0.08027544049021823,
           1,
           -0.6740608298982154,
           -0.2260164744573997,
           0.16770653864481264,
           -0.0069524099509103545,
           0.34802966804546065,
           -0.04371495820286831,
           0.5819056372233593
          ],
          [
           0.6390231981640464,
           -0.6740608298982154,
           1,
           0.42562988106798283,
           0.2400827773242536,
           0.002486606207959561,
           -0.8533529686428015,
           0.4527162437423757,
           -0.5084134440637208
          ],
          [
           0.4451855920004826,
           -0.2260164744573997,
           0.42562988106798283,
           1,
           0.09891139261283384,
           -0.0627553342256459,
           -0.5204285355285112,
           0.15199539137784493,
           0.05100146124483917
          ],
          [
           0.13948270390873793,
           0.16770653864481264,
           0.2400827773242536,
           0.09891139261283384,
           1,
           0.2913677867069873,
           -0.2966412438501265,
           0.15587072352846526,
           -0.054244561393861655
          ],
          [
           -0.22142106395365901,
           -0.0069524099509103545,
           0.002486606207959561,
           -0.0627553342256459,
           0.2913677867069873,
           1,
           0.024449177568557547,
           -0.44812414145169027,
           0.3614916886958103
          ],
          [
           -0.8967931409856906,
           0.34802966804546065,
           -0.8533529686428015,
           -0.5204285355285112,
           -0.2966412438501265,
           0.024449177568557547,
           1,
           -0.5117518512554534,
           0.3640484876830279
          ],
          [
           0.63729070870188,
           -0.04371495820286831,
           0.4527162437423757,
           0.15199539137784493,
           0.15587072352846526,
           -0.44812414145169027,
           -0.5117518512554534,
           1,
           -0.43530443101472666
          ],
          [
           -0.2569977456668961,
           0.5819056372233593,
           -0.5084134440637208,
           0.05100146124483917,
           -0.054244561393861655,
           0.3614916886958103,
           0.3640484876830279,
           -0.43530443101472666,
           1
          ]
         ]
        }
       ],
       "layout": {
        "autosize": true,
        "coloraxis": {
         "colorscale": [
          [
           0,
           "rgb(103,0,31)"
          ],
          [
           0.1,
           "rgb(178,24,43)"
          ],
          [
           0.2,
           "rgb(214,96,77)"
          ],
          [
           0.3,
           "rgb(244,165,130)"
          ],
          [
           0.4,
           "rgb(253,219,199)"
          ],
          [
           0.5,
           "rgb(247,247,247)"
          ],
          [
           0.6,
           "rgb(209,229,240)"
          ],
          [
           0.7,
           "rgb(146,197,222)"
          ],
          [
           0.8,
           "rgb(67,147,195)"
          ],
          [
           0.9,
           "rgb(33,102,172)"
          ],
          [
           1,
           "rgb(5,48,97)"
          ]
         ]
        },
        "template": {
         "data": {
          "bar": [
           {
            "error_x": {
             "color": "#2a3f5f"
            },
            "error_y": {
             "color": "#2a3f5f"
            },
            "marker": {
             "line": {
              "color": "#E5ECF6",
              "width": 0.5
             },
             "pattern": {
              "fillmode": "overlay",
              "size": 10,
              "solidity": 0.2
             }
            },
            "type": "bar"
           }
          ],
          "barpolar": [
           {
            "marker": {
             "line": {
              "color": "#E5ECF6",
              "width": 0.5
             },
             "pattern": {
              "fillmode": "overlay",
              "size": 10,
              "solidity": 0.2
             }
            },
            "type": "barpolar"
           }
          ],
          "carpet": [
           {
            "aaxis": {
             "endlinecolor": "#2a3f5f",
             "gridcolor": "white",
             "linecolor": "white",
             "minorgridcolor": "white",
             "startlinecolor": "#2a3f5f"
            },
            "baxis": {
             "endlinecolor": "#2a3f5f",
             "gridcolor": "white",
             "linecolor": "white",
             "minorgridcolor": "white",
             "startlinecolor": "#2a3f5f"
            },
            "type": "carpet"
           }
          ],
          "choropleth": [
           {
            "colorbar": {
             "outlinewidth": 0,
             "ticks": ""
            },
            "type": "choropleth"
           }
          ],
          "contour": [
           {
            "colorbar": {
             "outlinewidth": 0,
             "ticks": ""
            },
            "colorscale": [
             [
              0,
              "#0d0887"
             ],
             [
              0.1111111111111111,
              "#46039f"
             ],
             [
              0.2222222222222222,
              "#7201a8"
             ],
             [
              0.3333333333333333,
              "#9c179e"
             ],
             [
              0.4444444444444444,
              "#bd3786"
             ],
             [
              0.5555555555555556,
              "#d8576b"
             ],
             [
              0.6666666666666666,
              "#ed7953"
             ],
             [
              0.7777777777777778,
              "#fb9f3a"
             ],
             [
              0.8888888888888888,
              "#fdca26"
             ],
             [
              1,
              "#f0f921"
             ]
            ],
            "type": "contour"
           }
          ],
          "contourcarpet": [
           {
            "colorbar": {
             "outlinewidth": 0,
             "ticks": ""
            },
            "type": "contourcarpet"
           }
          ],
          "heatmap": [
           {
            "colorbar": {
             "outlinewidth": 0,
             "ticks": ""
            },
            "colorscale": [
             [
              0,
              "#0d0887"
             ],
             [
              0.1111111111111111,
              "#46039f"
             ],
             [
              0.2222222222222222,
              "#7201a8"
             ],
             [
              0.3333333333333333,
              "#9c179e"
             ],
             [
              0.4444444444444444,
              "#bd3786"
             ],
             [
              0.5555555555555556,
              "#d8576b"
             ],
             [
              0.6666666666666666,
              "#ed7953"
             ],
             [
              0.7777777777777778,
              "#fb9f3a"
             ],
             [
              0.8888888888888888,
              "#fdca26"
             ],
             [
              1,
              "#f0f921"
             ]
            ],
            "type": "heatmap"
           }
          ],
          "heatmapgl": [
           {
            "colorbar": {
             "outlinewidth": 0,
             "ticks": ""
            },
            "colorscale": [
             [
              0,
              "#0d0887"
             ],
             [
              0.1111111111111111,
              "#46039f"
             ],
             [
              0.2222222222222222,
              "#7201a8"
             ],
             [
              0.3333333333333333,
              "#9c179e"
             ],
             [
              0.4444444444444444,
              "#bd3786"
             ],
             [
              0.5555555555555556,
              "#d8576b"
             ],
             [
              0.6666666666666666,
              "#ed7953"
             ],
             [
              0.7777777777777778,
              "#fb9f3a"
             ],
             [
              0.8888888888888888,
              "#fdca26"
             ],
             [
              1,
              "#f0f921"
             ]
            ],
            "type": "heatmapgl"
           }
          ],
          "histogram": [
           {
            "marker": {
             "pattern": {
              "fillmode": "overlay",
              "size": 10,
              "solidity": 0.2
             }
            },
            "type": "histogram"
           }
          ],
          "histogram2d": [
           {
            "colorbar": {
             "outlinewidth": 0,
             "ticks": ""
            },
            "colorscale": [
             [
              0,
              "#0d0887"
             ],
             [
              0.1111111111111111,
              "#46039f"
             ],
             [
              0.2222222222222222,
              "#7201a8"
             ],
             [
              0.3333333333333333,
              "#9c179e"
             ],
             [
              0.4444444444444444,
              "#bd3786"
             ],
             [
              0.5555555555555556,
              "#d8576b"
             ],
             [
              0.6666666666666666,
              "#ed7953"
             ],
             [
              0.7777777777777778,
              "#fb9f3a"
             ],
             [
              0.8888888888888888,
              "#fdca26"
             ],
             [
              1,
              "#f0f921"
             ]
            ],
            "type": "histogram2d"
           }
          ],
          "histogram2dcontour": [
           {
            "colorbar": {
             "outlinewidth": 0,
             "ticks": ""
            },
            "colorscale": [
             [
              0,
              "#0d0887"
             ],
             [
              0.1111111111111111,
              "#46039f"
             ],
             [
              0.2222222222222222,
              "#7201a8"
             ],
             [
              0.3333333333333333,
              "#9c179e"
             ],
             [
              0.4444444444444444,
              "#bd3786"
             ],
             [
              0.5555555555555556,
              "#d8576b"
             ],
             [
              0.6666666666666666,
              "#ed7953"
             ],
             [
              0.7777777777777778,
              "#fb9f3a"
             ],
             [
              0.8888888888888888,
              "#fdca26"
             ],
             [
              1,
              "#f0f921"
             ]
            ],
            "type": "histogram2dcontour"
           }
          ],
          "mesh3d": [
           {
            "colorbar": {
             "outlinewidth": 0,
             "ticks": ""
            },
            "type": "mesh3d"
           }
          ],
          "parcoords": [
           {
            "line": {
             "colorbar": {
              "outlinewidth": 0,
              "ticks": ""
             }
            },
            "type": "parcoords"
           }
          ],
          "pie": [
           {
            "automargin": true,
            "type": "pie"
           }
          ],
          "scatter": [
           {
            "fillpattern": {
             "fillmode": "overlay",
             "size": 10,
             "solidity": 0.2
            },
            "type": "scatter"
           }
          ],
          "scatter3d": [
           {
            "line": {
             "colorbar": {
              "outlinewidth": 0,
              "ticks": ""
             }
            },
            "marker": {
             "colorbar": {
              "outlinewidth": 0,
              "ticks": ""
             }
            },
            "type": "scatter3d"
           }
          ],
          "scattercarpet": [
           {
            "marker": {
             "colorbar": {
              "outlinewidth": 0,
              "ticks": ""
             }
            },
            "type": "scattercarpet"
           }
          ],
          "scattergeo": [
           {
            "marker": {
             "colorbar": {
              "outlinewidth": 0,
              "ticks": ""
             }
            },
            "type": "scattergeo"
           }
          ],
          "scattergl": [
           {
            "marker": {
             "colorbar": {
              "outlinewidth": 0,
              "ticks": ""
             }
            },
            "type": "scattergl"
           }
          ],
          "scattermapbox": [
           {
            "marker": {
             "colorbar": {
              "outlinewidth": 0,
              "ticks": ""
             }
            },
            "type": "scattermapbox"
           }
          ],
          "scatterpolar": [
           {
            "marker": {
             "colorbar": {
              "outlinewidth": 0,
              "ticks": ""
             }
            },
            "type": "scatterpolar"
           }
          ],
          "scatterpolargl": [
           {
            "marker": {
             "colorbar": {
              "outlinewidth": 0,
              "ticks": ""
             }
            },
            "type": "scatterpolargl"
           }
          ],
          "scatterternary": [
           {
            "marker": {
             "colorbar": {
              "outlinewidth": 0,
              "ticks": ""
             }
            },
            "type": "scatterternary"
           }
          ],
          "surface": [
           {
            "colorbar": {
             "outlinewidth": 0,
             "ticks": ""
            },
            "colorscale": [
             [
              0,
              "#0d0887"
             ],
             [
              0.1111111111111111,
              "#46039f"
             ],
             [
              0.2222222222222222,
              "#7201a8"
             ],
             [
              0.3333333333333333,
              "#9c179e"
             ],
             [
              0.4444444444444444,
              "#bd3786"
             ],
             [
              0.5555555555555556,
              "#d8576b"
             ],
             [
              0.6666666666666666,
              "#ed7953"
             ],
             [
              0.7777777777777778,
              "#fb9f3a"
             ],
             [
              0.8888888888888888,
              "#fdca26"
             ],
             [
              1,
              "#f0f921"
             ]
            ],
            "type": "surface"
           }
          ],
          "table": [
           {
            "cells": {
             "fill": {
              "color": "#EBF0F8"
             },
             "line": {
              "color": "white"
             }
            },
            "header": {
             "fill": {
              "color": "#C8D4E3"
             },
             "line": {
              "color": "white"
             }
            },
            "type": "table"
           }
          ]
         },
         "layout": {
          "annotationdefaults": {
           "arrowcolor": "#2a3f5f",
           "arrowhead": 0,
           "arrowwidth": 1
          },
          "autotypenumbers": "strict",
          "coloraxis": {
           "colorbar": {
            "outlinewidth": 0,
            "ticks": ""
           }
          },
          "colorscale": {
           "diverging": [
            [
             0,
             "#8e0152"
            ],
            [
             0.1,
             "#c51b7d"
            ],
            [
             0.2,
             "#de77ae"
            ],
            [
             0.3,
             "#f1b6da"
            ],
            [
             0.4,
             "#fde0ef"
            ],
            [
             0.5,
             "#f7f7f7"
            ],
            [
             0.6,
             "#e6f5d0"
            ],
            [
             0.7,
             "#b8e186"
            ],
            [
             0.8,
             "#7fbc41"
            ],
            [
             0.9,
             "#4d9221"
            ],
            [
             1,
             "#276419"
            ]
           ],
           "sequential": [
            [
             0,
             "#0d0887"
            ],
            [
             0.1111111111111111,
             "#46039f"
            ],
            [
             0.2222222222222222,
             "#7201a8"
            ],
            [
             0.3333333333333333,
             "#9c179e"
            ],
            [
             0.4444444444444444,
             "#bd3786"
            ],
            [
             0.5555555555555556,
             "#d8576b"
            ],
            [
             0.6666666666666666,
             "#ed7953"
            ],
            [
             0.7777777777777778,
             "#fb9f3a"
            ],
            [
             0.8888888888888888,
             "#fdca26"
            ],
            [
             1,
             "#f0f921"
            ]
           ],
           "sequentialminus": [
            [
             0,
             "#0d0887"
            ],
            [
             0.1111111111111111,
             "#46039f"
            ],
            [
             0.2222222222222222,
             "#7201a8"
            ],
            [
             0.3333333333333333,
             "#9c179e"
            ],
            [
             0.4444444444444444,
             "#bd3786"
            ],
            [
             0.5555555555555556,
             "#d8576b"
            ],
            [
             0.6666666666666666,
             "#ed7953"
            ],
            [
             0.7777777777777778,
             "#fb9f3a"
            ],
            [
             0.8888888888888888,
             "#fdca26"
            ],
            [
             1,
             "#f0f921"
            ]
           ]
          },
          "colorway": [
           "#636efa",
           "#EF553B",
           "#00cc96",
           "#ab63fa",
           "#FFA15A",
           "#19d3f3",
           "#FF6692",
           "#B6E880",
           "#FF97FF",
           "#FECB52"
          ],
          "font": {
           "color": "#2a3f5f"
          },
          "geo": {
           "bgcolor": "white",
           "lakecolor": "white",
           "landcolor": "#E5ECF6",
           "showlakes": true,
           "showland": true,
           "subunitcolor": "white"
          },
          "hoverlabel": {
           "align": "left"
          },
          "hovermode": "closest",
          "mapbox": {
           "style": "light"
          },
          "paper_bgcolor": "white",
          "plot_bgcolor": "#E5ECF6",
          "polar": {
           "angularaxis": {
            "gridcolor": "white",
            "linecolor": "white",
            "ticks": ""
           },
           "bgcolor": "#E5ECF6",
           "radialaxis": {
            "gridcolor": "white",
            "linecolor": "white",
            "ticks": ""
           }
          },
          "scene": {
           "xaxis": {
            "backgroundcolor": "#E5ECF6",
            "gridcolor": "white",
            "gridwidth": 2,
            "linecolor": "white",
            "showbackground": true,
            "ticks": "",
            "zerolinecolor": "white"
           },
           "yaxis": {
            "backgroundcolor": "#E5ECF6",
            "gridcolor": "white",
            "gridwidth": 2,
            "linecolor": "white",
            "showbackground": true,
            "ticks": "",
            "zerolinecolor": "white"
           },
           "zaxis": {
            "backgroundcolor": "#E5ECF6",
            "gridcolor": "white",
            "gridwidth": 2,
            "linecolor": "white",
            "showbackground": true,
            "ticks": "",
            "zerolinecolor": "white"
           }
          },
          "shapedefaults": {
           "line": {
            "color": "#2a3f5f"
           }
          },
          "ternary": {
           "aaxis": {
            "gridcolor": "white",
            "linecolor": "white",
            "ticks": ""
           },
           "baxis": {
            "gridcolor": "white",
            "linecolor": "white",
            "ticks": ""
           },
           "bgcolor": "#E5ECF6",
           "caxis": {
            "gridcolor": "white",
            "linecolor": "white",
            "ticks": ""
           }
          },
          "title": {
           "x": 0.05
          },
          "xaxis": {
           "automargin": true,
           "gridcolor": "white",
           "linecolor": "white",
           "ticks": "",
           "title": {
            "standoff": 15
           },
           "zerolinecolor": "white",
           "zerolinewidth": 2
          },
          "yaxis": {
           "automargin": true,
           "gridcolor": "white",
           "linecolor": "white",
           "ticks": "",
           "title": {
            "standoff": 15
           },
           "zerolinecolor": "white",
           "zerolinewidth": 2
          }
         }
        },
        "title": {
         "text": "Correlation Heatmap of Weather Variables"
        },
        "xaxis": {
         "anchor": "y",
         "autorange": true,
         "domain": [
          0,
          1
         ],
         "nticks": 9,
         "range": [
          -0.5,
          8.5
         ],
         "showgrid": false,
         "tickangle": -45,
         "type": "category"
        },
        "yaxis": {
         "anchor": "x",
         "autorange": true,
         "domain": [
          0,
          1
         ],
         "nticks": 9,
         "range": [
          8.5,
          -0.5
         ],
         "showgrid": false,
         "type": "category"
        }
       }
      },
      "image/png": "[encoded data removed]",
      "text/html": [
       "<div>                            <div id=\"1046f75b-315d-4f45-9eb9-d17f065b9292\" class=\"plotly-graph-div\" style=\"height:525px; width:100%;\"></div>            <script type=\"text/javascript\">                require([\"plotly\"], function(Plotly) {                    window.PLOTLYENV=window.PLOTLYENV || {};                                    if (document.getElementById(\"1046f75b-315d-4f45-9eb9-d17f065b9292\")) {                    Plotly.newPlot(                        \"1046f75b-315d-4f45-9eb9-d17f065b9292\",                        [{\"coloraxis\":\"coloraxis\",\"name\":\"0\",\"texttemplate\":\"%{z}\",\"x\":[\"Unnamed: 0\",\"temperature_2m\",\"relative_humidity_2m\",\"rain\",\"wind_speed_10m\",\"wind_direction_10m\",\"surface_pressure\",\"cloud_cover\",\"shortwave_radiation\"],\"y\":[\"Unnamed: 0\",\"temperature_2m\",\"relative_humidity_2m\",\"rain\",\"wind_speed_10m\",\"wind_direction_10m\",\"surface_pressure\",\"cloud_cover\",\"shortwave_radiation\"],\"z\":[[1.0,-0.08027544049021823,0.6390231981640464,0.4451855920004826,0.13948270390873793,-0.22142106395365901,-0.8967931409856906,0.63729070870188,-0.2569977456668961],[-0.08027544049021823,1.0,-0.6740608298982154,-0.2260164744573997,0.16770653864481264,-0.0069524099509103545,0.34802966804546065,-0.04371495820286831,0.5819056372233593],[0.6390231981640464,-0.6740608298982154,1.0,0.42562988106798283,0.2400827773242536,0.002486606207959561,-0.8533529686428015,0.4527162437423757,-0.5084134440637208],[0.4451855920004826,-0.2260164744573997,0.42562988106798283,1.0,0.09891139261283384,-0.0627553342256459,-0.5204285355285112,0.15199539137784493,0.05100146124483917],[0.13948270390873793,0.16770653864481264,0.2400827773242536,0.09891139261283384,1.0,0.2913677867069873,-0.2966412438501265,0.15587072352846526,-0.054244561393861655],[-0.22142106395365901,-0.0069524099509103545,0.002486606207959561,-0.0627553342256459,0.2913677867069873,1.0,0.024449177568557547,-0.44812414145169027,0.3614916886958103],[-0.8967931409856906,0.34802966804546065,-0.8533529686428015,-0.5204285355285112,-0.2966412438501265,0.024449177568557547,1.0,-0.5117518512554534,0.3640484876830279],[0.63729070870188,-0.04371495820286831,0.4527162437423757,0.15199539137784493,0.15587072352846526,-0.44812414145169027,-0.5117518512554534,1.0,-0.43530443101472666],[-0.2569977456668961,0.5819056372233593,-0.5084134440637208,0.05100146124483917,-0.054244561393861655,0.3614916886958103,0.3640484876830279,-0.43530443101472666,1.0]],\"type\":\"heatmap\",\"xaxis\":\"x\",\"yaxis\":\"y\",\"hovertemplate\":\"x: %{x}<br>y: %{y}<br>color: %{z}<extra></extra>\"}],                        {\"template\":{\"data\":{\"histogram2dcontour\":[{\"type\":\"histogram2dcontour\",\"colorbar\":{\"outlinewidth\":0,\"ticks\":\"\"},\"colorscale\":[[0.0,\"#0d0887\"],[0.1111111111111111,\"#46039f\"],[0.2222222222222222,\"#7201a8\"],[0.3333333333333333,\"#9c179e\"],[0.4444444444444444,\"#bd3786\"],[0.5555555555555556,\"#d8576b\"],[0.6666666666666666,\"#ed7953\"],[0.7777777777777778,\"#fb9f3a\"],[0.8888888888888888,\"#fdca26\"],[1.0,\"#f0f921\"]]}],\"choropleth\":[{\"type\":\"choropleth\",\"colorbar\":{\"outlinewidth\":0,\"ticks\":\"\"}}],\"histogram2d\":[{\"type\":\"histogram2d\",\"colorbar\":{\"outlinewidth\":0,\"ticks\":\"\"},\"colorscale\":[[0.0,\"#0d0887\"],[0.1111111111111111,\"#46039f\"],[0.2222222222222222,\"#7201a8\"],[0.3333333333333333,\"#9c179e\"],[0.4444444444444444,\"#bd3786\"],[0.5555555555555556,\"#d8576b\"],[0.6666666666666666,\"#ed7953\"],[0.7777777777777778,\"#fb9f3a\"],[0.8888888888888888,\"#fdca26\"],[1.0,\"#f0f921\"]]}],\"heatmap\":[{\"type\":\"heatmap\",\"colorbar\":{\"outlinewidth\":0,\"ticks\":\"\"},\"colorscale\":[[0.0,\"#0d0887\"],[0.1111111111111111,\"#46039f\"],[0.2222222222222222,\"#7201a8\"],[0.3333333333333333,\"#9c179e\"],[0.4444444444444444,\"#bd3786\"],[0.5555555555555556,\"#d8576b\"],[0.6666666666666666,\"#ed7953\"],[0.7777777777777778,\"#fb9f3a\"],[0.8888888888888888,\"#fdca26\"],[1.0,\"#f0f921\"]]}],\"heatmapgl\":[{\"type\":\"heatmapgl\",\"colorbar\":{\"outlinewidth\":0,\"ticks\":\"\"},\"colorscale\":[[0.0,\"#0d0887\"],[0.1111111111111111,\"#46039f\"],[0.2222222222222222,\"#7201a8\"],[0.3333333333333333,\"#9c179e\"],[0.4444444444444444,\"#bd3786\"],[0.5555555555555556,\"#d8576b\"],[0.6666666666666666,\"#ed7953\"],[0.7777777777777778,\"#fb9f3a\"],[0.8888888888888888,\"#fdca26\"],[1.0,\"#f0f921\"]]}],\"contourcarpet\":[{\"type\":\"contourcarpet\",\"colorbar\":{\"outlinewidth\":0,\"ticks\":\"\"}}],\"contour\":[{\"type\":\"contour\",\"colorbar\":{\"outlinewidth\":0,\"ticks\":\"\"},\"colorscale\":[[0.0,\"#0d0887\"],[0.1111111111111111,\"#46039f\"],[0.2222222222222222,\"#7201a8\"],[0.3333333333333333,\"#9c179e\"],[0.4444444444444444,\"#bd3786\"],[0.5555555555555556,\"#d8576b\"],[0.6666666666666666,\"#ed7953\"],[0.7777777777777778,\"#fb9f3a\"],[0.8888888888888888,\"#fdca26\"],[1.0,\"#f0f921\"]]}],\"surface\":[{\"type\":\"surface\",\"colorbar\":{\"outlinewidth\":0,\"ticks\":\"\"},\"colorscale\":[[0.0,\"#0d0887\"],[0.1111111111111111,\"#46039f\"],[0.2222222222222222,\"#7201a8\"],[0.3333333333333333,\"#9c179e\"],[0.4444444444444444,\"#bd3786\"],[0.5555555555555556,\"#d8576b\"],[0.6666666666666666,\"#ed7953\"],[0.7777777777777778,\"#fb9f3a\"],[0.8888888888888888,\"#fdca26\"],[1.0,\"#f0f921\"]]}],\"mesh3d\":[{\"type\":\"mesh3d\",\"colorbar\":{\"outlinewidth\":0,\"ticks\":\"\"}}],\"scatter\":[{\"fillpattern\":{\"fillmode\":\"overlay\",\"size\":10,\"solidity\":0.2},\"type\":\"scatter\"}],\"parcoords\":[{\"type\":\"parcoords\",\"line\":{\"colorbar\":{\"outlinewidth\":0,\"ticks\":\"\"}}}],\"scatterpolargl\":[{\"type\":\"scatterpolargl\",\"marker\":{\"colorbar\":{\"outlinewidth\":0,\"ticks\":\"\"}}}],\"bar\":[{\"error_x\":{\"color\":\"#2a3f5f\"},\"error_y\":{\"color\":\"#2a3f5f\"},\"marker\":{\"line\":{\"color\":\"#E5ECF6\",\"width\":0.5},\"pattern\":{\"fillmode\":\"overlay\",\"size\":10,\"solidity\":0.2}},\"type\":\"bar\"}],\"scattergeo\":[{\"type\":\"scattergeo\",\"marker\":{\"colorbar\":{\"outlinewidth\":0,\"ticks\":\"\"}}}],\"scatterpolar\":[{\"type\":\"scatterpolar\",\"marker\":{\"colorbar\":{\"outlinewidth\":0,\"ticks\":\"\"}}}],\"histogram\":[{\"marker\":{\"pattern\":{\"fillmode\":\"overlay\",\"size\":10,\"solidity\":0.2}},\"type\":\"histogram\"}],\"scattergl\":[{\"type\":\"scattergl\",\"marker\":{\"colorbar\":{\"outlinewidth\":0,\"ticks\":\"\"}}}],\"scatter3d\":[{\"type\":\"scatter3d\",\"line\":{\"colorbar\":{\"outlinewidth\":0,\"ticks\":\"\"}},\"marker\":{\"colorbar\":{\"outlinewidth\":0,\"ticks\":\"\"}}}],\"scattermapbox\":[{\"type\":\"scattermapbox\",\"marker\":{\"colorbar\":{\"outlinewidth\":0,\"ticks\":\"\"}}}],\"scatterternary\":[{\"type\":\"scatterternary\",\"marker\":{\"colorbar\":{\"outlinewidth\":0,\"ticks\":\"\"}}}],\"scattercarpet\":[{\"type\":\"scattercarpet\",\"marker\":{\"colorbar\":{\"outlinewidth\":0,\"ticks\":\"\"}}}],\"carpet\":[{\"aaxis\":{\"endlinecolor\":\"#2a3f5f\",\"gridcolor\":\"white\",\"linecolor\":\"white\",\"minorgridcolor\":\"white\",\"startlinecolor\":\"#2a3f5f\"},\"baxis\":{\"endlinecolor\":\"#2a3f5f\",\"gridcolor\":\"white\",\"linecolor\":\"white\",\"minorgridcolor\":\"white\",\"startlinecolor\":\"#2a3f5f\"},\"type\":\"carpet\"}],\"table\":[{\"cells\":{\"fill\":{\"color\":\"#EBF0F8\"},\"line\":{\"color\":\"white\"}},\"header\":{\"fill\":{\"color\":\"#C8D4E3\"},\"line\":{\"color\":\"white\"}},\"type\":\"table\"}],\"barpolar\":[{\"marker\":{\"line\":{\"color\":\"#E5ECF6\",\"width\":0.5},\"pattern\":{\"fillmode\":\"overlay\",\"size\":10,\"solidity\":0.2}},\"type\":\"barpolar\"}],\"pie\":[{\"automargin\":true,\"type\":\"pie\"}]},\"layout\":{\"autotypenumbers\":\"strict\",\"colorway\":[\"#636efa\",\"#EF553B\",\"#00cc96\",\"#ab63fa\",\"#FFA15A\",\"#19d3f3\",\"#FF6692\",\"#B6E880\",\"#FF97FF\",\"#FECB52\"],\"font\":{\"color\":\"#2a3f5f\"},\"hovermode\":\"closest\",\"hoverlabel\":{\"align\":\"left\"},\"paper_bgcolor\":\"white\",\"plot_bgcolor\":\"#E5ECF6\",\"polar\":{\"bgcolor\":\"#E5ECF6\",\"angularaxis\":{\"gridcolor\":\"white\",\"linecolor\":\"white\",\"ticks\":\"\"},\"radialaxis\":{\"gridcolor\":\"white\",\"linecolor\":\"white\",\"ticks\":\"\"}},\"ternary\":{\"bgcolor\":\"#E5ECF6\",\"aaxis\":{\"gridcolor\":\"white\",\"linecolor\":\"white\",\"ticks\":\"\"},\"baxis\":{\"gridcolor\":\"white\",\"linecolor\":\"white\",\"ticks\":\"\"},\"caxis\":{\"gridcolor\":\"white\",\"linecolor\":\"white\",\"ticks\":\"\"}},\"coloraxis\":{\"colorbar\":{\"outlinewidth\":0,\"ticks\":\"\"}},\"colorscale\":{\"sequential\":[[0.0,\"#0d0887\"],[0.1111111111111111,\"#46039f\"],[0.2222222222222222,\"#7201a8\"],[0.3333333333333333,\"#9c179e\"],[0.4444444444444444,\"#bd3786\"],[0.5555555555555556,\"#d8576b\"],[0.6666666666666666,\"#ed7953\"],[0.7777777777777778,\"#fb9f3a\"],[0.8888888888888888,\"#fdca26\"],[1.0,\"#f0f921\"]],\"sequentialminus\":[[0.0,\"#0d0887\"],[0.1111111111111111,\"#46039f\"],[0.2222222222222222,\"#7201a8\"],[0.3333333333333333,\"#9c179e\"],[0.4444444444444444,\"#bd3786\"],[0.5555555555555556,\"#d8576b\"],[0.6666666666666666,\"#ed7953\"],[0.7777777777777778,\"#fb9f3a\"],[0.8888888888888888,\"#fdca26\"],[1.0,\"#f0f921\"]],\"diverging\":[[0,\"#8e0152\"],[0.1,\"#c51b7d\"],[0.2,\"#de77ae\"],[0.3,\"#f1b6da\"],[0.4,\"#fde0ef\"],[0.5,\"#f7f7f7\"],[0.6,\"#e6f5d0\"],[0.7,\"#b8e186\"],[0.8,\"#7fbc41\"],[0.9,\"#4d9221\"],[1,\"#276419\"]]},\"xaxis\":{\"gridcolor\":\"white\",\"linecolor\":\"white\",\"ticks\":\"\",\"title\":{\"standoff\":15},\"zerolinecolor\":\"white\",\"automargin\":true,\"zerolinewidth\":2},\"yaxis\":{\"gridcolor\":\"white\",\"linecolor\":\"white\",\"ticks\":\"\",\"title\":{\"standoff\":15},\"zerolinecolor\":\"white\",\"automargin\":true,\"zerolinewidth\":2},\"scene\":{\"xaxis\":{\"backgroundcolor\":\"#E5ECF6\",\"gridcolor\":\"white\",\"linecolor\":\"white\",\"showbackground\":true,\"ticks\":\"\",\"zerolinecolor\":\"white\",\"gridwidth\":2},\"yaxis\":{\"backgroundcolor\":\"#E5ECF6\",\"gridcolor\":\"white\",\"linecolor\":\"white\",\"showbackground\":true,\"ticks\":\"\",\"zerolinecolor\":\"white\",\"gridwidth\":2},\"zaxis\":{\"backgroundcolor\":\"#E5ECF6\",\"gridcolor\":\"white\",\"linecolor\":\"white\",\"showbackground\":true,\"ticks\":\"\",\"zerolinecolor\":\"white\",\"gridwidth\":2}},\"shapedefaults\":{\"line\":{\"color\":\"#2a3f5f\"}},\"annotationdefaults\":{\"arrowcolor\":\"#2a3f5f\",\"arrowhead\":0,\"arrowwidth\":1},\"geo\":{\"bgcolor\":\"white\",\"landcolor\":\"#E5ECF6\",\"subunitcolor\":\"white\",\"showland\":true,\"showlakes\":true,\"lakecolor\":\"white\"},\"title\":{\"x\":0.05},\"mapbox\":{\"style\":\"light\"}}},\"xaxis\":{\"anchor\":\"y\",\"domain\":[0.0,1.0],\"showgrid\":false,\"nticks\":9,\"tickangle\":-45},\"yaxis\":{\"anchor\":\"x\",\"domain\":[0.0,1.0],\"autorange\":\"reversed\",\"showgrid\":false,\"nticks\":9},\"coloraxis\":{\"colorscale\":[[0.0,\"rgb(103,0,31)\"],[0.1,\"rgb(178,24,43)\"],[0.2,\"rgb(214,96,77)\"],[0.3,\"rgb(244,165,130)\"],[0.4,\"rgb(253,219,199)\"],[0.5,\"rgb(247,247,247)\"],[0.6,\"rgb(209,229,240)\"],[0.7,\"rgb(146,197,222)\"],[0.8,\"rgb(67,147,195)\"],[0.9,\"rgb(33,102,172)\"],[1.0,\"rgb(5,48,97)\"]]},\"title\":{\"text\":\"Correlation Heatmap of Weather Variables\"}},                        {\"responsive\": true}                    ).then(function(){\n",
       "                            \n",
       "var gd = document.getElementById('1046f75b-315d-4f45-9eb9-d17f065b9292');\n",
       "var x = new MutationObserver(function (mutations, observer) {{\n",
       "        var display = window.getComputedStyle(gd).display;\n",
       "        if (!display || display === 'none') {{\n",
       "            console.log([gd, 'removed!']);\n",
       "            Plotly.purge(gd);\n",
       "            observer.disconnect();\n",
       "        }}\n",
       "}});\n",
       "\n",
       "// Listen for the removal of the full notebook cells\n",
       "var notebookContainer = gd.closest('#notebook-container');\n",
       "if (notebookContainer) {{\n",
       "    x.observe(notebookContainer, {childList: true});\n",
       "}}\n",
       "\n",
       "// Listen for the clearing of the current output cell\n",
       "var outputEl = gd.closest('.output');\n",
       "if (outputEl) {{\n",
       "    x.observe(outputEl, {childList: true});\n",
       "}}\n",
       "\n",
       "                        })                };                });            </script>        </div>"
      ]
     },
     "metadata": {},
     "output_type": "display_data"
    }
   ],
   "source": [
    "\n",
    "\n",
    "# --- 1. Time Series Plot for Temperature ---\n",
    "fig_temp = px.line(hourly_forecast_data, y='temperature_2m', title='Temperature Over Time')\n",
    "fig_temp.update_xaxes(\n",
    "    rangeselector=dict(\n",
    "        buttons=list([\n",
    "            dict(count=1, label=\"1m\", step=\"month\", stepmode=\"backward\"),\n",
    "            dict(count=6, label=\"6m\", step=\"month\", stepmode=\"backward\"),\n",
    "            dict(count=1, label=\"1y\", step=\"year\", stepmode=\"backward\"),\n",
    "            dict(step=\"all\")\n",
    "        ])\n",
    "    ),\n",
    "    rangeslider=dict(visible=True),\n",
    "    type=\"date\"\n",
    ")\n",
    "fig_temp.update_layout(hovermode=\"x unified\") \n",
    "fig_temp.show()\n",
    "\n",
    "\n",
    "fig_multi_ts = px.line(hourly_forecast_data, y=['temperature_2m', 'relative_humidity_2m', 'wind_speed_10m'],\n",
    "                       title='Weather Metrics Over Time')\n",
    "fig_multi_ts.update_xaxes(\n",
    "    rangeselector=dict(\n",
    "        buttons=list([\n",
    "            dict(count=1, label=\"1m\", step=\"month\", stepmode=\"backward\"),\n",
    "            dict(count=6, label=\"6m\", step=\"month\", stepmode=\"backward\"),\n",
    "            dict(count=1, label=\"1y\", step=\"year\", stepmode=\"backward\"),\n",
    "            dict(step=\"all\")\n",
    "        ])\n",
    "    ),\n",
    "    rangeslider=dict(visible=True),\n",
    "    type=\"date\"\n",
    ")\n",
    "fig_multi_ts.update_layout(hovermode=\"x unified\")\n",
    "fig_multi_ts.show()\n",
    "\n",
    "# --- 2. Bar Charts for Frequency of Weather Codes or Descriptions ---\n",
    "\n",
    "weather_desc_counts = hourly_forecast_data['weather_description'].value_counts().reset_index()\n",
    "weather_desc_counts.columns = ['weather_description', 'count']\n",
    "\n",
    "fig_desc_freq = px.bar(weather_desc_counts, x='weather_description', y='count',\n",
    "                       title='Frequency of Weather Descriptions',\n",
    "                       labels={'weather_description': 'Weather Description', 'count': 'Number of Occurrences'},\n",
    "                       color='count', \n",
    "                       color_continuous_scale=px.colors.sequential.Plasma) \n",
    "fig_desc_freq.update_xaxes(categoryarray=weather_desc_counts['weather_description'].tolist()) \n",
    "fig_desc_freq.show()\n",
    "\n",
    "# Frequency of 'weather_code' \n",
    "weather_code_counts = hourly_forecast_data['weather_code'].value_counts().reset_index()\n",
    "weather_code_counts.columns = ['weather_code', 'count']\n",
    "\n",
    "fig_code_freq = px.bar(weather_code_counts, x='weather_code', y='count',\n",
    "                       title='Frequency of Weather Codes',\n",
    "                       labels={'weather_code': 'Weather Code', 'count': 'Number of Occurrences'},\n",
    "                       color='count',\n",
    "                       color_continuous_scale=px.colors.sequential.Viridis)\n",
    "fig_code_freq.update_xaxes(categoryarray=weather_code_counts['weather_code'].tolist()) # Order by frequency\n",
    "fig_code_freq.show()\n",
    "\n",
    "# --- 3. Correlation Heatmap ---\n",
    "numerical_df = hourly_forecast_data.select_dtypes(include=['number'])\n",
    "numerical_df = numerical_df.drop(columns=['is_day', 'weather_code'], errors='ignore') \n",
    "correlation_matrix = numerical_df.corr()\n",
    "\n",
    "fig_corr = px.imshow(correlation_matrix,\n",
    "                     text_auto=True,  aspect=\"auto\",  color_continuous_scale=px.colors.sequential.RdBu,  title=\"Correlation Heatmap of Weather Variables\")\n",
    "\n",
    "fig_corr.update_layout(\n",
    "    xaxis_showgrid=False,\n",
    "    yaxis_showgrid=False,\n",
    "    xaxis_nticks=len(correlation_matrix.columns),\n",
    "    yaxis_nticks=len(correlation_matrix.index),\n",
    "    xaxis_tickangle=-45\n",
    ")\n",
    "\n",
    "fig_corr.show()"
   ]
  },
  {
   "cell_type": "raw",
   "id": "46d3e22b-166b-4b0e-b8c6-3c64addf7e17",
   "metadata": {},
   "source": [
    "### Tempreature is negatively correlated with humidity and positively correlated with shortwave radiation. \n",
    "### Rain is negatively correlated with surface pressure\n",
    "### Surface pressure is negatively correlated with relative humidity, rain and cloud cover"
   ]
  },
  {
   "cell_type": "code",
   "execution_count": 32,
   "id": "60b5fc8c-d039-41e1-8349-0ae036b52e14",
   "metadata": {},
   "outputs": [
    {
     "data": {
      "text/html": [
       "<div>\n",
       "<style scoped>\n",
       "    .dataframe tbody tr th:only-of-type {\n",
       "        vertical-align: middle;\n",
       "    }\n",
       "\n",
       "    .dataframe tbody tr th {\n",
       "        vertical-align: top;\n",
       "    }\n",
       "\n",
       "    .dataframe thead th {\n",
       "        text-align: right;\n",
       "    }\n",
       "</style>\n",
       "<table border=\"1\" class=\"dataframe\">\n",
       "  <thead>\n",
       "    <tr style=\"text-align: right;\">\n",
       "      <th></th>\n",
       "      <th>Unnamed: 0</th>\n",
       "      <th>temperature_2m</th>\n",
       "      <th>relative_humidity_2m</th>\n",
       "      <th>rain</th>\n",
       "      <th>wind_speed_10m</th>\n",
       "      <th>wind_direction_10m</th>\n",
       "      <th>surface_pressure</th>\n",
       "      <th>cloud_cover</th>\n",
       "      <th>shortwave_radiation</th>\n",
       "    </tr>\n",
       "  </thead>\n",
       "  <tbody>\n",
       "    <tr>\n",
       "      <th>Unnamed: 0</th>\n",
       "      <td>1.000000</td>\n",
       "      <td>-0.080275</td>\n",
       "      <td>0.639023</td>\n",
       "      <td>0.445186</td>\n",
       "      <td>0.139483</td>\n",
       "      <td>-0.221421</td>\n",
       "      <td>-0.896793</td>\n",
       "      <td>0.637291</td>\n",
       "      <td>-0.256998</td>\n",
       "    </tr>\n",
       "    <tr>\n",
       "      <th>temperature_2m</th>\n",
       "      <td>-0.080275</td>\n",
       "      <td>1.000000</td>\n",
       "      <td>-0.674061</td>\n",
       "      <td>-0.226016</td>\n",
       "      <td>0.167707</td>\n",
       "      <td>-0.006952</td>\n",
       "      <td>0.348030</td>\n",
       "      <td>-0.043715</td>\n",
       "      <td>0.581906</td>\n",
       "    </tr>\n",
       "    <tr>\n",
       "      <th>relative_humidity_2m</th>\n",
       "      <td>0.639023</td>\n",
       "      <td>-0.674061</td>\n",
       "      <td>1.000000</td>\n",
       "      <td>0.425630</td>\n",
       "      <td>0.240083</td>\n",
       "      <td>0.002487</td>\n",
       "      <td>-0.853353</td>\n",
       "      <td>0.452716</td>\n",
       "      <td>-0.508413</td>\n",
       "    </tr>\n",
       "    <tr>\n",
       "      <th>rain</th>\n",
       "      <td>0.445186</td>\n",
       "      <td>-0.226016</td>\n",
       "      <td>0.425630</td>\n",
       "      <td>1.000000</td>\n",
       "      <td>0.098911</td>\n",
       "      <td>-0.062755</td>\n",
       "      <td>-0.520429</td>\n",
       "      <td>0.151995</td>\n",
       "      <td>0.051001</td>\n",
       "    </tr>\n",
       "    <tr>\n",
       "      <th>wind_speed_10m</th>\n",
       "      <td>0.139483</td>\n",
       "      <td>0.167707</td>\n",
       "      <td>0.240083</td>\n",
       "      <td>0.098911</td>\n",
       "      <td>1.000000</td>\n",
       "      <td>0.291368</td>\n",
       "      <td>-0.296641</td>\n",
       "      <td>0.155871</td>\n",
       "      <td>-0.054245</td>\n",
       "    </tr>\n",
       "    <tr>\n",
       "      <th>wind_direction_10m</th>\n",
       "      <td>-0.221421</td>\n",
       "      <td>-0.006952</td>\n",
       "      <td>0.002487</td>\n",
       "      <td>-0.062755</td>\n",
       "      <td>0.291368</td>\n",
       "      <td>1.000000</td>\n",
       "      <td>0.024449</td>\n",
       "      <td>-0.448124</td>\n",
       "      <td>0.361492</td>\n",
       "    </tr>\n",
       "    <tr>\n",
       "      <th>surface_pressure</th>\n",
       "      <td>-0.896793</td>\n",
       "      <td>0.348030</td>\n",
       "      <td>-0.853353</td>\n",
       "      <td>-0.520429</td>\n",
       "      <td>-0.296641</td>\n",
       "      <td>0.024449</td>\n",
       "      <td>1.000000</td>\n",
       "      <td>-0.511752</td>\n",
       "      <td>0.364048</td>\n",
       "    </tr>\n",
       "    <tr>\n",
       "      <th>cloud_cover</th>\n",
       "      <td>0.637291</td>\n",
       "      <td>-0.043715</td>\n",
       "      <td>0.452716</td>\n",
       "      <td>0.151995</td>\n",
       "      <td>0.155871</td>\n",
       "      <td>-0.448124</td>\n",
       "      <td>-0.511752</td>\n",
       "      <td>1.000000</td>\n",
       "      <td>-0.435304</td>\n",
       "    </tr>\n",
       "    <tr>\n",
       "      <th>shortwave_radiation</th>\n",
       "      <td>-0.256998</td>\n",
       "      <td>0.581906</td>\n",
       "      <td>-0.508413</td>\n",
       "      <td>0.051001</td>\n",
       "      <td>-0.054245</td>\n",
       "      <td>0.361492</td>\n",
       "      <td>0.364048</td>\n",
       "      <td>-0.435304</td>\n",
       "      <td>1.000000</td>\n",
       "    </tr>\n",
       "  </tbody>\n",
       "</table>\n",
       "</div>"
      ],
      "text/plain": [
       "                      Unnamed: 0  temperature_2m  relative_humidity_2m  \\\n",
       "Unnamed: 0              1.000000       -0.080275              0.639023   \n",
       "temperature_2m         -0.080275        1.000000             -0.674061   \n",
       "relative_humidity_2m    0.639023       -0.674061              1.000000   \n",
       "rain                    0.445186       -0.226016              0.425630   \n",
       "wind_speed_10m          0.139483        0.167707              0.240083   \n",
       "wind_direction_10m     -0.221421       -0.006952              0.002487   \n",
       "surface_pressure       -0.896793        0.348030             -0.853353   \n",
       "cloud_cover             0.637291       -0.043715              0.452716   \n",
       "shortwave_radiation    -0.256998        0.581906             -0.508413   \n",
       "\n",
       "                          rain  wind_speed_10m  wind_direction_10m  \\\n",
       "Unnamed: 0            0.445186        0.139483           -0.221421   \n",
       "temperature_2m       -0.226016        0.167707           -0.006952   \n",
       "relative_humidity_2m  0.425630        0.240083            0.002487   \n",
       "rain                  1.000000        0.098911           -0.062755   \n",
       "wind_speed_10m        0.098911        1.000000            0.291368   \n",
       "wind_direction_10m   -0.062755        0.291368            1.000000   \n",
       "surface_pressure     -0.520429       -0.296641            0.024449   \n",
       "cloud_cover           0.151995        0.155871           -0.448124   \n",
       "shortwave_radiation   0.051001       -0.054245            0.361492   \n",
       "\n",
       "                      surface_pressure  cloud_cover  shortwave_radiation  \n",
       "Unnamed: 0                   -0.896793     0.637291            -0.256998  \n",
       "temperature_2m                0.348030    -0.043715             0.581906  \n",
       "relative_humidity_2m         -0.853353     0.452716            -0.508413  \n",
       "rain                         -0.520429     0.151995             0.051001  \n",
       "wind_speed_10m               -0.296641     0.155871            -0.054245  \n",
       "wind_direction_10m            0.024449    -0.448124             0.361492  \n",
       "surface_pressure              1.000000    -0.511752             0.364048  \n",
       "cloud_cover                  -0.511752     1.000000            -0.435304  \n",
       "shortwave_radiation           0.364048    -0.435304             1.000000  "
      ]
     },
     "execution_count": 32,
     "metadata": {},
     "output_type": "execute_result"
    }
   ],
   "source": [
    "correlation_matrix"
   ]
  },
  {
   "cell_type": "code",
   "execution_count": null,
   "id": "30fd24b8-daef-4f9b-9673-02530ee27601",
   "metadata": {},
   "outputs": [],
   "source": []
  },
  {
   "cell_type": "code",
   "execution_count": null,
   "id": "ea2ca750-a97f-4541-a6f7-463809fc1cb2",
   "metadata": {},
   "outputs": [],
   "source": []
  },
  {
   "cell_type": "code",
   "execution_count": null,
   "id": "0b93bbee-968a-4649-a075-f1810b41bd1e",
   "metadata": {},
   "outputs": [],
   "source": []
  },
  {
   "cell_type": "code",
   "execution_count": null,
   "id": "2eea6ae0-776f-4382-b756-93affa9eff09",
   "metadata": {},
   "outputs": [],
   "source": []
  }
 ],
 "metadata": {
  "kernelspec": {
   "display_name": "Python 3 (ipykernel)",
   "language": "python",
   "name": "python3"
  },
  "language_info": {
   "codemirror_mode": {
    "name": "ipython",
    "version": 3
   },
   "file_extension": ".py",
   "mimetype": "text/x-python",
   "name": "python",
   "nbconvert_exporter": "python",
   "pygments_lexer": "ipython3",
   "version": "3.8.8"
  }
 },
 "nbformat": 4,
 "nbformat_minor": 5
}
